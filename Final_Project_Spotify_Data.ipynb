{
  "nbformat": 4,
  "nbformat_minor": 0,
  "metadata": {
    "colab": {
      "name": "Final Project Spotify Data",
      "provenance": []
    },
    "kernelspec": {
      "name": "python3",
      "display_name": "Python 3"
    },
    "language_info": {
      "name": "python"
    }
  },
  "cells": [
    {
      "cell_type": "markdown",
      "source": [
        "Group Members:\n",
        "\n",
        "Aliya Gilley,\n",
        "Anushka Gami,\n",
        "J.A Canty"
      ],
      "metadata": {
        "id": "axuX6Fa6Ch_j"
      }
    },
    {
      "cell_type": "markdown",
      "source": [
        "## Spotify Through the Last Decade\n",
        "\n",
        "\n",
        "\n",
        "\n",
        "\n",
        "**Motivation**: Drawing from one of the more significant sources of data pertaining to the sorts of music people listen to, Spotify, we would like to understand music listening trends in the past decade. What music from the last decade truly deserved the label, \"popular\"? Born out of a general interest in music and the understanding that the pandemic (2020 -->) will have most likely have shifted overall music tastes (That's a project for another time).\n",
        "\n",
        "\n",
        "**Research Questions:**\n",
        "\n",
        "Descriptive Analytics Questions: \n",
        "What is the relationship between top genre and popularity? \\ How does this relationship between genre and popularity change as the years go on? This is interesting to explore if we're to determine what sorts of genres dominate the spotify charts.\n",
        "\n",
        "\n",
        "Inference Research Question:\n",
        "Is there an association Between Artist type and popularity of their song? Or, in other words, we would like to test whether the average popularity of a song is different based on it being produced by a solo, duo, trio, or band type artist for all songs on spotify within the last decade. This is interesting to explore since we would like to capture what modern taste in music is when it comes to the amount of people involved in the making of a song. Do we still like bands, as has been the case off and on since the 40s? Or are solo artists like elvis and micheal jackson still more of our flavor?\n",
        "\n",
        "\n",
        "\n",
        "Linear Regression Research Questions:\n",
        "Is there a linear relationship between popularity and energy, bpm, value, and duration in the sample? What about in the relevant population? This is relevant for a more acoustic analysis of the songs presented in the dataset. Though we're not music majors, we surmise there existing a relationship between the liveliness of a song and it's tempo.\n",
        "\n",
        "\n",
        "Logistic Regression Research questions:\n",
        "Is there a linear relationship between the log-odds of the success level of artist type (solo vs. duo/trio/group) and dB, value, acousticness, and duration?\n",
        "This is important to investigate for the same reasons mentioned in our linear regression research questions.\n",
        "\n",
        "\n",
        "\n",
        "\n",
        "\n",
        "\n",
        "\n",
        "**Dataset:**\n",
        "\n",
        "\n",
        "\n",
        "\n",
        "\n",
        "\n",
        "\n"
      ],
      "metadata": {
        "id": "JClB1sKYKax5"
      }
    },
    {
      "cell_type": "code",
      "execution_count": 43,
      "metadata": {
        "id": "CHjNtrbYNpqt"
      },
      "outputs": [],
      "source": [
        "import pandas as pd\n",
        "import numpy as np\n",
        "import scipy.stats as st\n",
        "from scipy.stats import norm, t\n",
        "import matplotlib.pyplot as plt\n",
        "import seaborn as sns\n",
        "import statsmodels.api as sm\n",
        "import statsmodels.formula.api as smf\n",
        "from sklearn.linear_model import LogisticRegression\n",
        "from sklearn.model_selection import train_test_split\n",
        "from sklearn.metrics import confusion_matrix, roc_curve, roc_auc_score"
      ]
    },
    {
      "cell_type": "code",
      "source": [
        "df = pd.read_excel(\"Spotify 2010 - 2019 Top 100 Songs.xlsx\")\n",
        "df"
      ],
      "metadata": {
        "colab": {
          "base_uri": "https://localhost:8080/",
          "height": 2333
        },
        "id": "q4hK5XKBOls4",
        "outputId": "3ee591e2-c589-4c9c-e84e-8a9500dbb27a"
      },
      "execution_count": 44,
      "outputs": [
        {
          "output_type": "execute_result",
          "data": {
            "text/plain": [
              "                                             title              artist  \\\n",
              "0                    STARSTRUKK (feat. Katy Perry)               3OH!3   \n",
              "1                      My First Kiss (feat. Ke$ha)               3OH!3   \n",
              "2                                  I Need A Dollar          Aloe Blacc   \n",
              "3    Airplanes (feat. Hayley Williams of Paramore)               B.o.B   \n",
              "4                Nothin' on You (feat. Bruno Mars)               B.o.B   \n",
              "..                                             ...                 ...   \n",
              "995                                     SICKO MODE        Travis Scott   \n",
              "996                                      EARFQUAKE  Tyler, The Creator   \n",
              "997                      Boasty (feat. Idris Elba)               Wiley   \n",
              "998                    Strike a Pose (feat. Aitch)    Young T & Bugsey   \n",
              "999      The London (feat. J. Cole & Travis Scott)          Young Thug   \n",
              "\n",
              "       top genre  year released       added  bpm  nrgy  dnce  dB  live  val  \\\n",
              "0      dance pop           2009  2022‑02‑17  140    81    61  -6    23   23   \n",
              "1      dance pop           2010  2022‑02‑17  138    89    68  -4    36   83   \n",
              "2       pop soul           2010  2022‑02‑17   95    48    84  -7     9   96   \n",
              "3    atl hip hop           2010  2022‑02‑17   93    87    66  -4     4   38   \n",
              "4    atl hip hop           2010  2022‑02‑17  104    85    69  -6     9   74   \n",
              "..           ...            ...         ...  ...   ...   ...  ..   ...  ...   \n",
              "995      hip hop           2018  2020‑06‑22  155    73    83  -4    12   45   \n",
              "996      hip hop           2019  2020‑06‑22   80    50    55  -9    80   41   \n",
              "997        grime           2019  2020‑06‑22  103    77    89  -5     9   46   \n",
              "998    afroswing           2019  2020‑08‑20  138    58    53  -6    10   59   \n",
              "999  atl hip hop           2019  2020‑06‑22   98    59    80  -7    13   18   \n",
              "\n",
              "     dur  acous  spch  pop  top year artist type  \n",
              "0    203      0     6   70      2010         Duo  \n",
              "1    192      1     8   68      2010         Duo  \n",
              "2    243     20     3   72      2010        Solo  \n",
              "3    180     11    12   80      2010        Solo  \n",
              "4    268     39     5   79      2010        Solo  \n",
              "..   ...    ...   ...  ...       ...         ...  \n",
              "995  313      1    22   86      2019        Solo  \n",
              "996  190     23     7   85      2019        Solo  \n",
              "997  177      1     7   68      2019        Solo  \n",
              "998  214      1    10   67      2019         Duo  \n",
              "999  200      2    15   75      2019        Solo  \n",
              "\n",
              "[1000 rows x 17 columns]"
            ],
            "text/html": [
              "\n",
              "  <div id=\"df-b4875d94-3212-494d-acce-689136b6a4b3\">\n",
              "    <div class=\"colab-df-container\">\n",
              "      <div>\n",
              "<style scoped>\n",
              "    .dataframe tbody tr th:only-of-type {\n",
              "        vertical-align: middle;\n",
              "    }\n",
              "\n",
              "    .dataframe tbody tr th {\n",
              "        vertical-align: top;\n",
              "    }\n",
              "\n",
              "    .dataframe thead th {\n",
              "        text-align: right;\n",
              "    }\n",
              "</style>\n",
              "<table border=\"1\" class=\"dataframe\">\n",
              "  <thead>\n",
              "    <tr style=\"text-align: right;\">\n",
              "      <th></th>\n",
              "      <th>title</th>\n",
              "      <th>artist</th>\n",
              "      <th>top genre</th>\n",
              "      <th>year released</th>\n",
              "      <th>added</th>\n",
              "      <th>bpm</th>\n",
              "      <th>nrgy</th>\n",
              "      <th>dnce</th>\n",
              "      <th>dB</th>\n",
              "      <th>live</th>\n",
              "      <th>val</th>\n",
              "      <th>dur</th>\n",
              "      <th>acous</th>\n",
              "      <th>spch</th>\n",
              "      <th>pop</th>\n",
              "      <th>top year</th>\n",
              "      <th>artist type</th>\n",
              "    </tr>\n",
              "  </thead>\n",
              "  <tbody>\n",
              "    <tr>\n",
              "      <th>0</th>\n",
              "      <td>STARSTRUKK (feat. Katy Perry)</td>\n",
              "      <td>3OH!3</td>\n",
              "      <td>dance pop</td>\n",
              "      <td>2009</td>\n",
              "      <td>2022‑02‑17</td>\n",
              "      <td>140</td>\n",
              "      <td>81</td>\n",
              "      <td>61</td>\n",
              "      <td>-6</td>\n",
              "      <td>23</td>\n",
              "      <td>23</td>\n",
              "      <td>203</td>\n",
              "      <td>0</td>\n",
              "      <td>6</td>\n",
              "      <td>70</td>\n",
              "      <td>2010</td>\n",
              "      <td>Duo</td>\n",
              "    </tr>\n",
              "    <tr>\n",
              "      <th>1</th>\n",
              "      <td>My First Kiss (feat. Ke$ha)</td>\n",
              "      <td>3OH!3</td>\n",
              "      <td>dance pop</td>\n",
              "      <td>2010</td>\n",
              "      <td>2022‑02‑17</td>\n",
              "      <td>138</td>\n",
              "      <td>89</td>\n",
              "      <td>68</td>\n",
              "      <td>-4</td>\n",
              "      <td>36</td>\n",
              "      <td>83</td>\n",
              "      <td>192</td>\n",
              "      <td>1</td>\n",
              "      <td>8</td>\n",
              "      <td>68</td>\n",
              "      <td>2010</td>\n",
              "      <td>Duo</td>\n",
              "    </tr>\n",
              "    <tr>\n",
              "      <th>2</th>\n",
              "      <td>I Need A Dollar</td>\n",
              "      <td>Aloe Blacc</td>\n",
              "      <td>pop soul</td>\n",
              "      <td>2010</td>\n",
              "      <td>2022‑02‑17</td>\n",
              "      <td>95</td>\n",
              "      <td>48</td>\n",
              "      <td>84</td>\n",
              "      <td>-7</td>\n",
              "      <td>9</td>\n",
              "      <td>96</td>\n",
              "      <td>243</td>\n",
              "      <td>20</td>\n",
              "      <td>3</td>\n",
              "      <td>72</td>\n",
              "      <td>2010</td>\n",
              "      <td>Solo</td>\n",
              "    </tr>\n",
              "    <tr>\n",
              "      <th>3</th>\n",
              "      <td>Airplanes (feat. Hayley Williams of Paramore)</td>\n",
              "      <td>B.o.B</td>\n",
              "      <td>atl hip hop</td>\n",
              "      <td>2010</td>\n",
              "      <td>2022‑02‑17</td>\n",
              "      <td>93</td>\n",
              "      <td>87</td>\n",
              "      <td>66</td>\n",
              "      <td>-4</td>\n",
              "      <td>4</td>\n",
              "      <td>38</td>\n",
              "      <td>180</td>\n",
              "      <td>11</td>\n",
              "      <td>12</td>\n",
              "      <td>80</td>\n",
              "      <td>2010</td>\n",
              "      <td>Solo</td>\n",
              "    </tr>\n",
              "    <tr>\n",
              "      <th>4</th>\n",
              "      <td>Nothin' on You (feat. Bruno Mars)</td>\n",
              "      <td>B.o.B</td>\n",
              "      <td>atl hip hop</td>\n",
              "      <td>2010</td>\n",
              "      <td>2022‑02‑17</td>\n",
              "      <td>104</td>\n",
              "      <td>85</td>\n",
              "      <td>69</td>\n",
              "      <td>-6</td>\n",
              "      <td>9</td>\n",
              "      <td>74</td>\n",
              "      <td>268</td>\n",
              "      <td>39</td>\n",
              "      <td>5</td>\n",
              "      <td>79</td>\n",
              "      <td>2010</td>\n",
              "      <td>Solo</td>\n",
              "    </tr>\n",
              "    <tr>\n",
              "      <th>...</th>\n",
              "      <td>...</td>\n",
              "      <td>...</td>\n",
              "      <td>...</td>\n",
              "      <td>...</td>\n",
              "      <td>...</td>\n",
              "      <td>...</td>\n",
              "      <td>...</td>\n",
              "      <td>...</td>\n",
              "      <td>...</td>\n",
              "      <td>...</td>\n",
              "      <td>...</td>\n",
              "      <td>...</td>\n",
              "      <td>...</td>\n",
              "      <td>...</td>\n",
              "      <td>...</td>\n",
              "      <td>...</td>\n",
              "      <td>...</td>\n",
              "    </tr>\n",
              "    <tr>\n",
              "      <th>995</th>\n",
              "      <td>SICKO MODE</td>\n",
              "      <td>Travis Scott</td>\n",
              "      <td>hip hop</td>\n",
              "      <td>2018</td>\n",
              "      <td>2020‑06‑22</td>\n",
              "      <td>155</td>\n",
              "      <td>73</td>\n",
              "      <td>83</td>\n",
              "      <td>-4</td>\n",
              "      <td>12</td>\n",
              "      <td>45</td>\n",
              "      <td>313</td>\n",
              "      <td>1</td>\n",
              "      <td>22</td>\n",
              "      <td>86</td>\n",
              "      <td>2019</td>\n",
              "      <td>Solo</td>\n",
              "    </tr>\n",
              "    <tr>\n",
              "      <th>996</th>\n",
              "      <td>EARFQUAKE</td>\n",
              "      <td>Tyler, The Creator</td>\n",
              "      <td>hip hop</td>\n",
              "      <td>2019</td>\n",
              "      <td>2020‑06‑22</td>\n",
              "      <td>80</td>\n",
              "      <td>50</td>\n",
              "      <td>55</td>\n",
              "      <td>-9</td>\n",
              "      <td>80</td>\n",
              "      <td>41</td>\n",
              "      <td>190</td>\n",
              "      <td>23</td>\n",
              "      <td>7</td>\n",
              "      <td>85</td>\n",
              "      <td>2019</td>\n",
              "      <td>Solo</td>\n",
              "    </tr>\n",
              "    <tr>\n",
              "      <th>997</th>\n",
              "      <td>Boasty (feat. Idris Elba)</td>\n",
              "      <td>Wiley</td>\n",
              "      <td>grime</td>\n",
              "      <td>2019</td>\n",
              "      <td>2020‑06‑22</td>\n",
              "      <td>103</td>\n",
              "      <td>77</td>\n",
              "      <td>89</td>\n",
              "      <td>-5</td>\n",
              "      <td>9</td>\n",
              "      <td>46</td>\n",
              "      <td>177</td>\n",
              "      <td>1</td>\n",
              "      <td>7</td>\n",
              "      <td>68</td>\n",
              "      <td>2019</td>\n",
              "      <td>Solo</td>\n",
              "    </tr>\n",
              "    <tr>\n",
              "      <th>998</th>\n",
              "      <td>Strike a Pose (feat. Aitch)</td>\n",
              "      <td>Young T &amp; Bugsey</td>\n",
              "      <td>afroswing</td>\n",
              "      <td>2019</td>\n",
              "      <td>2020‑08‑20</td>\n",
              "      <td>138</td>\n",
              "      <td>58</td>\n",
              "      <td>53</td>\n",
              "      <td>-6</td>\n",
              "      <td>10</td>\n",
              "      <td>59</td>\n",
              "      <td>214</td>\n",
              "      <td>1</td>\n",
              "      <td>10</td>\n",
              "      <td>67</td>\n",
              "      <td>2019</td>\n",
              "      <td>Duo</td>\n",
              "    </tr>\n",
              "    <tr>\n",
              "      <th>999</th>\n",
              "      <td>The London (feat. J. Cole &amp; Travis Scott)</td>\n",
              "      <td>Young Thug</td>\n",
              "      <td>atl hip hop</td>\n",
              "      <td>2019</td>\n",
              "      <td>2020‑06‑22</td>\n",
              "      <td>98</td>\n",
              "      <td>59</td>\n",
              "      <td>80</td>\n",
              "      <td>-7</td>\n",
              "      <td>13</td>\n",
              "      <td>18</td>\n",
              "      <td>200</td>\n",
              "      <td>2</td>\n",
              "      <td>15</td>\n",
              "      <td>75</td>\n",
              "      <td>2019</td>\n",
              "      <td>Solo</td>\n",
              "    </tr>\n",
              "  </tbody>\n",
              "</table>\n",
              "<p>1000 rows × 17 columns</p>\n",
              "</div>\n",
              "      <button class=\"colab-df-convert\" onclick=\"convertToInteractive('df-b4875d94-3212-494d-acce-689136b6a4b3')\"\n",
              "              title=\"Convert this dataframe to an interactive table.\"\n",
              "              style=\"display:none;\">\n",
              "        \n",
              "  <svg xmlns=\"http://www.w3.org/2000/svg\" height=\"24px\"viewBox=\"0 0 24 24\"\n",
              "       width=\"24px\">\n",
              "    <path d=\"M0 0h24v24H0V0z\" fill=\"none\"/>\n",
              "    <path d=\"M18.56 5.44l.94 2.06.94-2.06 2.06-.94-2.06-.94-.94-2.06-.94 2.06-2.06.94zm-11 1L8.5 8.5l.94-2.06 2.06-.94-2.06-.94L8.5 2.5l-.94 2.06-2.06.94zm10 10l.94 2.06.94-2.06 2.06-.94-2.06-.94-.94-2.06-.94 2.06-2.06.94z\"/><path d=\"M17.41 7.96l-1.37-1.37c-.4-.4-.92-.59-1.43-.59-.52 0-1.04.2-1.43.59L10.3 9.45l-7.72 7.72c-.78.78-.78 2.05 0 2.83L4 21.41c.39.39.9.59 1.41.59.51 0 1.02-.2 1.41-.59l7.78-7.78 2.81-2.81c.8-.78.8-2.07 0-2.86zM5.41 20L4 18.59l7.72-7.72 1.47 1.35L5.41 20z\"/>\n",
              "  </svg>\n",
              "      </button>\n",
              "      \n",
              "  <style>\n",
              "    .colab-df-container {\n",
              "      display:flex;\n",
              "      flex-wrap:wrap;\n",
              "      gap: 12px;\n",
              "    }\n",
              "\n",
              "    .colab-df-convert {\n",
              "      background-color: #E8F0FE;\n",
              "      border: none;\n",
              "      border-radius: 50%;\n",
              "      cursor: pointer;\n",
              "      display: none;\n",
              "      fill: #1967D2;\n",
              "      height: 32px;\n",
              "      padding: 0 0 0 0;\n",
              "      width: 32px;\n",
              "    }\n",
              "\n",
              "    .colab-df-convert:hover {\n",
              "      background-color: #E2EBFA;\n",
              "      box-shadow: 0px 1px 2px rgba(60, 64, 67, 0.3), 0px 1px 3px 1px rgba(60, 64, 67, 0.15);\n",
              "      fill: #174EA6;\n",
              "    }\n",
              "\n",
              "    [theme=dark] .colab-df-convert {\n",
              "      background-color: #3B4455;\n",
              "      fill: #D2E3FC;\n",
              "    }\n",
              "\n",
              "    [theme=dark] .colab-df-convert:hover {\n",
              "      background-color: #434B5C;\n",
              "      box-shadow: 0px 1px 3px 1px rgba(0, 0, 0, 0.15);\n",
              "      filter: drop-shadow(0px 1px 2px rgba(0, 0, 0, 0.3));\n",
              "      fill: #FFFFFF;\n",
              "    }\n",
              "  </style>\n",
              "\n",
              "      <script>\n",
              "        const buttonEl =\n",
              "          document.querySelector('#df-b4875d94-3212-494d-acce-689136b6a4b3 button.colab-df-convert');\n",
              "        buttonEl.style.display =\n",
              "          google.colab.kernel.accessAllowed ? 'block' : 'none';\n",
              "\n",
              "        async function convertToInteractive(key) {\n",
              "          const element = document.querySelector('#df-b4875d94-3212-494d-acce-689136b6a4b3');\n",
              "          const dataTable =\n",
              "            await google.colab.kernel.invokeFunction('convertToInteractive',\n",
              "                                                     [key], {});\n",
              "          if (!dataTable) return;\n",
              "\n",
              "          const docLinkHtml = 'Like what you see? Visit the ' +\n",
              "            '<a target=\"_blank\" href=https://colab.research.google.com/notebooks/data_table.ipynb>data table notebook</a>'\n",
              "            + ' to learn more about interactive tables.';\n",
              "          element.innerHTML = '';\n",
              "          dataTable['output_type'] = 'display_data';\n",
              "          await google.colab.output.renderOutput(dataTable, element);\n",
              "          const docLink = document.createElement('div');\n",
              "          docLink.innerHTML = docLinkHtml;\n",
              "          element.appendChild(docLink);\n",
              "        }\n",
              "      </script>\n",
              "    </div>\n",
              "  </div>\n",
              "  "
            ]
          },
          "metadata": {},
          "execution_count": 44
        }
      ]
    },
    {
      "cell_type": "code",
      "source": [
        "df.shape"
      ],
      "metadata": {
        "colab": {
          "base_uri": "https://localhost:8080/"
        },
        "id": "Ojca3QdgPHpV",
        "outputId": "f705c01c-efd0-4777-852e-417a8b658afc"
      },
      "execution_count": 45,
      "outputs": [
        {
          "output_type": "execute_result",
          "data": {
            "text/plain": [
              "(1000, 17)"
            ]
          },
          "metadata": {},
          "execution_count": 45
        }
      ]
    },
    {
      "cell_type": "code",
      "source": [
        "df.dtypes "
      ],
      "metadata": {
        "id": "gb4j2Lp3SjTd",
        "colab": {
          "base_uri": "https://localhost:8080/"
        },
        "outputId": "5036156e-8307-4792-f4aa-f5ffa78a0ef1"
      },
      "execution_count": 46,
      "outputs": [
        {
          "output_type": "execute_result",
          "data": {
            "text/plain": [
              "title            object\n",
              "artist           object\n",
              "top genre        object\n",
              "year released     int64\n",
              "added            object\n",
              "bpm               int64\n",
              "nrgy              int64\n",
              "dnce              int64\n",
              "dB                int64\n",
              "live              int64\n",
              "val               int64\n",
              "dur               int64\n",
              "acous             int64\n",
              "spch              int64\n",
              "pop               int64\n",
              "top year          int64\n",
              "artist type      object\n",
              "dtype: object"
            ]
          },
          "metadata": {},
          "execution_count": 46
        }
      ]
    },
    {
      "cell_type": "code",
      "source": [
        "\n",
        "df['artist type'].unique()"
      ],
      "metadata": {
        "id": "H0TfnzyTS81v",
        "colab": {
          "base_uri": "https://localhost:8080/"
        },
        "outputId": "98580beb-0707-4294-a112-00939758cb6d"
      },
      "execution_count": 47,
      "outputs": [
        {
          "output_type": "execute_result",
          "data": {
            "text/plain": [
              "array(['Duo', 'Solo', 'Band/Group', 'Trio'], dtype=object)"
            ]
          },
          "metadata": {},
          "execution_count": 47
        }
      ]
    },
    {
      "cell_type": "markdown",
      "source": [
        "\n",
        "\n",
        "The spotify hits dataset contains the following variables for previous hits listed from 2010-2019.\n",
        "\n",
        "title: the song's title\n",
        "\n",
        "artist: the song's artist\n",
        "\n",
        "top genre: the genre of the song\n",
        "\n",
        "year released: year song was released\n",
        "\n",
        "added: day song was added to Spotify's Top Hits\n",
        "\n",
        "bpm: beats per minute - the tempo of the song\n",
        "\n",
        "nrgy: energy - how energetic the song is\n",
        "\n",
        "dnce: danceability - how easy it is to dance to the song\n",
        "\n",
        "dB: decibel - how loud the song is\n",
        "\n",
        "live: how likely the song is a live recording\n",
        "\n",
        "val: how positive the mood of the song is\n",
        "\n",
        "dur: duration of song\n",
        "\n",
        "acous: how acoustic song is\n",
        "\n",
        "spch: the more the song is focused on spoken word\n",
        "\n",
        "pop: popularity of the song (not ranking)\n",
        "\n",
        "top year: year the song was a top hit\n",
        "\n",
        "artist type: tells if an artist is a solo, duo, trio, or a band"
      ],
      "metadata": {
        "id": "bf0M_0odP3aw"
      }
    },
    {
      "cell_type": "markdown",
      "source": [
        "## Descriptive Analytics\n",
        "\n",
        "\n",
        "What is the relationship between top genre and popularity? \\ How does this relationship between genre and popularity change as the years go on? "
      ],
      "metadata": {
        "id": "OgPUSkKAtSI8"
      }
    },
    {
      "cell_type": "code",
      "source": [
        "genre_avg_pop = df[['top genre', 'pop']].groupby(['top genre']).mean().astype(\"category\").sort_values(by='pop', ascending=True).reset_index()\n",
        "genre_avg_pop"
      ],
      "metadata": {
        "colab": {
          "base_uri": "https://localhost:8080/",
          "height": 424
        },
        "id": "1K9T11gztNLW",
        "outputId": "b838575b-af96-4ff4-b519-b25e03db6449"
      },
      "execution_count": 48,
      "outputs": [
        {
          "output_type": "execute_result",
          "data": {
            "text/plain": [
              "            top genre   pop\n",
              "0         dutch house  42.0\n",
              "1    deep disco house  44.0\n",
              "2       electro house  45.0\n",
              "3              lilith  46.0\n",
              "4      dancefloor dnb  49.0\n",
              "..                ...   ...\n",
              "127           dfw rap  84.3\n",
              "128  australian psych  88.0\n",
              "129       bedroom pop  88.0\n",
              "130     dark clubbing  89.0\n",
              "131         chill pop  94.0\n",
              "\n",
              "[132 rows x 2 columns]"
            ],
            "text/html": [
              "\n",
              "  <div id=\"df-45c63817-64f9-4196-a21d-89d4c7226863\">\n",
              "    <div class=\"colab-df-container\">\n",
              "      <div>\n",
              "<style scoped>\n",
              "    .dataframe tbody tr th:only-of-type {\n",
              "        vertical-align: middle;\n",
              "    }\n",
              "\n",
              "    .dataframe tbody tr th {\n",
              "        vertical-align: top;\n",
              "    }\n",
              "\n",
              "    .dataframe thead th {\n",
              "        text-align: right;\n",
              "    }\n",
              "</style>\n",
              "<table border=\"1\" class=\"dataframe\">\n",
              "  <thead>\n",
              "    <tr style=\"text-align: right;\">\n",
              "      <th></th>\n",
              "      <th>top genre</th>\n",
              "      <th>pop</th>\n",
              "    </tr>\n",
              "  </thead>\n",
              "  <tbody>\n",
              "    <tr>\n",
              "      <th>0</th>\n",
              "      <td>dutch house</td>\n",
              "      <td>42.0</td>\n",
              "    </tr>\n",
              "    <tr>\n",
              "      <th>1</th>\n",
              "      <td>deep disco house</td>\n",
              "      <td>44.0</td>\n",
              "    </tr>\n",
              "    <tr>\n",
              "      <th>2</th>\n",
              "      <td>electro house</td>\n",
              "      <td>45.0</td>\n",
              "    </tr>\n",
              "    <tr>\n",
              "      <th>3</th>\n",
              "      <td>lilith</td>\n",
              "      <td>46.0</td>\n",
              "    </tr>\n",
              "    <tr>\n",
              "      <th>4</th>\n",
              "      <td>dancefloor dnb</td>\n",
              "      <td>49.0</td>\n",
              "    </tr>\n",
              "    <tr>\n",
              "      <th>...</th>\n",
              "      <td>...</td>\n",
              "      <td>...</td>\n",
              "    </tr>\n",
              "    <tr>\n",
              "      <th>127</th>\n",
              "      <td>dfw rap</td>\n",
              "      <td>84.3</td>\n",
              "    </tr>\n",
              "    <tr>\n",
              "      <th>128</th>\n",
              "      <td>australian psych</td>\n",
              "      <td>88.0</td>\n",
              "    </tr>\n",
              "    <tr>\n",
              "      <th>129</th>\n",
              "      <td>bedroom pop</td>\n",
              "      <td>88.0</td>\n",
              "    </tr>\n",
              "    <tr>\n",
              "      <th>130</th>\n",
              "      <td>dark clubbing</td>\n",
              "      <td>89.0</td>\n",
              "    </tr>\n",
              "    <tr>\n",
              "      <th>131</th>\n",
              "      <td>chill pop</td>\n",
              "      <td>94.0</td>\n",
              "    </tr>\n",
              "  </tbody>\n",
              "</table>\n",
              "<p>132 rows × 2 columns</p>\n",
              "</div>\n",
              "      <button class=\"colab-df-convert\" onclick=\"convertToInteractive('df-45c63817-64f9-4196-a21d-89d4c7226863')\"\n",
              "              title=\"Convert this dataframe to an interactive table.\"\n",
              "              style=\"display:none;\">\n",
              "        \n",
              "  <svg xmlns=\"http://www.w3.org/2000/svg\" height=\"24px\"viewBox=\"0 0 24 24\"\n",
              "       width=\"24px\">\n",
              "    <path d=\"M0 0h24v24H0V0z\" fill=\"none\"/>\n",
              "    <path d=\"M18.56 5.44l.94 2.06.94-2.06 2.06-.94-2.06-.94-.94-2.06-.94 2.06-2.06.94zm-11 1L8.5 8.5l.94-2.06 2.06-.94-2.06-.94L8.5 2.5l-.94 2.06-2.06.94zm10 10l.94 2.06.94-2.06 2.06-.94-2.06-.94-.94-2.06-.94 2.06-2.06.94z\"/><path d=\"M17.41 7.96l-1.37-1.37c-.4-.4-.92-.59-1.43-.59-.52 0-1.04.2-1.43.59L10.3 9.45l-7.72 7.72c-.78.78-.78 2.05 0 2.83L4 21.41c.39.39.9.59 1.41.59.51 0 1.02-.2 1.41-.59l7.78-7.78 2.81-2.81c.8-.78.8-2.07 0-2.86zM5.41 20L4 18.59l7.72-7.72 1.47 1.35L5.41 20z\"/>\n",
              "  </svg>\n",
              "      </button>\n",
              "      \n",
              "  <style>\n",
              "    .colab-df-container {\n",
              "      display:flex;\n",
              "      flex-wrap:wrap;\n",
              "      gap: 12px;\n",
              "    }\n",
              "\n",
              "    .colab-df-convert {\n",
              "      background-color: #E8F0FE;\n",
              "      border: none;\n",
              "      border-radius: 50%;\n",
              "      cursor: pointer;\n",
              "      display: none;\n",
              "      fill: #1967D2;\n",
              "      height: 32px;\n",
              "      padding: 0 0 0 0;\n",
              "      width: 32px;\n",
              "    }\n",
              "\n",
              "    .colab-df-convert:hover {\n",
              "      background-color: #E2EBFA;\n",
              "      box-shadow: 0px 1px 2px rgba(60, 64, 67, 0.3), 0px 1px 3px 1px rgba(60, 64, 67, 0.15);\n",
              "      fill: #174EA6;\n",
              "    }\n",
              "\n",
              "    [theme=dark] .colab-df-convert {\n",
              "      background-color: #3B4455;\n",
              "      fill: #D2E3FC;\n",
              "    }\n",
              "\n",
              "    [theme=dark] .colab-df-convert:hover {\n",
              "      background-color: #434B5C;\n",
              "      box-shadow: 0px 1px 3px 1px rgba(0, 0, 0, 0.15);\n",
              "      filter: drop-shadow(0px 1px 2px rgba(0, 0, 0, 0.3));\n",
              "      fill: #FFFFFF;\n",
              "    }\n",
              "  </style>\n",
              "\n",
              "      <script>\n",
              "        const buttonEl =\n",
              "          document.querySelector('#df-45c63817-64f9-4196-a21d-89d4c7226863 button.colab-df-convert');\n",
              "        buttonEl.style.display =\n",
              "          google.colab.kernel.accessAllowed ? 'block' : 'none';\n",
              "\n",
              "        async function convertToInteractive(key) {\n",
              "          const element = document.querySelector('#df-45c63817-64f9-4196-a21d-89d4c7226863');\n",
              "          const dataTable =\n",
              "            await google.colab.kernel.invokeFunction('convertToInteractive',\n",
              "                                                     [key], {});\n",
              "          if (!dataTable) return;\n",
              "\n",
              "          const docLinkHtml = 'Like what you see? Visit the ' +\n",
              "            '<a target=\"_blank\" href=https://colab.research.google.com/notebooks/data_table.ipynb>data table notebook</a>'\n",
              "            + ' to learn more about interactive tables.';\n",
              "          element.innerHTML = '';\n",
              "          dataTable['output_type'] = 'display_data';\n",
              "          await google.colab.output.renderOutput(dataTable, element);\n",
              "          const docLink = document.createElement('div');\n",
              "          docLink.innerHTML = docLinkHtml;\n",
              "          element.appendChild(docLink);\n",
              "        }\n",
              "      </script>\n",
              "    </div>\n",
              "  </div>\n",
              "  "
            ]
          },
          "metadata": {},
          "execution_count": 48
        }
      ]
    },
    {
      "cell_type": "code",
      "source": [
        "top_5_genres = genre_avg_pop.sort_values('pop', ascending=False)[:5]\n",
        "top_5_genres"
      ],
      "metadata": {
        "colab": {
          "base_uri": "https://localhost:8080/",
          "height": 206
        },
        "id": "vWKwc7imtU-E",
        "outputId": "f84f1415-fe06-4069-a78c-7ff341db10f4"
      },
      "execution_count": 49,
      "outputs": [
        {
          "output_type": "execute_result",
          "data": {
            "text/plain": [
              "            top genre   pop\n",
              "131         chill pop  94.0\n",
              "130     dark clubbing  89.0\n",
              "129       bedroom pop  88.0\n",
              "128  australian psych  88.0\n",
              "127           dfw rap  84.3"
            ],
            "text/html": [
              "\n",
              "  <div id=\"df-c9fe6224-08b6-4243-9bd5-1450fd3dd338\">\n",
              "    <div class=\"colab-df-container\">\n",
              "      <div>\n",
              "<style scoped>\n",
              "    .dataframe tbody tr th:only-of-type {\n",
              "        vertical-align: middle;\n",
              "    }\n",
              "\n",
              "    .dataframe tbody tr th {\n",
              "        vertical-align: top;\n",
              "    }\n",
              "\n",
              "    .dataframe thead th {\n",
              "        text-align: right;\n",
              "    }\n",
              "</style>\n",
              "<table border=\"1\" class=\"dataframe\">\n",
              "  <thead>\n",
              "    <tr style=\"text-align: right;\">\n",
              "      <th></th>\n",
              "      <th>top genre</th>\n",
              "      <th>pop</th>\n",
              "    </tr>\n",
              "  </thead>\n",
              "  <tbody>\n",
              "    <tr>\n",
              "      <th>131</th>\n",
              "      <td>chill pop</td>\n",
              "      <td>94.0</td>\n",
              "    </tr>\n",
              "    <tr>\n",
              "      <th>130</th>\n",
              "      <td>dark clubbing</td>\n",
              "      <td>89.0</td>\n",
              "    </tr>\n",
              "    <tr>\n",
              "      <th>129</th>\n",
              "      <td>bedroom pop</td>\n",
              "      <td>88.0</td>\n",
              "    </tr>\n",
              "    <tr>\n",
              "      <th>128</th>\n",
              "      <td>australian psych</td>\n",
              "      <td>88.0</td>\n",
              "    </tr>\n",
              "    <tr>\n",
              "      <th>127</th>\n",
              "      <td>dfw rap</td>\n",
              "      <td>84.3</td>\n",
              "    </tr>\n",
              "  </tbody>\n",
              "</table>\n",
              "</div>\n",
              "      <button class=\"colab-df-convert\" onclick=\"convertToInteractive('df-c9fe6224-08b6-4243-9bd5-1450fd3dd338')\"\n",
              "              title=\"Convert this dataframe to an interactive table.\"\n",
              "              style=\"display:none;\">\n",
              "        \n",
              "  <svg xmlns=\"http://www.w3.org/2000/svg\" height=\"24px\"viewBox=\"0 0 24 24\"\n",
              "       width=\"24px\">\n",
              "    <path d=\"M0 0h24v24H0V0z\" fill=\"none\"/>\n",
              "    <path d=\"M18.56 5.44l.94 2.06.94-2.06 2.06-.94-2.06-.94-.94-2.06-.94 2.06-2.06.94zm-11 1L8.5 8.5l.94-2.06 2.06-.94-2.06-.94L8.5 2.5l-.94 2.06-2.06.94zm10 10l.94 2.06.94-2.06 2.06-.94-2.06-.94-.94-2.06-.94 2.06-2.06.94z\"/><path d=\"M17.41 7.96l-1.37-1.37c-.4-.4-.92-.59-1.43-.59-.52 0-1.04.2-1.43.59L10.3 9.45l-7.72 7.72c-.78.78-.78 2.05 0 2.83L4 21.41c.39.39.9.59 1.41.59.51 0 1.02-.2 1.41-.59l7.78-7.78 2.81-2.81c.8-.78.8-2.07 0-2.86zM5.41 20L4 18.59l7.72-7.72 1.47 1.35L5.41 20z\"/>\n",
              "  </svg>\n",
              "      </button>\n",
              "      \n",
              "  <style>\n",
              "    .colab-df-container {\n",
              "      display:flex;\n",
              "      flex-wrap:wrap;\n",
              "      gap: 12px;\n",
              "    }\n",
              "\n",
              "    .colab-df-convert {\n",
              "      background-color: #E8F0FE;\n",
              "      border: none;\n",
              "      border-radius: 50%;\n",
              "      cursor: pointer;\n",
              "      display: none;\n",
              "      fill: #1967D2;\n",
              "      height: 32px;\n",
              "      padding: 0 0 0 0;\n",
              "      width: 32px;\n",
              "    }\n",
              "\n",
              "    .colab-df-convert:hover {\n",
              "      background-color: #E2EBFA;\n",
              "      box-shadow: 0px 1px 2px rgba(60, 64, 67, 0.3), 0px 1px 3px 1px rgba(60, 64, 67, 0.15);\n",
              "      fill: #174EA6;\n",
              "    }\n",
              "\n",
              "    [theme=dark] .colab-df-convert {\n",
              "      background-color: #3B4455;\n",
              "      fill: #D2E3FC;\n",
              "    }\n",
              "\n",
              "    [theme=dark] .colab-df-convert:hover {\n",
              "      background-color: #434B5C;\n",
              "      box-shadow: 0px 1px 3px 1px rgba(0, 0, 0, 0.15);\n",
              "      filter: drop-shadow(0px 1px 2px rgba(0, 0, 0, 0.3));\n",
              "      fill: #FFFFFF;\n",
              "    }\n",
              "  </style>\n",
              "\n",
              "      <script>\n",
              "        const buttonEl =\n",
              "          document.querySelector('#df-c9fe6224-08b6-4243-9bd5-1450fd3dd338 button.colab-df-convert');\n",
              "        buttonEl.style.display =\n",
              "          google.colab.kernel.accessAllowed ? 'block' : 'none';\n",
              "\n",
              "        async function convertToInteractive(key) {\n",
              "          const element = document.querySelector('#df-c9fe6224-08b6-4243-9bd5-1450fd3dd338');\n",
              "          const dataTable =\n",
              "            await google.colab.kernel.invokeFunction('convertToInteractive',\n",
              "                                                     [key], {});\n",
              "          if (!dataTable) return;\n",
              "\n",
              "          const docLinkHtml = 'Like what you see? Visit the ' +\n",
              "            '<a target=\"_blank\" href=https://colab.research.google.com/notebooks/data_table.ipynb>data table notebook</a>'\n",
              "            + ' to learn more about interactive tables.';\n",
              "          element.innerHTML = '';\n",
              "          dataTable['output_type'] = 'display_data';\n",
              "          await google.colab.output.renderOutput(dataTable, element);\n",
              "          const docLink = document.createElement('div');\n",
              "          docLink.innerHTML = docLinkHtml;\n",
              "          element.appendChild(docLink);\n",
              "        }\n",
              "      </script>\n",
              "    </div>\n",
              "  </div>\n",
              "  "
            ]
          },
          "metadata": {},
          "execution_count": 49
        }
      ]
    },
    {
      "cell_type": "code",
      "source": [
        "bottom_5_genres = genre_avg_pop.sort_values('pop', ascending=True)[:5]\n",
        "bottom_5_genres"
      ],
      "metadata": {
        "colab": {
          "base_uri": "https://localhost:8080/",
          "height": 206
        },
        "id": "l21-E8qbtWTT",
        "outputId": "1388c165-37d9-4815-9c6f-89a058dec294"
      },
      "execution_count": 50,
      "outputs": [
        {
          "output_type": "execute_result",
          "data": {
            "text/plain": [
              "          top genre   pop\n",
              "0       dutch house  42.0\n",
              "1  deep disco house  44.0\n",
              "2     electro house  45.0\n",
              "3            lilith  46.0\n",
              "4    dancefloor dnb  49.0"
            ],
            "text/html": [
              "\n",
              "  <div id=\"df-50dd8677-a6f5-4dff-aac6-754b3e51485a\">\n",
              "    <div class=\"colab-df-container\">\n",
              "      <div>\n",
              "<style scoped>\n",
              "    .dataframe tbody tr th:only-of-type {\n",
              "        vertical-align: middle;\n",
              "    }\n",
              "\n",
              "    .dataframe tbody tr th {\n",
              "        vertical-align: top;\n",
              "    }\n",
              "\n",
              "    .dataframe thead th {\n",
              "        text-align: right;\n",
              "    }\n",
              "</style>\n",
              "<table border=\"1\" class=\"dataframe\">\n",
              "  <thead>\n",
              "    <tr style=\"text-align: right;\">\n",
              "      <th></th>\n",
              "      <th>top genre</th>\n",
              "      <th>pop</th>\n",
              "    </tr>\n",
              "  </thead>\n",
              "  <tbody>\n",
              "    <tr>\n",
              "      <th>0</th>\n",
              "      <td>dutch house</td>\n",
              "      <td>42.0</td>\n",
              "    </tr>\n",
              "    <tr>\n",
              "      <th>1</th>\n",
              "      <td>deep disco house</td>\n",
              "      <td>44.0</td>\n",
              "    </tr>\n",
              "    <tr>\n",
              "      <th>2</th>\n",
              "      <td>electro house</td>\n",
              "      <td>45.0</td>\n",
              "    </tr>\n",
              "    <tr>\n",
              "      <th>3</th>\n",
              "      <td>lilith</td>\n",
              "      <td>46.0</td>\n",
              "    </tr>\n",
              "    <tr>\n",
              "      <th>4</th>\n",
              "      <td>dancefloor dnb</td>\n",
              "      <td>49.0</td>\n",
              "    </tr>\n",
              "  </tbody>\n",
              "</table>\n",
              "</div>\n",
              "      <button class=\"colab-df-convert\" onclick=\"convertToInteractive('df-50dd8677-a6f5-4dff-aac6-754b3e51485a')\"\n",
              "              title=\"Convert this dataframe to an interactive table.\"\n",
              "              style=\"display:none;\">\n",
              "        \n",
              "  <svg xmlns=\"http://www.w3.org/2000/svg\" height=\"24px\"viewBox=\"0 0 24 24\"\n",
              "       width=\"24px\">\n",
              "    <path d=\"M0 0h24v24H0V0z\" fill=\"none\"/>\n",
              "    <path d=\"M18.56 5.44l.94 2.06.94-2.06 2.06-.94-2.06-.94-.94-2.06-.94 2.06-2.06.94zm-11 1L8.5 8.5l.94-2.06 2.06-.94-2.06-.94L8.5 2.5l-.94 2.06-2.06.94zm10 10l.94 2.06.94-2.06 2.06-.94-2.06-.94-.94-2.06-.94 2.06-2.06.94z\"/><path d=\"M17.41 7.96l-1.37-1.37c-.4-.4-.92-.59-1.43-.59-.52 0-1.04.2-1.43.59L10.3 9.45l-7.72 7.72c-.78.78-.78 2.05 0 2.83L4 21.41c.39.39.9.59 1.41.59.51 0 1.02-.2 1.41-.59l7.78-7.78 2.81-2.81c.8-.78.8-2.07 0-2.86zM5.41 20L4 18.59l7.72-7.72 1.47 1.35L5.41 20z\"/>\n",
              "  </svg>\n",
              "      </button>\n",
              "      \n",
              "  <style>\n",
              "    .colab-df-container {\n",
              "      display:flex;\n",
              "      flex-wrap:wrap;\n",
              "      gap: 12px;\n",
              "    }\n",
              "\n",
              "    .colab-df-convert {\n",
              "      background-color: #E8F0FE;\n",
              "      border: none;\n",
              "      border-radius: 50%;\n",
              "      cursor: pointer;\n",
              "      display: none;\n",
              "      fill: #1967D2;\n",
              "      height: 32px;\n",
              "      padding: 0 0 0 0;\n",
              "      width: 32px;\n",
              "    }\n",
              "\n",
              "    .colab-df-convert:hover {\n",
              "      background-color: #E2EBFA;\n",
              "      box-shadow: 0px 1px 2px rgba(60, 64, 67, 0.3), 0px 1px 3px 1px rgba(60, 64, 67, 0.15);\n",
              "      fill: #174EA6;\n",
              "    }\n",
              "\n",
              "    [theme=dark] .colab-df-convert {\n",
              "      background-color: #3B4455;\n",
              "      fill: #D2E3FC;\n",
              "    }\n",
              "\n",
              "    [theme=dark] .colab-df-convert:hover {\n",
              "      background-color: #434B5C;\n",
              "      box-shadow: 0px 1px 3px 1px rgba(0, 0, 0, 0.15);\n",
              "      filter: drop-shadow(0px 1px 2px rgba(0, 0, 0, 0.3));\n",
              "      fill: #FFFFFF;\n",
              "    }\n",
              "  </style>\n",
              "\n",
              "      <script>\n",
              "        const buttonEl =\n",
              "          document.querySelector('#df-50dd8677-a6f5-4dff-aac6-754b3e51485a button.colab-df-convert');\n",
              "        buttonEl.style.display =\n",
              "          google.colab.kernel.accessAllowed ? 'block' : 'none';\n",
              "\n",
              "        async function convertToInteractive(key) {\n",
              "          const element = document.querySelector('#df-50dd8677-a6f5-4dff-aac6-754b3e51485a');\n",
              "          const dataTable =\n",
              "            await google.colab.kernel.invokeFunction('convertToInteractive',\n",
              "                                                     [key], {});\n",
              "          if (!dataTable) return;\n",
              "\n",
              "          const docLinkHtml = 'Like what you see? Visit the ' +\n",
              "            '<a target=\"_blank\" href=https://colab.research.google.com/notebooks/data_table.ipynb>data table notebook</a>'\n",
              "            + ' to learn more about interactive tables.';\n",
              "          element.innerHTML = '';\n",
              "          dataTable['output_type'] = 'display_data';\n",
              "          await google.colab.output.renderOutput(dataTable, element);\n",
              "          const docLink = document.createElement('div');\n",
              "          docLink.innerHTML = docLinkHtml;\n",
              "          element.appendChild(docLink);\n",
              "        }\n",
              "      </script>\n",
              "    </div>\n",
              "  </div>\n",
              "  "
            ]
          },
          "metadata": {},
          "execution_count": 50
        }
      ]
    },
    {
      "cell_type": "code",
      "source": [
        "genre_avg_pop['pop'] = genre_avg_pop['pop'].astype(int)"
      ],
      "metadata": {
        "id": "uAcv-Oo3tYE9"
      },
      "execution_count": 51,
      "outputs": []
    },
    {
      "cell_type": "code",
      "source": [
        "frames = [top_5_genres, bottom_5_genres]\n",
        "result = pd.concat(frames)\n",
        "display(result)"
      ],
      "metadata": {
        "colab": {
          "base_uri": "https://localhost:8080/",
          "height": 363
        },
        "id": "2-b0_x_PtZev",
        "outputId": "97820eb1-0e41-4c79-a8e9-f2f4685a32ed"
      },
      "execution_count": 52,
      "outputs": [
        {
          "output_type": "display_data",
          "data": {
            "text/plain": [
              "            top genre   pop\n",
              "131         chill pop  94.0\n",
              "130     dark clubbing  89.0\n",
              "129       bedroom pop  88.0\n",
              "128  australian psych  88.0\n",
              "127           dfw rap  84.3\n",
              "0         dutch house  42.0\n",
              "1    deep disco house  44.0\n",
              "2       electro house  45.0\n",
              "3              lilith  46.0\n",
              "4      dancefloor dnb  49.0"
            ],
            "text/html": [
              "\n",
              "  <div id=\"df-6f6e3f3e-e197-4348-9ce0-06274b909572\">\n",
              "    <div class=\"colab-df-container\">\n",
              "      <div>\n",
              "<style scoped>\n",
              "    .dataframe tbody tr th:only-of-type {\n",
              "        vertical-align: middle;\n",
              "    }\n",
              "\n",
              "    .dataframe tbody tr th {\n",
              "        vertical-align: top;\n",
              "    }\n",
              "\n",
              "    .dataframe thead th {\n",
              "        text-align: right;\n",
              "    }\n",
              "</style>\n",
              "<table border=\"1\" class=\"dataframe\">\n",
              "  <thead>\n",
              "    <tr style=\"text-align: right;\">\n",
              "      <th></th>\n",
              "      <th>top genre</th>\n",
              "      <th>pop</th>\n",
              "    </tr>\n",
              "  </thead>\n",
              "  <tbody>\n",
              "    <tr>\n",
              "      <th>131</th>\n",
              "      <td>chill pop</td>\n",
              "      <td>94.0</td>\n",
              "    </tr>\n",
              "    <tr>\n",
              "      <th>130</th>\n",
              "      <td>dark clubbing</td>\n",
              "      <td>89.0</td>\n",
              "    </tr>\n",
              "    <tr>\n",
              "      <th>129</th>\n",
              "      <td>bedroom pop</td>\n",
              "      <td>88.0</td>\n",
              "    </tr>\n",
              "    <tr>\n",
              "      <th>128</th>\n",
              "      <td>australian psych</td>\n",
              "      <td>88.0</td>\n",
              "    </tr>\n",
              "    <tr>\n",
              "      <th>127</th>\n",
              "      <td>dfw rap</td>\n",
              "      <td>84.3</td>\n",
              "    </tr>\n",
              "    <tr>\n",
              "      <th>0</th>\n",
              "      <td>dutch house</td>\n",
              "      <td>42.0</td>\n",
              "    </tr>\n",
              "    <tr>\n",
              "      <th>1</th>\n",
              "      <td>deep disco house</td>\n",
              "      <td>44.0</td>\n",
              "    </tr>\n",
              "    <tr>\n",
              "      <th>2</th>\n",
              "      <td>electro house</td>\n",
              "      <td>45.0</td>\n",
              "    </tr>\n",
              "    <tr>\n",
              "      <th>3</th>\n",
              "      <td>lilith</td>\n",
              "      <td>46.0</td>\n",
              "    </tr>\n",
              "    <tr>\n",
              "      <th>4</th>\n",
              "      <td>dancefloor dnb</td>\n",
              "      <td>49.0</td>\n",
              "    </tr>\n",
              "  </tbody>\n",
              "</table>\n",
              "</div>\n",
              "      <button class=\"colab-df-convert\" onclick=\"convertToInteractive('df-6f6e3f3e-e197-4348-9ce0-06274b909572')\"\n",
              "              title=\"Convert this dataframe to an interactive table.\"\n",
              "              style=\"display:none;\">\n",
              "        \n",
              "  <svg xmlns=\"http://www.w3.org/2000/svg\" height=\"24px\"viewBox=\"0 0 24 24\"\n",
              "       width=\"24px\">\n",
              "    <path d=\"M0 0h24v24H0V0z\" fill=\"none\"/>\n",
              "    <path d=\"M18.56 5.44l.94 2.06.94-2.06 2.06-.94-2.06-.94-.94-2.06-.94 2.06-2.06.94zm-11 1L8.5 8.5l.94-2.06 2.06-.94-2.06-.94L8.5 2.5l-.94 2.06-2.06.94zm10 10l.94 2.06.94-2.06 2.06-.94-2.06-.94-.94-2.06-.94 2.06-2.06.94z\"/><path d=\"M17.41 7.96l-1.37-1.37c-.4-.4-.92-.59-1.43-.59-.52 0-1.04.2-1.43.59L10.3 9.45l-7.72 7.72c-.78.78-.78 2.05 0 2.83L4 21.41c.39.39.9.59 1.41.59.51 0 1.02-.2 1.41-.59l7.78-7.78 2.81-2.81c.8-.78.8-2.07 0-2.86zM5.41 20L4 18.59l7.72-7.72 1.47 1.35L5.41 20z\"/>\n",
              "  </svg>\n",
              "      </button>\n",
              "      \n",
              "  <style>\n",
              "    .colab-df-container {\n",
              "      display:flex;\n",
              "      flex-wrap:wrap;\n",
              "      gap: 12px;\n",
              "    }\n",
              "\n",
              "    .colab-df-convert {\n",
              "      background-color: #E8F0FE;\n",
              "      border: none;\n",
              "      border-radius: 50%;\n",
              "      cursor: pointer;\n",
              "      display: none;\n",
              "      fill: #1967D2;\n",
              "      height: 32px;\n",
              "      padding: 0 0 0 0;\n",
              "      width: 32px;\n",
              "    }\n",
              "\n",
              "    .colab-df-convert:hover {\n",
              "      background-color: #E2EBFA;\n",
              "      box-shadow: 0px 1px 2px rgba(60, 64, 67, 0.3), 0px 1px 3px 1px rgba(60, 64, 67, 0.15);\n",
              "      fill: #174EA6;\n",
              "    }\n",
              "\n",
              "    [theme=dark] .colab-df-convert {\n",
              "      background-color: #3B4455;\n",
              "      fill: #D2E3FC;\n",
              "    }\n",
              "\n",
              "    [theme=dark] .colab-df-convert:hover {\n",
              "      background-color: #434B5C;\n",
              "      box-shadow: 0px 1px 3px 1px rgba(0, 0, 0, 0.15);\n",
              "      filter: drop-shadow(0px 1px 2px rgba(0, 0, 0, 0.3));\n",
              "      fill: #FFFFFF;\n",
              "    }\n",
              "  </style>\n",
              "\n",
              "      <script>\n",
              "        const buttonEl =\n",
              "          document.querySelector('#df-6f6e3f3e-e197-4348-9ce0-06274b909572 button.colab-df-convert');\n",
              "        buttonEl.style.display =\n",
              "          google.colab.kernel.accessAllowed ? 'block' : 'none';\n",
              "\n",
              "        async function convertToInteractive(key) {\n",
              "          const element = document.querySelector('#df-6f6e3f3e-e197-4348-9ce0-06274b909572');\n",
              "          const dataTable =\n",
              "            await google.colab.kernel.invokeFunction('convertToInteractive',\n",
              "                                                     [key], {});\n",
              "          if (!dataTable) return;\n",
              "\n",
              "          const docLinkHtml = 'Like what you see? Visit the ' +\n",
              "            '<a target=\"_blank\" href=https://colab.research.google.com/notebooks/data_table.ipynb>data table notebook</a>'\n",
              "            + ' to learn more about interactive tables.';\n",
              "          element.innerHTML = '';\n",
              "          dataTable['output_type'] = 'display_data';\n",
              "          await google.colab.output.renderOutput(dataTable, element);\n",
              "          const docLink = document.createElement('div');\n",
              "          docLink.innerHTML = docLinkHtml;\n",
              "          element.appendChild(docLink);\n",
              "        }\n",
              "      </script>\n",
              "    </div>\n",
              "  </div>\n",
              "  "
            ]
          },
          "metadata": {}
        }
      ]
    },
    {
      "cell_type": "code",
      "source": [
        "result.describe()"
      ],
      "metadata": {
        "colab": {
          "base_uri": "https://localhost:8080/",
          "height": 175
        },
        "id": "l84IKdVcPPg6",
        "outputId": "b6d5c1c3-10c9-4daf-e12b-3c0c8432808e"
      },
      "execution_count": 53,
      "outputs": [
        {
          "output_type": "execute_result",
          "data": {
            "text/plain": [
              "        top genre   pop\n",
              "count          10  10.0\n",
              "unique         10   9.0\n",
              "top     chill pop  88.0\n",
              "freq            1   2.0"
            ],
            "text/html": [
              "\n",
              "  <div id=\"df-9ecf31cb-bbec-4d35-92f7-59ae099171f1\">\n",
              "    <div class=\"colab-df-container\">\n",
              "      <div>\n",
              "<style scoped>\n",
              "    .dataframe tbody tr th:only-of-type {\n",
              "        vertical-align: middle;\n",
              "    }\n",
              "\n",
              "    .dataframe tbody tr th {\n",
              "        vertical-align: top;\n",
              "    }\n",
              "\n",
              "    .dataframe thead th {\n",
              "        text-align: right;\n",
              "    }\n",
              "</style>\n",
              "<table border=\"1\" class=\"dataframe\">\n",
              "  <thead>\n",
              "    <tr style=\"text-align: right;\">\n",
              "      <th></th>\n",
              "      <th>top genre</th>\n",
              "      <th>pop</th>\n",
              "    </tr>\n",
              "  </thead>\n",
              "  <tbody>\n",
              "    <tr>\n",
              "      <th>count</th>\n",
              "      <td>10</td>\n",
              "      <td>10.0</td>\n",
              "    </tr>\n",
              "    <tr>\n",
              "      <th>unique</th>\n",
              "      <td>10</td>\n",
              "      <td>9.0</td>\n",
              "    </tr>\n",
              "    <tr>\n",
              "      <th>top</th>\n",
              "      <td>chill pop</td>\n",
              "      <td>88.0</td>\n",
              "    </tr>\n",
              "    <tr>\n",
              "      <th>freq</th>\n",
              "      <td>1</td>\n",
              "      <td>2.0</td>\n",
              "    </tr>\n",
              "  </tbody>\n",
              "</table>\n",
              "</div>\n",
              "      <button class=\"colab-df-convert\" onclick=\"convertToInteractive('df-9ecf31cb-bbec-4d35-92f7-59ae099171f1')\"\n",
              "              title=\"Convert this dataframe to an interactive table.\"\n",
              "              style=\"display:none;\">\n",
              "        \n",
              "  <svg xmlns=\"http://www.w3.org/2000/svg\" height=\"24px\"viewBox=\"0 0 24 24\"\n",
              "       width=\"24px\">\n",
              "    <path d=\"M0 0h24v24H0V0z\" fill=\"none\"/>\n",
              "    <path d=\"M18.56 5.44l.94 2.06.94-2.06 2.06-.94-2.06-.94-.94-2.06-.94 2.06-2.06.94zm-11 1L8.5 8.5l.94-2.06 2.06-.94-2.06-.94L8.5 2.5l-.94 2.06-2.06.94zm10 10l.94 2.06.94-2.06 2.06-.94-2.06-.94-.94-2.06-.94 2.06-2.06.94z\"/><path d=\"M17.41 7.96l-1.37-1.37c-.4-.4-.92-.59-1.43-.59-.52 0-1.04.2-1.43.59L10.3 9.45l-7.72 7.72c-.78.78-.78 2.05 0 2.83L4 21.41c.39.39.9.59 1.41.59.51 0 1.02-.2 1.41-.59l7.78-7.78 2.81-2.81c.8-.78.8-2.07 0-2.86zM5.41 20L4 18.59l7.72-7.72 1.47 1.35L5.41 20z\"/>\n",
              "  </svg>\n",
              "      </button>\n",
              "      \n",
              "  <style>\n",
              "    .colab-df-container {\n",
              "      display:flex;\n",
              "      flex-wrap:wrap;\n",
              "      gap: 12px;\n",
              "    }\n",
              "\n",
              "    .colab-df-convert {\n",
              "      background-color: #E8F0FE;\n",
              "      border: none;\n",
              "      border-radius: 50%;\n",
              "      cursor: pointer;\n",
              "      display: none;\n",
              "      fill: #1967D2;\n",
              "      height: 32px;\n",
              "      padding: 0 0 0 0;\n",
              "      width: 32px;\n",
              "    }\n",
              "\n",
              "    .colab-df-convert:hover {\n",
              "      background-color: #E2EBFA;\n",
              "      box-shadow: 0px 1px 2px rgba(60, 64, 67, 0.3), 0px 1px 3px 1px rgba(60, 64, 67, 0.15);\n",
              "      fill: #174EA6;\n",
              "    }\n",
              "\n",
              "    [theme=dark] .colab-df-convert {\n",
              "      background-color: #3B4455;\n",
              "      fill: #D2E3FC;\n",
              "    }\n",
              "\n",
              "    [theme=dark] .colab-df-convert:hover {\n",
              "      background-color: #434B5C;\n",
              "      box-shadow: 0px 1px 3px 1px rgba(0, 0, 0, 0.15);\n",
              "      filter: drop-shadow(0px 1px 2px rgba(0, 0, 0, 0.3));\n",
              "      fill: #FFFFFF;\n",
              "    }\n",
              "  </style>\n",
              "\n",
              "      <script>\n",
              "        const buttonEl =\n",
              "          document.querySelector('#df-9ecf31cb-bbec-4d35-92f7-59ae099171f1 button.colab-df-convert');\n",
              "        buttonEl.style.display =\n",
              "          google.colab.kernel.accessAllowed ? 'block' : 'none';\n",
              "\n",
              "        async function convertToInteractive(key) {\n",
              "          const element = document.querySelector('#df-9ecf31cb-bbec-4d35-92f7-59ae099171f1');\n",
              "          const dataTable =\n",
              "            await google.colab.kernel.invokeFunction('convertToInteractive',\n",
              "                                                     [key], {});\n",
              "          if (!dataTable) return;\n",
              "\n",
              "          const docLinkHtml = 'Like what you see? Visit the ' +\n",
              "            '<a target=\"_blank\" href=https://colab.research.google.com/notebooks/data_table.ipynb>data table notebook</a>'\n",
              "            + ' to learn more about interactive tables.';\n",
              "          element.innerHTML = '';\n",
              "          dataTable['output_type'] = 'display_data';\n",
              "          await google.colab.output.renderOutput(dataTable, element);\n",
              "          const docLink = document.createElement('div');\n",
              "          docLink.innerHTML = docLinkHtml;\n",
              "          element.appendChild(docLink);\n",
              "        }\n",
              "      </script>\n",
              "    </div>\n",
              "  </div>\n",
              "  "
            ]
          },
          "metadata": {},
          "execution_count": 53
        }
      ]
    },
    {
      "cell_type": "code",
      "source": [
        "\n",
        "ax = sns.barplot(x = 'top genre', y = genre_avg_pop[\"pop\"], data = result)\n",
        "plt.xlabel('Genre')\n",
        "plt.ylabel('Popularity out of 100')\n",
        "plt.title('Popularity for top & bottom 5 Genres for Top 100 Spotify Songs from 2010-19')\n",
        "ax.set_xticklabels(ax.get_xticklabels(), rotation=40, ha=\"right\")\n",
        "plt.tight_layout()\n",
        "plt.show()"
      ],
      "metadata": {
        "colab": {
          "base_uri": "https://localhost:8080/",
          "height": 297
        },
        "id": "iAWxlwsdta4h",
        "outputId": "809b2dab-dce8-41f1-fb37-7d47b8d06999"
      },
      "execution_count": 54,
      "outputs": [
        {
          "output_type": "display_data",
          "data": {
            "text/plain": [
              "<Figure size 432x288 with 1 Axes>"
            ],
            "image/png": "[encoded data removed]"
          },
          "metadata": {
            "needs_background": "light"
          }
        }
      ]
    },
    {
      "cell_type": "markdown",
      "source": [
        "pop and club music seemed to take the cake for most popular within the last decade, with more obscure genres like lilith falling short."
      ],
      "metadata": {
        "id": "dPR7nI4sARco"
      }
    },
    {
      "cell_type": "markdown",
      "source": [
        "# Inference\n",
        "\n",
        "\n",
        "\n",
        "Inference Research Question: Is there an association Between Artist type and popularity of their song? Or, in other words, we would like to test whether the average popularity of a song is different based on it being produced by a solo, duo, trio, or band type artist for all songs on spotify within the last decade.\n",
        "\n",
        "\n",
        " "
      ],
      "metadata": {
        "id": "c0zyn2SKvcXG"
      }
    },
    {
      "cell_type": "markdown",
      "source": [
        " Will this generalize to the population, that is, the totality of the data? (100 most popular songs on spotify in the last decade)"
      ],
      "metadata": {
        "id": "GTxnF_mRaCxl"
      }
    },
    {
      "cell_type": "code",
      "source": [
        "sns.boxplot(x = 'artist type', y = 'pop', data = df) \n",
        "plt.title('Relationship between artist type and song popularity') \n",
        "plt.ylabel('song popularity') \n",
        "plt.show() "
      ],
      "metadata": {
        "colab": {
          "base_uri": "https://localhost:8080/",
          "height": 295
        },
        "id": "V8UA63UQw3Ye",
        "outputId": "4f06b272-8508-4d8a-bbc2-900e23e1b246"
      },
      "execution_count": 55,
      "outputs": [
        {
          "output_type": "display_data",
          "data": {
            "text/plain": [
              "<Figure size 432x288 with 1 Axes>"
            ],
            "image/png": "[encoded data removed]"
          },
          "metadata": {
            "needs_background": "light"
          }
        }
      ]
    },
    {
      "cell_type": "markdown",
      "source": [
        "At a surface-level view, we can reap some insights from our data. It seems that the most popular songs were played by bands. Will this remain true with further analysis? let's fit our model.\n",
        "\n"
      ],
      "metadata": {
        "id": "_yaXRScIyEy0"
      }
    },
    {
      "cell_type": "code",
      "source": [
        "df.columns = df.columns.str.replace(\" \",\"_\")\n",
        "results = smf.ols('pop ~ artist_type', data = df).fit()\n",
        "results.summary()"
      ],
      "metadata": {
        "colab": {
          "base_uri": "https://localhost:8080/",
          "height": 483
        },
        "id": "gsOCbX0oz8bx",
        "outputId": "3c2684ca-bee8-4144-9df2-55760fa8b59e"
      },
      "execution_count": 73,
      "outputs": [
        {
          "output_type": "execute_result",
          "data": {
            "text/plain": [
              "<class 'statsmodels.iolib.summary.Summary'>\n",
              "\"\"\"\n",
              "                            OLS Regression Results                            \n",
              "==============================================================================\n",
              "Dep. Variable:                    pop   R-squared:                       0.010\n",
              "Model:                            OLS   Adj. R-squared:                  0.007\n",
              "Method:                 Least Squares   F-statistic:                     3.378\n",
              "Date:                Wed, 04 May 2022   Prob (F-statistic):             0.0178\n",
              "Time:                        11:25:45   Log-Likelihood:                -3589.0\n",
              "No. Observations:                1000   AIC:                             7186.\n",
              "Df Residuals:                     996   BIC:                             7206.\n",
              "Df Model:                           3                                         \n",
              "Covariance Type:            nonrobust                                         \n",
              "=======================================================================================\n",
              "                          coef    std err          t      P>|t|      [0.025      0.975]\n",
              "---------------------------------------------------------------------------------------\n",
              "Intercept              75.4083      0.675    111.696      0.000      74.083      76.733\n",
              "artist_type[T.Duo]     -3.2797      1.247     -2.629      0.009      -5.728      -0.832\n",
              "artist_type[T.Solo]    -0.3775      0.748     -0.505      0.614      -1.844       1.089\n",
              "artist_type[T.Trio]    -4.3314      2.526     -1.715      0.087      -9.288       0.626\n",
              "==============================================================================\n",
              "Omnibus:                      145.047   Durbin-Watson:                   1.704\n",
              "Prob(Omnibus):                  0.000   Jarque-Bera (JB):              241.575\n",
              "Skew:                          -0.936   Prob(JB):                     3.49e-53\n",
              "Kurtosis:                       4.515   Cond. No.                         11.8\n",
              "==============================================================================\n",
              "\n",
              "Warnings:\n",
              "[1] Standard Errors assume that the covariance matrix of the errors is correctly specified.\n",
              "\"\"\""
            ],
            "text/html": [
              "<table class=\"simpletable\">\n",
              "<caption>OLS Regression Results</caption>\n",
              "<tr>\n",
              "  <th>Dep. Variable:</th>           <td>pop</td>       <th>  R-squared:         </th> <td>   0.010</td>\n",
              "</tr>\n",
              "<tr>\n",
              "  <th>Model:</th>                   <td>OLS</td>       <th>  Adj. R-squared:    </th> <td>   0.007</td>\n",
              "</tr>\n",
              "<tr>\n",
              "  <th>Method:</th>             <td>Least Squares</td>  <th>  F-statistic:       </th> <td>   3.378</td>\n",
              "</tr>\n",
              "<tr>\n",
              "  <th>Date:</th>             <td>Wed, 04 May 2022</td> <th>  Prob (F-statistic):</th>  <td>0.0178</td> \n",
              "</tr>\n",
              "<tr>\n",
              "  <th>Time:</th>                 <td>11:25:45</td>     <th>  Log-Likelihood:    </th> <td> -3589.0</td>\n",
              "</tr>\n",
              "<tr>\n",
              "  <th>No. Observations:</th>      <td>  1000</td>      <th>  AIC:               </th> <td>   7186.</td>\n",
              "</tr>\n",
              "<tr>\n",
              "  <th>Df Residuals:</th>          <td>   996</td>      <th>  BIC:               </th> <td>   7206.</td>\n",
              "</tr>\n",
              "<tr>\n",
              "  <th>Df Model:</th>              <td>     3</td>      <th>                     </th>     <td> </td>   \n",
              "</tr>\n",
              "<tr>\n",
              "  <th>Covariance Type:</th>      <td>nonrobust</td>    <th>                     </th>     <td> </td>   \n",
              "</tr>\n",
              "</table>\n",
              "<table class=\"simpletable\">\n",
              "<tr>\n",
              "           <td></td>              <th>coef</th>     <th>std err</th>      <th>t</th>      <th>P>|t|</th>  <th>[0.025</th>    <th>0.975]</th>  \n",
              "</tr>\n",
              "<tr>\n",
              "  <th>Intercept</th>           <td>   75.4083</td> <td>    0.675</td> <td>  111.696</td> <td> 0.000</td> <td>   74.083</td> <td>   76.733</td>\n",
              "</tr>\n",
              "<tr>\n",
              "  <th>artist_type[T.Duo]</th>  <td>   -3.2797</td> <td>    1.247</td> <td>   -2.629</td> <td> 0.009</td> <td>   -5.728</td> <td>   -0.832</td>\n",
              "</tr>\n",
              "<tr>\n",
              "  <th>artist_type[T.Solo]</th> <td>   -0.3775</td> <td>    0.748</td> <td>   -0.505</td> <td> 0.614</td> <td>   -1.844</td> <td>    1.089</td>\n",
              "</tr>\n",
              "<tr>\n",
              "  <th>artist_type[T.Trio]</th> <td>   -4.3314</td> <td>    2.526</td> <td>   -1.715</td> <td> 0.087</td> <td>   -9.288</td> <td>    0.626</td>\n",
              "</tr>\n",
              "</table>\n",
              "<table class=\"simpletable\">\n",
              "<tr>\n",
              "  <th>Omnibus:</th>       <td>145.047</td> <th>  Durbin-Watson:     </th> <td>   1.704</td>\n",
              "</tr>\n",
              "<tr>\n",
              "  <th>Prob(Omnibus):</th> <td> 0.000</td>  <th>  Jarque-Bera (JB):  </th> <td> 241.575</td>\n",
              "</tr>\n",
              "<tr>\n",
              "  <th>Skew:</th>          <td>-0.936</td>  <th>  Prob(JB):          </th> <td>3.49e-53</td>\n",
              "</tr>\n",
              "<tr>\n",
              "  <th>Kurtosis:</th>      <td> 4.515</td>  <th>  Cond. No.          </th> <td>    11.8</td>\n",
              "</tr>\n",
              "</table><br/><br/>Warnings:<br/>[1] Standard Errors assume that the covariance matrix of the errors is correctly specified."
            ]
          },
          "metadata": {},
          "execution_count": 73
        }
      ]
    },
    {
      "cell_type": "markdown",
      "source": [
        "**Hypothesis**\n",
        "\n",
        "${H_o}:$ $\\mu$solo = $\\mu$duo = $\\mu$trio  = $\\mu$band/group\n",
        "\n",
        "${H_a}:$ at least one of my population means $\\mu$ is different from the others\n",
        "\n",
        "\n",
        "\n",
        "\n",
        "Where:\n",
        "\n",
        "*   $\\mu$solo = The average popularity of songs for solo arists\n",
        "*  $\\mu$duo = The average popularity of songs for duos\n",
        "*   $\\mu$trio = The average popularity of songs for trios\n",
        "*   $\\mu$band = The average popularity of songs for Bands\n",
        "\n",
        "\n",
        "\n",
        "\n",
        "\n",
        "\n"
      ],
      "metadata": {
        "id": "tEK1kD_katbf"
      }
    },
    {
      "cell_type": "code",
      "source": [
        "\n",
        "plt.scatter(results.fittedvalues, results.resid) \n",
        "plt.hlines(y = 0, xmin = np.min(results.fittedvalues), xmax = np.max(results.fittedvalues))\n",
        "plt.ylabel('Residual') \n",
        "plt.xlabel('Fitted Value') \n",
        "plt.title('Fitted vs. Residual Plot for L & E Assumptions') \n",
        "plt.show() "
      ],
      "metadata": {
        "colab": {
          "base_uri": "https://localhost:8080/",
          "height": 295
        },
        "id": "wl1WsCEB2I5W",
        "outputId": "a742d18e-2bac-4f52-9acf-7a618cc5c335"
      },
      "execution_count": 76,
      "outputs": [
        {
          "output_type": "display_data",
          "data": {
            "text/plain": [
              "<Figure size 432x288 with 1 Axes>"
            ],
            "image/png": "[encoded data removed]"
          },
          "metadata": {
            "needs_background": "light"
          }
        }
      ]
    },
    {
      "cell_type": "code",
      "source": [
        "plt.hist(results.resid) \n",
        "plt.xlabel('Residuals') \n",
        "plt.ylabel('Frequency') \n",
        "plt.title('Histogram of Residuals for N Assumption') \n",
        "plt.show() "
      ],
      "metadata": {
        "colab": {
          "base_uri": "https://localhost:8080/",
          "height": 295
        },
        "id": "DrAbnrOq2VJu",
        "outputId": "525e9f92-1e77-4cc1-9f65-eaffad5a0e99"
      },
      "execution_count": 77,
      "outputs": [
        {
          "output_type": "display_data",
          "data": {
            "text/plain": [
              "<Figure size 432x288 with 1 Axes>"
            ],
            "image/png": "[encoded data removed]"
          },
          "metadata": {
            "needs_background": "light"
          }
        }
      ]
    },
    {
      "cell_type": "markdown",
      "source": [
        "BASELINE LEVEL: Level represented by the intercept. In our case, groups/bands.\n",
        "\n",
        "**Conditions**\n",
        "Let's go over our conditions for one-way ANOVA.\n",
        "\n",
        "\n",
        "L- To check whether the true relationship is linear, I should look at the first fitted vs. residuals plot and see if my points are centered around the line added. This seems possible, although I do notice many\n",
        "observations with really low residuals.\n",
        "\n",
        "I ‑ To \"check\" this assumption as best I can, I verify that I have a random sample of Spotify Songs (from the background above) and that I have less than 10% of the population size in my sample (n = 1000). As far as I can tell from these criteria, independence is valid.\n",
        "\n",
        "N ‑ The histogram does not support normality of the error terms, as the histogram is skewed left.\n",
        "\n",
        "E ‑ I do not seem to have equal variances, as I see that the latter two fitted values are more variable (have more spread out residuals) than the initial set of two observations.\n",
        "\n",
        "There is no multicollinearity condition, as this is simple linear regression with a categorical predictor.\n",
        "\n",
        "In general, my assumptions are not met.\n",
        "\n",
        "\n",
        "\n",
        "\n"
      ],
      "metadata": {
        "id": "T67Y8JVOatfa"
      }
    },
    {
      "cell_type": "code",
      "source": [
        "results.summary().tables[0]"
      ],
      "metadata": {
        "colab": {
          "base_uri": "https://localhost:8080/",
          "height": 223
        },
        "id": "bvySYc_g4ebt",
        "outputId": "67764b35-aa9e-40ff-e026-9fc0a5df0cbc"
      },
      "execution_count": 78,
      "outputs": [
        {
          "output_type": "execute_result",
          "data": {
            "text/plain": [
              "<class 'statsmodels.iolib.table.SimpleTable'>"
            ],
            "text/html": [
              "<table class=\"simpletable\">\n",
              "<caption>OLS Regression Results</caption>\n",
              "<tr>\n",
              "  <th>Dep. Variable:</th>           <td>pop</td>       <th>  R-squared:         </th> <td>   0.010</td>\n",
              "</tr>\n",
              "<tr>\n",
              "  <th>Model:</th>                   <td>OLS</td>       <th>  Adj. R-squared:    </th> <td>   0.007</td>\n",
              "</tr>\n",
              "<tr>\n",
              "  <th>Method:</th>             <td>Least Squares</td>  <th>  F-statistic:       </th> <td>   3.378</td>\n",
              "</tr>\n",
              "<tr>\n",
              "  <th>Date:</th>             <td>Wed, 04 May 2022</td> <th>  Prob (F-statistic):</th>  <td>0.0178</td> \n",
              "</tr>\n",
              "<tr>\n",
              "  <th>Time:</th>                 <td>11:43:27</td>     <th>  Log-Likelihood:    </th> <td> -3589.0</td>\n",
              "</tr>\n",
              "<tr>\n",
              "  <th>No. Observations:</th>      <td>  1000</td>      <th>  AIC:               </th> <td>   7186.</td>\n",
              "</tr>\n",
              "<tr>\n",
              "  <th>Df Residuals:</th>          <td>   996</td>      <th>  BIC:               </th> <td>   7206.</td>\n",
              "</tr>\n",
              "<tr>\n",
              "  <th>Df Model:</th>              <td>     3</td>      <th>                     </th>     <td> </td>   \n",
              "</tr>\n",
              "<tr>\n",
              "  <th>Covariance Type:</th>      <td>nonrobust</td>    <th>                     </th>     <td> </td>   \n",
              "</tr>\n",
              "</table>"
            ]
          },
          "metadata": {},
          "execution_count": 78
        }
      ]
    },
    {
      "cell_type": "markdown",
      "source": [
        "**Calculating the p value**\n",
        "\n",
        "From the provided output, the t stat is 3.378 and and p-value is 0.0178. At a significance level of 0.05, I reject my null hypothesis."
      ],
      "metadata": {
        "id": "eImmU90Cativ"
      }
    },
    {
      "cell_type": "markdown",
      "source": [
        "**Conclusion**\n",
        "\n",
        "Therefore, I would conclude that I do in fact have sufficient evidence to suggest that at least one of my population mean popularity levels for spotify songs is different from the rest based on the type of artist who made it\n",
        "(solo, duo, trio, band/group)."
      ],
      "metadata": {
        "id": "EjjMc3VtatmG"
      }
    },
    {
      "cell_type": "markdown",
      "source": [
        "**Back to the research question**\n",
        " There certainly seems to be an association between how many artists were involved in a song and whether or not that song was popular on spotify within the last decade. As we determined the null hypothesis to be true, this is generalizable to the rest of the population of spotify songs.\n"
      ],
      "metadata": {
        "id": "ze3OPOyjattP"
      }
    },
    {
      "cell_type": "markdown",
      "source": [
        "## Linear Regression \n",
        "\n",
        "\n",
        "\n",
        "Is there a linear relationship between popularity and energy, bpm, value, and duration in the sample? What about in the relevant population?"
      ],
      "metadata": {
        "id": "NAgOei0-vhOx"
      }
    },
    {
      "cell_type": "code",
      "source": [
        "\n",
        "results = smf.ols('pop ~ nrgy+bpm+val+dur', data = df).fit()\n",
        "results.summary()\n"
      ],
      "metadata": {
        "colab": {
          "base_uri": "https://localhost:8080/",
          "height": 538
        },
        "id": "gCLDRgNLtcRu",
        "outputId": "89dae034-5a07-4d02-9995-0050f493d5b3"
      },
      "execution_count": 18,
      "outputs": [
        {
          "output_type": "execute_result",
          "data": {
            "text/plain": [
              "<class 'statsmodels.iolib.summary.Summary'>\n",
              "\"\"\"\n",
              "                            OLS Regression Results                            \n",
              "==============================================================================\n",
              "Dep. Variable:                    pop   R-squared:                       0.063\n",
              "Model:                            OLS   Adj. R-squared:                  0.059\n",
              "Method:                 Least Squares   F-statistic:                     16.75\n",
              "Date:                Wed, 04 May 2022   Prob (F-statistic):           2.70e-13\n",
              "Time:                        03:16:02   Log-Likelihood:                -3561.5\n",
              "No. Observations:                1000   AIC:                             7133.\n",
              "Df Residuals:                     995   BIC:                             7158.\n",
              "Df Model:                           4                                         \n",
              "Covariance Type:            nonrobust                                         \n",
              "==============================================================================\n",
              "                 coef    std err          t      P>|t|      [0.025      0.975]\n",
              "------------------------------------------------------------------------------\n",
              "Intercept     82.2495      2.332     35.265      0.000      77.673      86.826\n",
              "nrgy          -0.1496      0.018     -8.139      0.000      -0.186      -0.114\n",
              "bpm            0.0018      0.010      0.169      0.866      -0.019       0.022\n",
              "val            0.0408      0.014      2.971      0.003       0.014       0.068\n",
              "dur            0.0032      0.007      0.461      0.645      -0.010       0.017\n",
              "==============================================================================\n",
              "Omnibus:                      129.678   Durbin-Watson:                   1.746\n",
              "Prob(Omnibus):                  0.000   Jarque-Bera (JB):              208.830\n",
              "Skew:                          -0.865   Prob(JB):                     4.50e-46\n",
              "Kurtosis:                       4.422   Cond. No.                     2.32e+03\n",
              "==============================================================================\n",
              "\n",
              "Warnings:\n",
              "[1] Standard Errors assume that the covariance matrix of the errors is correctly specified.\n",
              "[2] The condition number is large, 2.32e+03. This might indicate that there are\n",
              "strong multicollinearity or other numerical problems.\n",
              "\"\"\""
            ],
            "text/html": [
              "<table class=\"simpletable\">\n",
              "<caption>OLS Regression Results</caption>\n",
              "<tr>\n",
              "  <th>Dep. Variable:</th>           <td>pop</td>       <th>  R-squared:         </th> <td>   0.063</td>\n",
              "</tr>\n",
              "<tr>\n",
              "  <th>Model:</th>                   <td>OLS</td>       <th>  Adj. R-squared:    </th> <td>   0.059</td>\n",
              "</tr>\n",
              "<tr>\n",
              "  <th>Method:</th>             <td>Least Squares</td>  <th>  F-statistic:       </th> <td>   16.75</td>\n",
              "</tr>\n",
              "<tr>\n",
              "  <th>Date:</th>             <td>Wed, 04 May 2022</td> <th>  Prob (F-statistic):</th> <td>2.70e-13</td>\n",
              "</tr>\n",
              "<tr>\n",
              "  <th>Time:</th>                 <td>03:16:02</td>     <th>  Log-Likelihood:    </th> <td> -3561.5</td>\n",
              "</tr>\n",
              "<tr>\n",
              "  <th>No. Observations:</th>      <td>  1000</td>      <th>  AIC:               </th> <td>   7133.</td>\n",
              "</tr>\n",
              "<tr>\n",
              "  <th>Df Residuals:</th>          <td>   995</td>      <th>  BIC:               </th> <td>   7158.</td>\n",
              "</tr>\n",
              "<tr>\n",
              "  <th>Df Model:</th>              <td>     4</td>      <th>                     </th>     <td> </td>   \n",
              "</tr>\n",
              "<tr>\n",
              "  <th>Covariance Type:</th>      <td>nonrobust</td>    <th>                     </th>     <td> </td>   \n",
              "</tr>\n",
              "</table>\n",
              "<table class=\"simpletable\">\n",
              "<tr>\n",
              "      <td></td>         <th>coef</th>     <th>std err</th>      <th>t</th>      <th>P>|t|</th>  <th>[0.025</th>    <th>0.975]</th>  \n",
              "</tr>\n",
              "<tr>\n",
              "  <th>Intercept</th> <td>   82.2495</td> <td>    2.332</td> <td>   35.265</td> <td> 0.000</td> <td>   77.673</td> <td>   86.826</td>\n",
              "</tr>\n",
              "<tr>\n",
              "  <th>nrgy</th>      <td>   -0.1496</td> <td>    0.018</td> <td>   -8.139</td> <td> 0.000</td> <td>   -0.186</td> <td>   -0.114</td>\n",
              "</tr>\n",
              "<tr>\n",
              "  <th>bpm</th>       <td>    0.0018</td> <td>    0.010</td> <td>    0.169</td> <td> 0.866</td> <td>   -0.019</td> <td>    0.022</td>\n",
              "</tr>\n",
              "<tr>\n",
              "  <th>val</th>       <td>    0.0408</td> <td>    0.014</td> <td>    2.971</td> <td> 0.003</td> <td>    0.014</td> <td>    0.068</td>\n",
              "</tr>\n",
              "<tr>\n",
              "  <th>dur</th>       <td>    0.0032</td> <td>    0.007</td> <td>    0.461</td> <td> 0.645</td> <td>   -0.010</td> <td>    0.017</td>\n",
              "</tr>\n",
              "</table>\n",
              "<table class=\"simpletable\">\n",
              "<tr>\n",
              "  <th>Omnibus:</th>       <td>129.678</td> <th>  Durbin-Watson:     </th> <td>   1.746</td>\n",
              "</tr>\n",
              "<tr>\n",
              "  <th>Prob(Omnibus):</th> <td> 0.000</td>  <th>  Jarque-Bera (JB):  </th> <td> 208.830</td>\n",
              "</tr>\n",
              "<tr>\n",
              "  <th>Skew:</th>          <td>-0.865</td>  <th>  Prob(JB):          </th> <td>4.50e-46</td>\n",
              "</tr>\n",
              "<tr>\n",
              "  <th>Kurtosis:</th>      <td> 4.422</td>  <th>  Cond. No.          </th> <td>2.32e+03</td>\n",
              "</tr>\n",
              "</table><br/><br/>Warnings:<br/>[1] Standard Errors assume that the covariance matrix of the errors is correctly specified.<br/>[2] The condition number is large, 2.32e+03. This might indicate that there are<br/>strong multicollinearity or other numerical problems."
            ]
          },
          "metadata": {},
          "execution_count": 18
        }
      ]
    },
    {
      "cell_type": "markdown",
      "source": [
        "\n",
        "$\\hat{y}$\n",
        " = 82.2495 - 0.1496(nrgy) + 0.0018(bpm) + 0.0408(val) + 0.0032(dur)"
      ],
      "metadata": {
        "id": "xBFr5oMIvoPa"
      }
    },
    {
      "cell_type": "code",
      "source": [
        "sns.regplot(x=results.fittedvalues, y=results.resid, ci=None) \n",
        "plt.ylabel('Residual') \n",
        "plt.xlabel('Fitted Value') \n",
        "plt.show()"
      ],
      "metadata": {
        "id": "trqKamkWvqjo",
        "colab": {
          "base_uri": "https://localhost:8080/",
          "height": 279
        },
        "outputId": "9312b130-ee84-42cb-c354-2f0ef74f31dd"
      },
      "execution_count": 19,
      "outputs": [
        {
          "output_type": "display_data",
          "data": {
            "text/plain": [
              "<Figure size 432x288 with 1 Axes>"
            ],
            "image/png": "[encoded data removed]"
          },
          "metadata": {
            "needs_background": "light"
          }
        }
      ]
    },
    {
      "cell_type": "code",
      "source": [
        "plt.hist(results.resid) \n",
        "plt.xlabel('Residuals') \n",
        "plt.show()\n"
      ],
      "metadata": {
        "colab": {
          "base_uri": "https://localhost:8080/",
          "height": 279
        },
        "id": "L9eV8CTfxWgL",
        "outputId": "a2418369-0c4f-410e-8605-f3cb92333836"
      },
      "execution_count": 20,
      "outputs": [
        {
          "output_type": "display_data",
          "data": {
            "text/plain": [
              "<Figure size 432x288 with 1 Axes>"
            ],
            "image/png": "[encoded data removed]"
          },
          "metadata": {
            "needs_background": "light"
          }
        }
      ]
    },
    {
      "cell_type": "code",
      "source": [
        "sns.pairplot(df[[\"nrgy\", \"bpm\"]]) \n",
        "plt.show()"
      ],
      "metadata": {
        "colab": {
          "base_uri": "https://localhost:8080/",
          "height": 374
        },
        "id": "SlOraYabxYnp",
        "outputId": "f85cf5b0-1e5c-42fc-fa92-d80861c56ee0"
      },
      "execution_count": 21,
      "outputs": [
        {
          "output_type": "display_data",
          "data": {
            "text/plain": [
              "<Figure size 360x360 with 6 Axes>"
            ],
            "image/png": "[encoded data removed]"
          },
          "metadata": {
            "needs_background": "light"
          }
        }
      ]
    },
    {
      "cell_type": "code",
      "source": [
        "sns.pairplot(df[[\"bpm\", \"val\"]]) \n",
        "plt.show()"
      ],
      "metadata": {
        "colab": {
          "base_uri": "https://localhost:8080/",
          "height": 374
        },
        "id": "JbttlCX8xZtB",
        "outputId": "663a5631-97a2-4b40-afab-194c45a290b4"
      },
      "execution_count": 22,
      "outputs": [
        {
          "output_type": "display_data",
          "data": {
            "text/plain": [
              "<Figure size 360x360 with 6 Axes>"
            ],
            "image/png": "[encoded data removed]"
          },
          "metadata": {
            "needs_background": "light"
          }
        }
      ]
    },
    {
      "cell_type": "code",
      "source": [
        "sns.pairplot(df[[\"val\", \"dur\"]]) \n",
        "plt.show()"
      ],
      "metadata": {
        "colab": {
          "base_uri": "https://localhost:8080/",
          "height": 374
        },
        "id": "s4irm0aHxa4Q",
        "outputId": "449cef62-8df8-45a7-8958-cef6a5b28ceb"
      },
      "execution_count": 23,
      "outputs": [
        {
          "output_type": "display_data",
          "data": {
            "text/plain": [
              "<Figure size 360x360 with 6 Axes>"
            ],
            "image/png": "[encoded data removed]"
          },
          "metadata": {
            "needs_background": "light"
          }
        }
      ]
    },
    {
      "cell_type": "code",
      "source": [
        "sns.pairplot(df[[\"val\", \"nrgy\"]]) \n",
        "plt.show()"
      ],
      "metadata": {
        "colab": {
          "base_uri": "https://localhost:8080/",
          "height": 374
        },
        "id": "EquODST-xb-c",
        "outputId": "d9a72af5-31c7-45c0-d63d-4441c2a764cc"
      },
      "execution_count": 24,
      "outputs": [
        {
          "output_type": "display_data",
          "data": {
            "text/plain": [
              "<Figure size 360x360 with 6 Axes>"
            ],
            "image/png": "[encoded data removed]"
          },
          "metadata": {
            "needs_background": "light"
          }
        }
      ]
    },
    {
      "cell_type": "code",
      "source": [
        "sns.pairplot(df[[\"nrgy\", \"dur\"]]) \n",
        "plt.show()"
      ],
      "metadata": {
        "colab": {
          "base_uri": "https://localhost:8080/",
          "height": 374
        },
        "id": "JOJY0_EoxdOT",
        "outputId": "deba0c96-bce9-4bef-9b9b-bf965a63728e"
      },
      "execution_count": 25,
      "outputs": [
        {
          "output_type": "display_data",
          "data": {
            "text/plain": [
              "<Figure size 360x360 with 6 Axes>"
            ],
            "image/png": "[encoded data removed]"
          },
          "metadata": {
            "needs_background": "light"
          }
        }
      ]
    },
    {
      "cell_type": "code",
      "source": [
        "sns.pairplot(df[[\"bpm\", \"dur\"]]) \n",
        "plt.show()"
      ],
      "metadata": {
        "colab": {
          "base_uri": "https://localhost:8080/",
          "height": 374
        },
        "id": "GePkxDE0xefi",
        "outputId": "d6c7a37c-2309-4e1c-ff28-9a0b7b76e949"
      },
      "execution_count": 26,
      "outputs": [
        {
          "output_type": "display_data",
          "data": {
            "text/plain": [
              "<Figure size 360x360 with 6 Axes>"
            ],
            "image/png": "[encoded data removed]"
          },
          "metadata": {
            "needs_background": "light"
          }
        }
      ]
    },
    {
      "cell_type": "markdown",
      "source": [
        "For the linearity condition, the number of values above and below the line look roughly equal which means the condition is met.\n",
        "\n",
        "The constant variance in residuals condition is not met since the y-axis spread changes as we move from left to right in the scatterplot shown above.\n",
        "\n",
        "The third condition is not met since the histogram above is not symmetric. However, it is unimodal and does appear to be centered at 0.\n",
        "\n",
        "This is not a random sample of Spotify songs that came out from 2010-19 since it is the top 100 hits. However, it does represent less than 10% of all songs that came out on Spotify during this time period.\n",
        "\n",
        "The numerical explanatory variables (energy, bpm, duration, value) do not have a strong linear relationship between any of them. Thus the explanatory variables are not collinear and so this condition (just for multiple linear regression) is met.\n",
        "\n",
        "The model says that 5.9% of the variability in the response variable (popularity) can be explained by the linear relationship with the explanatory variables (energy, value, beats per minute, and duration). This is a quite low which makes for a weak model.\n",
        "\n",
        "Suppose that a given Spotify song from 2010-19 has an energy of 80, is at a tempo of 120 bpm, has a value of 70, and a duration of 305. \\ What is the predicted popularity for this song?"
      ],
      "metadata": {
        "id": "vOdPH8r9xkW3"
      }
    },
    {
      "cell_type": "code",
      "source": [
        "results.predict(exog=dict(nrgy=80, bpm=120, val = 70, dur=305))"
      ],
      "metadata": {
        "colab": {
          "base_uri": "https://localhost:8080/"
        },
        "id": "Hd0OV4vrxgC3",
        "outputId": "29d1b11e-fc1d-4bf7-ecad-5d70c004b469"
      },
      "execution_count": 27,
      "outputs": [
        {
          "output_type": "execute_result",
          "data": {
            "text/plain": [
              "0    74.315373\n",
              "dtype: float64"
            ]
          },
          "metadata": {},
          "execution_count": 27
        }
      ]
    },
    {
      "cell_type": "markdown",
      "source": [
        "${H}_O$\n",
        ": the slopes in our model are all 0 \\\n",
        "\n",
        "${H}_a$\n",
        ": at least one slope is non-zero"
      ],
      "metadata": {
        "id": "wifT_6vHxrCt"
      }
    },
    {
      "cell_type": "code",
      "source": [
        "f_stat = 16.75\n",
        "p_value = 2.70 * 10**-13"
      ],
      "metadata": {
        "id": "d9ubsgmHxpNT"
      },
      "execution_count": 28,
      "outputs": []
    },
    {
      "cell_type": "markdown",
      "source": [
        "Our p-value is quite small. At any reasonable alpha value, I have sufficient evidence to suggest that at least one population slope is non-zero for predicting popularity based on energy, bpm, value, and duration.\n",
        "\n",
        "## Logistic Regression \n",
        "\n",
        "\n",
        "Is there a linear relationship between the log-odds of the success level of artist type (solo vs. duo/trio/group) and dB, value, acousticness, and duration?"
      ],
      "metadata": {
        "id": "Oa17L1AuyJHE"
      }
    },
    {
      "cell_type": "code",
      "source": [
        "df[\"is solo\"] = df[\"artist type\"].map({'Solo': 1, 'Duo': 0, 'Band/Group': 0, 'Trio': 0}).astype(int)\n",
        "df\n"
      ],
      "metadata": {
        "colab": {
          "base_uri": "https://localhost:8080/",
          "height": 554
        },
        "id": "n_asdVfqyIO5",
        "outputId": "257e3b45-88dd-44cc-aec3-c0b02d4955af"
      },
      "execution_count": 29,
      "outputs": [
        {
          "output_type": "execute_result",
          "data": {
            "text/plain": [
              "                                             title              artist  \\\n",
              "0                    STARSTRUKK (feat. Katy Perry)               3OH!3   \n",
              "1                      My First Kiss (feat. Ke$ha)               3OH!3   \n",
              "2                                  I Need A Dollar          Aloe Blacc   \n",
              "3    Airplanes (feat. Hayley Williams of Paramore)               B.o.B   \n",
              "4                Nothin' on You (feat. Bruno Mars)               B.o.B   \n",
              "..                                             ...                 ...   \n",
              "995                                     SICKO MODE        Travis Scott   \n",
              "996                                      EARFQUAKE  Tyler, The Creator   \n",
              "997                      Boasty (feat. Idris Elba)               Wiley   \n",
              "998                    Strike a Pose (feat. Aitch)    Young T & Bugsey   \n",
              "999      The London (feat. J. Cole & Travis Scott)          Young Thug   \n",
              "\n",
              "       top genre  year released       added  bpm  nrgy  dnce  dB  live  val  \\\n",
              "0      dance pop           2009  2022‑02‑17  140    81    61  -6    23   23   \n",
              "1      dance pop           2010  2022‑02‑17  138    89    68  -4    36   83   \n",
              "2       pop soul           2010  2022‑02‑17   95    48    84  -7     9   96   \n",
              "3    atl hip hop           2010  2022‑02‑17   93    87    66  -4     4   38   \n",
              "4    atl hip hop           2010  2022‑02‑17  104    85    69  -6     9   74   \n",
              "..           ...            ...         ...  ...   ...   ...  ..   ...  ...   \n",
              "995      hip hop           2018  2020‑06‑22  155    73    83  -4    12   45   \n",
              "996      hip hop           2019  2020‑06‑22   80    50    55  -9    80   41   \n",
              "997        grime           2019  2020‑06‑22  103    77    89  -5     9   46   \n",
              "998    afroswing           2019  2020‑08‑20  138    58    53  -6    10   59   \n",
              "999  atl hip hop           2019  2020‑06‑22   98    59    80  -7    13   18   \n",
              "\n",
              "     dur  acous  spch  pop  top year artist type  is solo  \n",
              "0    203      0     6   70      2010         Duo        0  \n",
              "1    192      1     8   68      2010         Duo        0  \n",
              "2    243     20     3   72      2010        Solo        1  \n",
              "3    180     11    12   80      2010        Solo        1  \n",
              "4    268     39     5   79      2010        Solo        1  \n",
              "..   ...    ...   ...  ...       ...         ...      ...  \n",
              "995  313      1    22   86      2019        Solo        1  \n",
              "996  190     23     7   85      2019        Solo        1  \n",
              "997  177      1     7   68      2019        Solo        1  \n",
              "998  214      1    10   67      2019         Duo        0  \n",
              "999  200      2    15   75      2019        Solo        1  \n",
              "\n",
              "[1000 rows x 18 columns]"
            ],
            "text/html": [
              "\n",
              "  <div id=\"df-4c69f969-9990-467a-bb47-1aab5b180807\">\n",
              "    <div class=\"colab-df-container\">\n",
              "      <div>\n",
              "<style scoped>\n",
              "    .dataframe tbody tr th:only-of-type {\n",
              "        vertical-align: middle;\n",
              "    }\n",
              "\n",
              "    .dataframe tbody tr th {\n",
              "        vertical-align: top;\n",
              "    }\n",
              "\n",
              "    .dataframe thead th {\n",
              "        text-align: right;\n",
              "    }\n",
              "</style>\n",
              "<table border=\"1\" class=\"dataframe\">\n",
              "  <thead>\n",
              "    <tr style=\"text-align: right;\">\n",
              "      <th></th>\n",
              "      <th>title</th>\n",
              "      <th>artist</th>\n",
              "      <th>top genre</th>\n",
              "      <th>year released</th>\n",
              "      <th>added</th>\n",
              "      <th>bpm</th>\n",
              "      <th>nrgy</th>\n",
              "      <th>dnce</th>\n",
              "      <th>dB</th>\n",
              "      <th>live</th>\n",
              "      <th>val</th>\n",
              "      <th>dur</th>\n",
              "      <th>acous</th>\n",
              "      <th>spch</th>\n",
              "      <th>pop</th>\n",
              "      <th>top year</th>\n",
              "      <th>artist type</th>\n",
              "      <th>is solo</th>\n",
              "    </tr>\n",
              "  </thead>\n",
              "  <tbody>\n",
              "    <tr>\n",
              "      <th>0</th>\n",
              "      <td>STARSTRUKK (feat. Katy Perry)</td>\n",
              "      <td>3OH!3</td>\n",
              "      <td>dance pop</td>\n",
              "      <td>2009</td>\n",
              "      <td>2022‑02‑17</td>\n",
              "      <td>140</td>\n",
              "      <td>81</td>\n",
              "      <td>61</td>\n",
              "      <td>-6</td>\n",
              "      <td>23</td>\n",
              "      <td>23</td>\n",
              "      <td>203</td>\n",
              "      <td>0</td>\n",
              "      <td>6</td>\n",
              "      <td>70</td>\n",
              "      <td>2010</td>\n",
              "      <td>Duo</td>\n",
              "      <td>0</td>\n",
              "    </tr>\n",
              "    <tr>\n",
              "      <th>1</th>\n",
              "      <td>My First Kiss (feat. Ke$ha)</td>\n",
              "      <td>3OH!3</td>\n",
              "      <td>dance pop</td>\n",
              "      <td>2010</td>\n",
              "      <td>2022‑02‑17</td>\n",
              "      <td>138</td>\n",
              "      <td>89</td>\n",
              "      <td>68</td>\n",
              "      <td>-4</td>\n",
              "      <td>36</td>\n",
              "      <td>83</td>\n",
              "      <td>192</td>\n",
              "      <td>1</td>\n",
              "      <td>8</td>\n",
              "      <td>68</td>\n",
              "      <td>2010</td>\n",
              "      <td>Duo</td>\n",
              "      <td>0</td>\n",
              "    </tr>\n",
              "    <tr>\n",
              "      <th>2</th>\n",
              "      <td>I Need A Dollar</td>\n",
              "      <td>Aloe Blacc</td>\n",
              "      <td>pop soul</td>\n",
              "      <td>2010</td>\n",
              "      <td>2022‑02‑17</td>\n",
              "      <td>95</td>\n",
              "      <td>48</td>\n",
              "      <td>84</td>\n",
              "      <td>-7</td>\n",
              "      <td>9</td>\n",
              "      <td>96</td>\n",
              "      <td>243</td>\n",
              "      <td>20</td>\n",
              "      <td>3</td>\n",
              "      <td>72</td>\n",
              "      <td>2010</td>\n",
              "      <td>Solo</td>\n",
              "      <td>1</td>\n",
              "    </tr>\n",
              "    <tr>\n",
              "      <th>3</th>\n",
              "      <td>Airplanes (feat. Hayley Williams of Paramore)</td>\n",
              "      <td>B.o.B</td>\n",
              "      <td>atl hip hop</td>\n",
              "      <td>2010</td>\n",
              "      <td>2022‑02‑17</td>\n",
              "      <td>93</td>\n",
              "      <td>87</td>\n",
              "      <td>66</td>\n",
              "      <td>-4</td>\n",
              "      <td>4</td>\n",
              "      <td>38</td>\n",
              "      <td>180</td>\n",
              "      <td>11</td>\n",
              "      <td>12</td>\n",
              "      <td>80</td>\n",
              "      <td>2010</td>\n",
              "      <td>Solo</td>\n",
              "      <td>1</td>\n",
              "    </tr>\n",
              "    <tr>\n",
              "      <th>4</th>\n",
              "      <td>Nothin' on You (feat. Bruno Mars)</td>\n",
              "      <td>B.o.B</td>\n",
              "      <td>atl hip hop</td>\n",
              "      <td>2010</td>\n",
              "      <td>2022‑02‑17</td>\n",
              "      <td>104</td>\n",
              "      <td>85</td>\n",
              "      <td>69</td>\n",
              "      <td>-6</td>\n",
              "      <td>9</td>\n",
              "      <td>74</td>\n",
              "      <td>268</td>\n",
              "      <td>39</td>\n",
              "      <td>5</td>\n",
              "      <td>79</td>\n",
              "      <td>2010</td>\n",
              "      <td>Solo</td>\n",
              "      <td>1</td>\n",
              "    </tr>\n",
              "    <tr>\n",
              "      <th>...</th>\n",
              "      <td>...</td>\n",
              "      <td>...</td>\n",
              "      <td>...</td>\n",
              "      <td>...</td>\n",
              "      <td>...</td>\n",
              "      <td>...</td>\n",
              "      <td>...</td>\n",
              "      <td>...</td>\n",
              "      <td>...</td>\n",
              "      <td>...</td>\n",
              "      <td>...</td>\n",
              "      <td>...</td>\n",
              "      <td>...</td>\n",
              "      <td>...</td>\n",
              "      <td>...</td>\n",
              "      <td>...</td>\n",
              "      <td>...</td>\n",
              "      <td>...</td>\n",
              "    </tr>\n",
              "    <tr>\n",
              "      <th>995</th>\n",
              "      <td>SICKO MODE</td>\n",
              "      <td>Travis Scott</td>\n",
              "      <td>hip hop</td>\n",
              "      <td>2018</td>\n",
              "      <td>2020‑06‑22</td>\n",
              "      <td>155</td>\n",
              "      <td>73</td>\n",
              "      <td>83</td>\n",
              "      <td>-4</td>\n",
              "      <td>12</td>\n",
              "      <td>45</td>\n",
              "      <td>313</td>\n",
              "      <td>1</td>\n",
              "      <td>22</td>\n",
              "      <td>86</td>\n",
              "      <td>2019</td>\n",
              "      <td>Solo</td>\n",
              "      <td>1</td>\n",
              "    </tr>\n",
              "    <tr>\n",
              "      <th>996</th>\n",
              "      <td>EARFQUAKE</td>\n",
              "      <td>Tyler, The Creator</td>\n",
              "      <td>hip hop</td>\n",
              "      <td>2019</td>\n",
              "      <td>2020‑06‑22</td>\n",
              "      <td>80</td>\n",
              "      <td>50</td>\n",
              "      <td>55</td>\n",
              "      <td>-9</td>\n",
              "      <td>80</td>\n",
              "      <td>41</td>\n",
              "      <td>190</td>\n",
              "      <td>23</td>\n",
              "      <td>7</td>\n",
              "      <td>85</td>\n",
              "      <td>2019</td>\n",
              "      <td>Solo</td>\n",
              "      <td>1</td>\n",
              "    </tr>\n",
              "    <tr>\n",
              "      <th>997</th>\n",
              "      <td>Boasty (feat. Idris Elba)</td>\n",
              "      <td>Wiley</td>\n",
              "      <td>grime</td>\n",
              "      <td>2019</td>\n",
              "      <td>2020‑06‑22</td>\n",
              "      <td>103</td>\n",
              "      <td>77</td>\n",
              "      <td>89</td>\n",
              "      <td>-5</td>\n",
              "      <td>9</td>\n",
              "      <td>46</td>\n",
              "      <td>177</td>\n",
              "      <td>1</td>\n",
              "      <td>7</td>\n",
              "      <td>68</td>\n",
              "      <td>2019</td>\n",
              "      <td>Solo</td>\n",
              "      <td>1</td>\n",
              "    </tr>\n",
              "    <tr>\n",
              "      <th>998</th>\n",
              "      <td>Strike a Pose (feat. Aitch)</td>\n",
              "      <td>Young T &amp; Bugsey</td>\n",
              "      <td>afroswing</td>\n",
              "      <td>2019</td>\n",
              "      <td>2020‑08‑20</td>\n",
              "      <td>138</td>\n",
              "      <td>58</td>\n",
              "      <td>53</td>\n",
              "      <td>-6</td>\n",
              "      <td>10</td>\n",
              "      <td>59</td>\n",
              "      <td>214</td>\n",
              "      <td>1</td>\n",
              "      <td>10</td>\n",
              "      <td>67</td>\n",
              "      <td>2019</td>\n",
              "      <td>Duo</td>\n",
              "      <td>0</td>\n",
              "    </tr>\n",
              "    <tr>\n",
              "      <th>999</th>\n",
              "      <td>The London (feat. J. Cole &amp; Travis Scott)</td>\n",
              "      <td>Young Thug</td>\n",
              "      <td>atl hip hop</td>\n",
              "      <td>2019</td>\n",
              "      <td>2020‑06‑22</td>\n",
              "      <td>98</td>\n",
              "      <td>59</td>\n",
              "      <td>80</td>\n",
              "      <td>-7</td>\n",
              "      <td>13</td>\n",
              "      <td>18</td>\n",
              "      <td>200</td>\n",
              "      <td>2</td>\n",
              "      <td>15</td>\n",
              "      <td>75</td>\n",
              "      <td>2019</td>\n",
              "      <td>Solo</td>\n",
              "      <td>1</td>\n",
              "    </tr>\n",
              "  </tbody>\n",
              "</table>\n",
              "<p>1000 rows × 18 columns</p>\n",
              "</div>\n",
              "      <button class=\"colab-df-convert\" onclick=\"convertToInteractive('df-4c69f969-9990-467a-bb47-1aab5b180807')\"\n",
              "              title=\"Convert this dataframe to an interactive table.\"\n",
              "              style=\"display:none;\">\n",
              "        \n",
              "  <svg xmlns=\"http://www.w3.org/2000/svg\" height=\"24px\"viewBox=\"0 0 24 24\"\n",
              "       width=\"24px\">\n",
              "    <path d=\"M0 0h24v24H0V0z\" fill=\"none\"/>\n",
              "    <path d=\"M18.56 5.44l.94 2.06.94-2.06 2.06-.94-2.06-.94-.94-2.06-.94 2.06-2.06.94zm-11 1L8.5 8.5l.94-2.06 2.06-.94-2.06-.94L8.5 2.5l-.94 2.06-2.06.94zm10 10l.94 2.06.94-2.06 2.06-.94-2.06-.94-.94-2.06-.94 2.06-2.06.94z\"/><path d=\"M17.41 7.96l-1.37-1.37c-.4-.4-.92-.59-1.43-.59-.52 0-1.04.2-1.43.59L10.3 9.45l-7.72 7.72c-.78.78-.78 2.05 0 2.83L4 21.41c.39.39.9.59 1.41.59.51 0 1.02-.2 1.41-.59l7.78-7.78 2.81-2.81c.8-.78.8-2.07 0-2.86zM5.41 20L4 18.59l7.72-7.72 1.47 1.35L5.41 20z\"/>\n",
              "  </svg>\n",
              "      </button>\n",
              "      \n",
              "  <style>\n",
              "    .colab-df-container {\n",
              "      display:flex;\n",
              "      flex-wrap:wrap;\n",
              "      gap: 12px;\n",
              "    }\n",
              "\n",
              "    .colab-df-convert {\n",
              "      background-color: #E8F0FE;\n",
              "      border: none;\n",
              "      border-radius: 50%;\n",
              "      cursor: pointer;\n",
              "      display: none;\n",
              "      fill: #1967D2;\n",
              "      height: 32px;\n",
              "      padding: 0 0 0 0;\n",
              "      width: 32px;\n",
              "    }\n",
              "\n",
              "    .colab-df-convert:hover {\n",
              "      background-color: #E2EBFA;\n",
              "      box-shadow: 0px 1px 2px rgba(60, 64, 67, 0.3), 0px 1px 3px 1px rgba(60, 64, 67, 0.15);\n",
              "      fill: #174EA6;\n",
              "    }\n",
              "\n",
              "    [theme=dark] .colab-df-convert {\n",
              "      background-color: #3B4455;\n",
              "      fill: #D2E3FC;\n",
              "    }\n",
              "\n",
              "    [theme=dark] .colab-df-convert:hover {\n",
              "      background-color: #434B5C;\n",
              "      box-shadow: 0px 1px 3px 1px rgba(0, 0, 0, 0.15);\n",
              "      filter: drop-shadow(0px 1px 2px rgba(0, 0, 0, 0.3));\n",
              "      fill: #FFFFFF;\n",
              "    }\n",
              "  </style>\n",
              "\n",
              "      <script>\n",
              "        const buttonEl =\n",
              "          document.querySelector('#df-4c69f969-9990-467a-bb47-1aab5b180807 button.colab-df-convert');\n",
              "        buttonEl.style.display =\n",
              "          google.colab.kernel.accessAllowed ? 'block' : 'none';\n",
              "\n",
              "        async function convertToInteractive(key) {\n",
              "          const element = document.querySelector('#df-4c69f969-9990-467a-bb47-1aab5b180807');\n",
              "          const dataTable =\n",
              "            await google.colab.kernel.invokeFunction('convertToInteractive',\n",
              "                                                     [key], {});\n",
              "          if (!dataTable) return;\n",
              "\n",
              "          const docLinkHtml = 'Like what you see? Visit the ' +\n",
              "            '<a target=\"_blank\" href=https://colab.research.google.com/notebooks/data_table.ipynb>data table notebook</a>'\n",
              "            + ' to learn more about interactive tables.';\n",
              "          element.innerHTML = '';\n",
              "          dataTable['output_type'] = 'display_data';\n",
              "          await google.colab.output.renderOutput(dataTable, element);\n",
              "          const docLink = document.createElement('div');\n",
              "          docLink.innerHTML = docLinkHtml;\n",
              "          element.appendChild(docLink);\n",
              "        }\n",
              "      </script>\n",
              "    </div>\n",
              "  </div>\n",
              "  "
            ]
          },
          "metadata": {},
          "execution_count": 29
        }
      ]
    },
    {
      "cell_type": "code",
      "source": [
        "df_logistic_regression = df[['dB', 'val', 'acous', 'dur', 'is solo']]\n",
        "df_logistic_regression"
      ],
      "metadata": {
        "colab": {
          "base_uri": "https://localhost:8080/",
          "height": 424
        },
        "id": "bBX2ydCVyokR",
        "outputId": "276e2db1-232d-4bd5-dc1b-ec1d383548fc"
      },
      "execution_count": 30,
      "outputs": [
        {
          "output_type": "execute_result",
          "data": {
            "text/plain": [
              "     dB  val  acous  dur  is solo\n",
              "0    -6   23      0  203        0\n",
              "1    -4   83      1  192        0\n",
              "2    -7   96     20  243        1\n",
              "3    -4   38     11  180        1\n",
              "4    -6   74     39  268        1\n",
              "..   ..  ...    ...  ...      ...\n",
              "995  -4   45      1  313        1\n",
              "996  -9   41     23  190        1\n",
              "997  -5   46      1  177        1\n",
              "998  -6   59      1  214        0\n",
              "999  -7   18      2  200        1\n",
              "\n",
              "[1000 rows x 5 columns]"
            ],
            "text/html": [
              "\n",
              "  <div id=\"df-cfbea5c2-bf75-4447-8dbb-1fcb4620df25\">\n",
              "    <div class=\"colab-df-container\">\n",
              "      <div>\n",
              "<style scoped>\n",
              "    .dataframe tbody tr th:only-of-type {\n",
              "        vertical-align: middle;\n",
              "    }\n",
              "\n",
              "    .dataframe tbody tr th {\n",
              "        vertical-align: top;\n",
              "    }\n",
              "\n",
              "    .dataframe thead th {\n",
              "        text-align: right;\n",
              "    }\n",
              "</style>\n",
              "<table border=\"1\" class=\"dataframe\">\n",
              "  <thead>\n",
              "    <tr style=\"text-align: right;\">\n",
              "      <th></th>\n",
              "      <th>dB</th>\n",
              "      <th>val</th>\n",
              "      <th>acous</th>\n",
              "      <th>dur</th>\n",
              "      <th>is solo</th>\n",
              "    </tr>\n",
              "  </thead>\n",
              "  <tbody>\n",
              "    <tr>\n",
              "      <th>0</th>\n",
              "      <td>-6</td>\n",
              "      <td>23</td>\n",
              "      <td>0</td>\n",
              "      <td>203</td>\n",
              "      <td>0</td>\n",
              "    </tr>\n",
              "    <tr>\n",
              "      <th>1</th>\n",
              "      <td>-4</td>\n",
              "      <td>83</td>\n",
              "      <td>1</td>\n",
              "      <td>192</td>\n",
              "      <td>0</td>\n",
              "    </tr>\n",
              "    <tr>\n",
              "      <th>2</th>\n",
              "      <td>-7</td>\n",
              "      <td>96</td>\n",
              "      <td>20</td>\n",
              "      <td>243</td>\n",
              "      <td>1</td>\n",
              "    </tr>\n",
              "    <tr>\n",
              "      <th>3</th>\n",
              "      <td>-4</td>\n",
              "      <td>38</td>\n",
              "      <td>11</td>\n",
              "      <td>180</td>\n",
              "      <td>1</td>\n",
              "    </tr>\n",
              "    <tr>\n",
              "      <th>4</th>\n",
              "      <td>-6</td>\n",
              "      <td>74</td>\n",
              "      <td>39</td>\n",
              "      <td>268</td>\n",
              "      <td>1</td>\n",
              "    </tr>\n",
              "    <tr>\n",
              "      <th>...</th>\n",
              "      <td>...</td>\n",
              "      <td>...</td>\n",
              "      <td>...</td>\n",
              "      <td>...</td>\n",
              "      <td>...</td>\n",
              "    </tr>\n",
              "    <tr>\n",
              "      <th>995</th>\n",
              "      <td>-4</td>\n",
              "      <td>45</td>\n",
              "      <td>1</td>\n",
              "      <td>313</td>\n",
              "      <td>1</td>\n",
              "    </tr>\n",
              "    <tr>\n",
              "      <th>996</th>\n",
              "      <td>-9</td>\n",
              "      <td>41</td>\n",
              "      <td>23</td>\n",
              "      <td>190</td>\n",
              "      <td>1</td>\n",
              "    </tr>\n",
              "    <tr>\n",
              "      <th>997</th>\n",
              "      <td>-5</td>\n",
              "      <td>46</td>\n",
              "      <td>1</td>\n",
              "      <td>177</td>\n",
              "      <td>1</td>\n",
              "    </tr>\n",
              "    <tr>\n",
              "      <th>998</th>\n",
              "      <td>-6</td>\n",
              "      <td>59</td>\n",
              "      <td>1</td>\n",
              "      <td>214</td>\n",
              "      <td>0</td>\n",
              "    </tr>\n",
              "    <tr>\n",
              "      <th>999</th>\n",
              "      <td>-7</td>\n",
              "      <td>18</td>\n",
              "      <td>2</td>\n",
              "      <td>200</td>\n",
              "      <td>1</td>\n",
              "    </tr>\n",
              "  </tbody>\n",
              "</table>\n",
              "<p>1000 rows × 5 columns</p>\n",
              "</div>\n",
              "      <button class=\"colab-df-convert\" onclick=\"convertToInteractive('df-cfbea5c2-bf75-4447-8dbb-1fcb4620df25')\"\n",
              "              title=\"Convert this dataframe to an interactive table.\"\n",
              "              style=\"display:none;\">\n",
              "        \n",
              "  <svg xmlns=\"http://www.w3.org/2000/svg\" height=\"24px\"viewBox=\"0 0 24 24\"\n",
              "       width=\"24px\">\n",
              "    <path d=\"M0 0h24v24H0V0z\" fill=\"none\"/>\n",
              "    <path d=\"M18.56 5.44l.94 2.06.94-2.06 2.06-.94-2.06-.94-.94-2.06-.94 2.06-2.06.94zm-11 1L8.5 8.5l.94-2.06 2.06-.94-2.06-.94L8.5 2.5l-.94 2.06-2.06.94zm10 10l.94 2.06.94-2.06 2.06-.94-2.06-.94-.94-2.06-.94 2.06-2.06.94z\"/><path d=\"M17.41 7.96l-1.37-1.37c-.4-.4-.92-.59-1.43-.59-.52 0-1.04.2-1.43.59L10.3 9.45l-7.72 7.72c-.78.78-.78 2.05 0 2.83L4 21.41c.39.39.9.59 1.41.59.51 0 1.02-.2 1.41-.59l7.78-7.78 2.81-2.81c.8-.78.8-2.07 0-2.86zM5.41 20L4 18.59l7.72-7.72 1.47 1.35L5.41 20z\"/>\n",
              "  </svg>\n",
              "      </button>\n",
              "      \n",
              "  <style>\n",
              "    .colab-df-container {\n",
              "      display:flex;\n",
              "      flex-wrap:wrap;\n",
              "      gap: 12px;\n",
              "    }\n",
              "\n",
              "    .colab-df-convert {\n",
              "      background-color: #E8F0FE;\n",
              "      border: none;\n",
              "      border-radius: 50%;\n",
              "      cursor: pointer;\n",
              "      display: none;\n",
              "      fill: #1967D2;\n",
              "      height: 32px;\n",
              "      padding: 0 0 0 0;\n",
              "      width: 32px;\n",
              "    }\n",
              "\n",
              "    .colab-df-convert:hover {\n",
              "      background-color: #E2EBFA;\n",
              "      box-shadow: 0px 1px 2px rgba(60, 64, 67, 0.3), 0px 1px 3px 1px rgba(60, 64, 67, 0.15);\n",
              "      fill: #174EA6;\n",
              "    }\n",
              "\n",
              "    [theme=dark] .colab-df-convert {\n",
              "      background-color: #3B4455;\n",
              "      fill: #D2E3FC;\n",
              "    }\n",
              "\n",
              "    [theme=dark] .colab-df-convert:hover {\n",
              "      background-color: #434B5C;\n",
              "      box-shadow: 0px 1px 3px 1px rgba(0, 0, 0, 0.15);\n",
              "      filter: drop-shadow(0px 1px 2px rgba(0, 0, 0, 0.3));\n",
              "      fill: #FFFFFF;\n",
              "    }\n",
              "  </style>\n",
              "\n",
              "      <script>\n",
              "        const buttonEl =\n",
              "          document.querySelector('#df-cfbea5c2-bf75-4447-8dbb-1fcb4620df25 button.colab-df-convert');\n",
              "        buttonEl.style.display =\n",
              "          google.colab.kernel.accessAllowed ? 'block' : 'none';\n",
              "\n",
              "        async function convertToInteractive(key) {\n",
              "          const element = document.querySelector('#df-cfbea5c2-bf75-4447-8dbb-1fcb4620df25');\n",
              "          const dataTable =\n",
              "            await google.colab.kernel.invokeFunction('convertToInteractive',\n",
              "                                                     [key], {});\n",
              "          if (!dataTable) return;\n",
              "\n",
              "          const docLinkHtml = 'Like what you see? Visit the ' +\n",
              "            '<a target=\"_blank\" href=https://colab.research.google.com/notebooks/data_table.ipynb>data table notebook</a>'\n",
              "            + ' to learn more about interactive tables.';\n",
              "          element.innerHTML = '';\n",
              "          dataTable['output_type'] = 'display_data';\n",
              "          await google.colab.output.renderOutput(dataTable, element);\n",
              "          const docLink = document.createElement('div');\n",
              "          docLink.innerHTML = docLinkHtml;\n",
              "          element.appendChild(docLink);\n",
              "        }\n",
              "      </script>\n",
              "    </div>\n",
              "  </div>\n",
              "  "
            ]
          },
          "metadata": {},
          "execution_count": 30
        }
      ]
    },
    {
      "cell_type": "code",
      "source": [
        "X = df_logistic_regression[['dB', 'val', 'acous', 'dur']]\n",
        "y = df_logistic_regression['is solo']"
      ],
      "metadata": {
        "id": "idcpOrpdyqCX"
      },
      "execution_count": 31,
      "outputs": []
    },
    {
      "cell_type": "code",
      "source": [
        "X_train, X_test, y_train, y_test = train_test_split(X, y, test_size = 0.2, random_state = 1)\n",
        "X_train"
      ],
      "metadata": {
        "colab": {
          "base_uri": "https://localhost:8080/",
          "height": 424
        },
        "id": "XtQc48eMyrR5",
        "outputId": "08e699c5-5de3-4368-818f-ba987f73042f"
      },
      "execution_count": 32,
      "outputs": [
        {
          "output_type": "execute_result",
          "data": {
            "text/plain": [
              "     dB  val  acous  dur\n",
              "382  -5   28      0  293\n",
              "994  -6   71      1  171\n",
              "982 -10   23     29  354\n",
              "47   -3   94      3  213\n",
              "521  -7   28     25  253\n",
              "..   ..  ...    ...  ...\n",
              "767 -11   18     17  259\n",
              "72   -5   84     33  248\n",
              "908  -6   41     23  207\n",
              "235  -7   72     59  245\n",
              "37   -9   73     44  250\n",
              "\n",
              "[800 rows x 4 columns]"
            ],
            "text/html": [
              "\n",
              "  <div id=\"df-671a1fd0-8ab7-487e-a5ce-1c9f40aa08da\">\n",
              "    <div class=\"colab-df-container\">\n",
              "      <div>\n",
              "<style scoped>\n",
              "    .dataframe tbody tr th:only-of-type {\n",
              "        vertical-align: middle;\n",
              "    }\n",
              "\n",
              "    .dataframe tbody tr th {\n",
              "        vertical-align: top;\n",
              "    }\n",
              "\n",
              "    .dataframe thead th {\n",
              "        text-align: right;\n",
              "    }\n",
              "</style>\n",
              "<table border=\"1\" class=\"dataframe\">\n",
              "  <thead>\n",
              "    <tr style=\"text-align: right;\">\n",
              "      <th></th>\n",
              "      <th>dB</th>\n",
              "      <th>val</th>\n",
              "      <th>acous</th>\n",
              "      <th>dur</th>\n",
              "    </tr>\n",
              "  </thead>\n",
              "  <tbody>\n",
              "    <tr>\n",
              "      <th>382</th>\n",
              "      <td>-5</td>\n",
              "      <td>28</td>\n",
              "      <td>0</td>\n",
              "      <td>293</td>\n",
              "    </tr>\n",
              "    <tr>\n",
              "      <th>994</th>\n",
              "      <td>-6</td>\n",
              "      <td>71</td>\n",
              "      <td>1</td>\n",
              "      <td>171</td>\n",
              "    </tr>\n",
              "    <tr>\n",
              "      <th>982</th>\n",
              "      <td>-10</td>\n",
              "      <td>23</td>\n",
              "      <td>29</td>\n",
              "      <td>354</td>\n",
              "    </tr>\n",
              "    <tr>\n",
              "      <th>47</th>\n",
              "      <td>-3</td>\n",
              "      <td>94</td>\n",
              "      <td>3</td>\n",
              "      <td>213</td>\n",
              "    </tr>\n",
              "    <tr>\n",
              "      <th>521</th>\n",
              "      <td>-7</td>\n",
              "      <td>28</td>\n",
              "      <td>25</td>\n",
              "      <td>253</td>\n",
              "    </tr>\n",
              "    <tr>\n",
              "      <th>...</th>\n",
              "      <td>...</td>\n",
              "      <td>...</td>\n",
              "      <td>...</td>\n",
              "      <td>...</td>\n",
              "    </tr>\n",
              "    <tr>\n",
              "      <th>767</th>\n",
              "      <td>-11</td>\n",
              "      <td>18</td>\n",
              "      <td>17</td>\n",
              "      <td>259</td>\n",
              "    </tr>\n",
              "    <tr>\n",
              "      <th>72</th>\n",
              "      <td>-5</td>\n",
              "      <td>84</td>\n",
              "      <td>33</td>\n",
              "      <td>248</td>\n",
              "    </tr>\n",
              "    <tr>\n",
              "      <th>908</th>\n",
              "      <td>-6</td>\n",
              "      <td>41</td>\n",
              "      <td>23</td>\n",
              "      <td>207</td>\n",
              "    </tr>\n",
              "    <tr>\n",
              "      <th>235</th>\n",
              "      <td>-7</td>\n",
              "      <td>72</td>\n",
              "      <td>59</td>\n",
              "      <td>245</td>\n",
              "    </tr>\n",
              "    <tr>\n",
              "      <th>37</th>\n",
              "      <td>-9</td>\n",
              "      <td>73</td>\n",
              "      <td>44</td>\n",
              "      <td>250</td>\n",
              "    </tr>\n",
              "  </tbody>\n",
              "</table>\n",
              "<p>800 rows × 4 columns</p>\n",
              "</div>\n",
              "      <button class=\"colab-df-convert\" onclick=\"convertToInteractive('df-671a1fd0-8ab7-487e-a5ce-1c9f40aa08da')\"\n",
              "              title=\"Convert this dataframe to an interactive table.\"\n",
              "              style=\"display:none;\">\n",
              "        \n",
              "  <svg xmlns=\"http://www.w3.org/2000/svg\" height=\"24px\"viewBox=\"0 0 24 24\"\n",
              "       width=\"24px\">\n",
              "    <path d=\"M0 0h24v24H0V0z\" fill=\"none\"/>\n",
              "    <path d=\"M18.56 5.44l.94 2.06.94-2.06 2.06-.94-2.06-.94-.94-2.06-.94 2.06-2.06.94zm-11 1L8.5 8.5l.94-2.06 2.06-.94-2.06-.94L8.5 2.5l-.94 2.06-2.06.94zm10 10l.94 2.06.94-2.06 2.06-.94-2.06-.94-.94-2.06-.94 2.06-2.06.94z\"/><path d=\"M17.41 7.96l-1.37-1.37c-.4-.4-.92-.59-1.43-.59-.52 0-1.04.2-1.43.59L10.3 9.45l-7.72 7.72c-.78.78-.78 2.05 0 2.83L4 21.41c.39.39.9.59 1.41.59.51 0 1.02-.2 1.41-.59l7.78-7.78 2.81-2.81c.8-.78.8-2.07 0-2.86zM5.41 20L4 18.59l7.72-7.72 1.47 1.35L5.41 20z\"/>\n",
              "  </svg>\n",
              "      </button>\n",
              "      \n",
              "  <style>\n",
              "    .colab-df-container {\n",
              "      display:flex;\n",
              "      flex-wrap:wrap;\n",
              "      gap: 12px;\n",
              "    }\n",
              "\n",
              "    .colab-df-convert {\n",
              "      background-color: #E8F0FE;\n",
              "      border: none;\n",
              "      border-radius: 50%;\n",
              "      cursor: pointer;\n",
              "      display: none;\n",
              "      fill: #1967D2;\n",
              "      height: 32px;\n",
              "      padding: 0 0 0 0;\n",
              "      width: 32px;\n",
              "    }\n",
              "\n",
              "    .colab-df-convert:hover {\n",
              "      background-color: #E2EBFA;\n",
              "      box-shadow: 0px 1px 2px rgba(60, 64, 67, 0.3), 0px 1px 3px 1px rgba(60, 64, 67, 0.15);\n",
              "      fill: #174EA6;\n",
              "    }\n",
              "\n",
              "    [theme=dark] .colab-df-convert {\n",
              "      background-color: #3B4455;\n",
              "      fill: #D2E3FC;\n",
              "    }\n",
              "\n",
              "    [theme=dark] .colab-df-convert:hover {\n",
              "      background-color: #434B5C;\n",
              "      box-shadow: 0px 1px 3px 1px rgba(0, 0, 0, 0.15);\n",
              "      filter: drop-shadow(0px 1px 2px rgba(0, 0, 0, 0.3));\n",
              "      fill: #FFFFFF;\n",
              "    }\n",
              "  </style>\n",
              "\n",
              "      <script>\n",
              "        const buttonEl =\n",
              "          document.querySelector('#df-671a1fd0-8ab7-487e-a5ce-1c9f40aa08da button.colab-df-convert');\n",
              "        buttonEl.style.display =\n",
              "          google.colab.kernel.accessAllowed ? 'block' : 'none';\n",
              "\n",
              "        async function convertToInteractive(key) {\n",
              "          const element = document.querySelector('#df-671a1fd0-8ab7-487e-a5ce-1c9f40aa08da');\n",
              "          const dataTable =\n",
              "            await google.colab.kernel.invokeFunction('convertToInteractive',\n",
              "                                                     [key], {});\n",
              "          if (!dataTable) return;\n",
              "\n",
              "          const docLinkHtml = 'Like what you see? Visit the ' +\n",
              "            '<a target=\"_blank\" href=https://colab.research.google.com/notebooks/data_table.ipynb>data table notebook</a>'\n",
              "            + ' to learn more about interactive tables.';\n",
              "          element.innerHTML = '';\n",
              "          dataTable['output_type'] = 'display_data';\n",
              "          await google.colab.output.renderOutput(dataTable, element);\n",
              "          const docLink = document.createElement('div');\n",
              "          docLink.innerHTML = docLinkHtml;\n",
              "          element.appendChild(docLink);\n",
              "        }\n",
              "      </script>\n",
              "    </div>\n",
              "  </div>\n",
              "  "
            ]
          },
          "metadata": {},
          "execution_count": 32
        }
      ]
    },
    {
      "cell_type": "code",
      "source": [
        "df_train = X_train\n",
        "df_train['y'] = y_train\n",
        "df_train"
      ],
      "metadata": {
        "colab": {
          "base_uri": "https://localhost:8080/",
          "height": 424
        },
        "id": "qun0L32EysiX",
        "outputId": "6544db5b-bfac-4172-941b-cd799813d8dc"
      },
      "execution_count": 33,
      "outputs": [
        {
          "output_type": "execute_result",
          "data": {
            "text/plain": [
              "     dB  val  acous  dur  y\n",
              "382  -5   28      0  293  1\n",
              "994  -6   71      1  171  1\n",
              "982 -10   23     29  354  0\n",
              "47   -3   94      3  213  1\n",
              "521  -7   28     25  253  1\n",
              "..   ..  ...    ...  ... ..\n",
              "767 -11   18     17  259  1\n",
              "72   -5   84     33  248  0\n",
              "908  -6   41     23  207  1\n",
              "235  -7   72     59  245  1\n",
              "37   -9   73     44  250  1\n",
              "\n",
              "[800 rows x 5 columns]"
            ],
            "text/html": [
              "\n",
              "  <div id=\"df-2b73212c-2848-4d40-bbb3-6a2b121a6482\">\n",
              "    <div class=\"colab-df-container\">\n",
              "      <div>\n",
              "<style scoped>\n",
              "    .dataframe tbody tr th:only-of-type {\n",
              "        vertical-align: middle;\n",
              "    }\n",
              "\n",
              "    .dataframe tbody tr th {\n",
              "        vertical-align: top;\n",
              "    }\n",
              "\n",
              "    .dataframe thead th {\n",
              "        text-align: right;\n",
              "    }\n",
              "</style>\n",
              "<table border=\"1\" class=\"dataframe\">\n",
              "  <thead>\n",
              "    <tr style=\"text-align: right;\">\n",
              "      <th></th>\n",
              "      <th>dB</th>\n",
              "      <th>val</th>\n",
              "      <th>acous</th>\n",
              "      <th>dur</th>\n",
              "      <th>y</th>\n",
              "    </tr>\n",
              "  </thead>\n",
              "  <tbody>\n",
              "    <tr>\n",
              "      <th>382</th>\n",
              "      <td>-5</td>\n",
              "      <td>28</td>\n",
              "      <td>0</td>\n",
              "      <td>293</td>\n",
              "      <td>1</td>\n",
              "    </tr>\n",
              "    <tr>\n",
              "      <th>994</th>\n",
              "      <td>-6</td>\n",
              "      <td>71</td>\n",
              "      <td>1</td>\n",
              "      <td>171</td>\n",
              "      <td>1</td>\n",
              "    </tr>\n",
              "    <tr>\n",
              "      <th>982</th>\n",
              "      <td>-10</td>\n",
              "      <td>23</td>\n",
              "      <td>29</td>\n",
              "      <td>354</td>\n",
              "      <td>0</td>\n",
              "    </tr>\n",
              "    <tr>\n",
              "      <th>47</th>\n",
              "      <td>-3</td>\n",
              "      <td>94</td>\n",
              "      <td>3</td>\n",
              "      <td>213</td>\n",
              "      <td>1</td>\n",
              "    </tr>\n",
              "    <tr>\n",
              "      <th>521</th>\n",
              "      <td>-7</td>\n",
              "      <td>28</td>\n",
              "      <td>25</td>\n",
              "      <td>253</td>\n",
              "      <td>1</td>\n",
              "    </tr>\n",
              "    <tr>\n",
              "      <th>...</th>\n",
              "      <td>...</td>\n",
              "      <td>...</td>\n",
              "      <td>...</td>\n",
              "      <td>...</td>\n",
              "      <td>...</td>\n",
              "    </tr>\n",
              "    <tr>\n",
              "      <th>767</th>\n",
              "      <td>-11</td>\n",
              "      <td>18</td>\n",
              "      <td>17</td>\n",
              "      <td>259</td>\n",
              "      <td>1</td>\n",
              "    </tr>\n",
              "    <tr>\n",
              "      <th>72</th>\n",
              "      <td>-5</td>\n",
              "      <td>84</td>\n",
              "      <td>33</td>\n",
              "      <td>248</td>\n",
              "      <td>0</td>\n",
              "    </tr>\n",
              "    <tr>\n",
              "      <th>908</th>\n",
              "      <td>-6</td>\n",
              "      <td>41</td>\n",
              "      <td>23</td>\n",
              "      <td>207</td>\n",
              "      <td>1</td>\n",
              "    </tr>\n",
              "    <tr>\n",
              "      <th>235</th>\n",
              "      <td>-7</td>\n",
              "      <td>72</td>\n",
              "      <td>59</td>\n",
              "      <td>245</td>\n",
              "      <td>1</td>\n",
              "    </tr>\n",
              "    <tr>\n",
              "      <th>37</th>\n",
              "      <td>-9</td>\n",
              "      <td>73</td>\n",
              "      <td>44</td>\n",
              "      <td>250</td>\n",
              "      <td>1</td>\n",
              "    </tr>\n",
              "  </tbody>\n",
              "</table>\n",
              "<p>800 rows × 5 columns</p>\n",
              "</div>\n",
              "      <button class=\"colab-df-convert\" onclick=\"convertToInteractive('df-2b73212c-2848-4d40-bbb3-6a2b121a6482')\"\n",
              "              title=\"Convert this dataframe to an interactive table.\"\n",
              "              style=\"display:none;\">\n",
              "        \n",
              "  <svg xmlns=\"http://www.w3.org/2000/svg\" height=\"24px\"viewBox=\"0 0 24 24\"\n",
              "       width=\"24px\">\n",
              "    <path d=\"M0 0h24v24H0V0z\" fill=\"none\"/>\n",
              "    <path d=\"M18.56 5.44l.94 2.06.94-2.06 2.06-.94-2.06-.94-.94-2.06-.94 2.06-2.06.94zm-11 1L8.5 8.5l.94-2.06 2.06-.94-2.06-.94L8.5 2.5l-.94 2.06-2.06.94zm10 10l.94 2.06.94-2.06 2.06-.94-2.06-.94-.94-2.06-.94 2.06-2.06.94z\"/><path d=\"M17.41 7.96l-1.37-1.37c-.4-.4-.92-.59-1.43-.59-.52 0-1.04.2-1.43.59L10.3 9.45l-7.72 7.72c-.78.78-.78 2.05 0 2.83L4 21.41c.39.39.9.59 1.41.59.51 0 1.02-.2 1.41-.59l7.78-7.78 2.81-2.81c.8-.78.8-2.07 0-2.86zM5.41 20L4 18.59l7.72-7.72 1.47 1.35L5.41 20z\"/>\n",
              "  </svg>\n",
              "      </button>\n",
              "      \n",
              "  <style>\n",
              "    .colab-df-container {\n",
              "      display:flex;\n",
              "      flex-wrap:wrap;\n",
              "      gap: 12px;\n",
              "    }\n",
              "\n",
              "    .colab-df-convert {\n",
              "      background-color: #E8F0FE;\n",
              "      border: none;\n",
              "      border-radius: 50%;\n",
              "      cursor: pointer;\n",
              "      display: none;\n",
              "      fill: #1967D2;\n",
              "      height: 32px;\n",
              "      padding: 0 0 0 0;\n",
              "      width: 32px;\n",
              "    }\n",
              "\n",
              "    .colab-df-convert:hover {\n",
              "      background-color: #E2EBFA;\n",
              "      box-shadow: 0px 1px 2px rgba(60, 64, 67, 0.3), 0px 1px 3px 1px rgba(60, 64, 67, 0.15);\n",
              "      fill: #174EA6;\n",
              "    }\n",
              "\n",
              "    [theme=dark] .colab-df-convert {\n",
              "      background-color: #3B4455;\n",
              "      fill: #D2E3FC;\n",
              "    }\n",
              "\n",
              "    [theme=dark] .colab-df-convert:hover {\n",
              "      background-color: #434B5C;\n",
              "      box-shadow: 0px 1px 3px 1px rgba(0, 0, 0, 0.15);\n",
              "      filter: drop-shadow(0px 1px 2px rgba(0, 0, 0, 0.3));\n",
              "      fill: #FFFFFF;\n",
              "    }\n",
              "  </style>\n",
              "\n",
              "      <script>\n",
              "        const buttonEl =\n",
              "          document.querySelector('#df-2b73212c-2848-4d40-bbb3-6a2b121a6482 button.colab-df-convert');\n",
              "        buttonEl.style.display =\n",
              "          google.colab.kernel.accessAllowed ? 'block' : 'none';\n",
              "\n",
              "        async function convertToInteractive(key) {\n",
              "          const element = document.querySelector('#df-2b73212c-2848-4d40-bbb3-6a2b121a6482');\n",
              "          const dataTable =\n",
              "            await google.colab.kernel.invokeFunction('convertToInteractive',\n",
              "                                                     [key], {});\n",
              "          if (!dataTable) return;\n",
              "\n",
              "          const docLinkHtml = 'Like what you see? Visit the ' +\n",
              "            '<a target=\"_blank\" href=https://colab.research.google.com/notebooks/data_table.ipynb>data table notebook</a>'\n",
              "            + ' to learn more about interactive tables.';\n",
              "          element.innerHTML = '';\n",
              "          dataTable['output_type'] = 'display_data';\n",
              "          await google.colab.output.renderOutput(dataTable, element);\n",
              "          const docLink = document.createElement('div');\n",
              "          docLink.innerHTML = docLinkHtml;\n",
              "          element.appendChild(docLink);\n",
              "        }\n",
              "      </script>\n",
              "    </div>\n",
              "  </div>\n",
              "  "
            ]
          },
          "metadata": {},
          "execution_count": 33
        }
      ]
    },
    {
      "cell_type": "code",
      "source": [
        "df_test = X_test\n",
        "df_test['y'] = y_test\n",
        "df_test"
      ],
      "metadata": {
        "colab": {
          "base_uri": "https://localhost:8080/",
          "height": 424
        },
        "id": "Bg_7LNPByuCB",
        "outputId": "eba75606-33ee-4f32-e220-74a1e9178efb"
      },
      "execution_count": 34,
      "outputs": [
        {
          "output_type": "execute_result",
          "data": {
            "text/plain": [
              "     dB  val  acous  dur  y\n",
              "507  -5   40      4  284  1\n",
              "818  -5   81     21  201  1\n",
              "452  -6   88      2  190  0\n",
              "368  -6   48      1  231  1\n",
              "242  -6   33      4  171  1\n",
              "..   ..  ...    ...  ... ..\n",
              "430  -4   94     30  235  1\n",
              "874  -8   33     15  173  1\n",
              "550  -5   25      2  224  1\n",
              "608  -5   42      8  209  1\n",
              "207  -6   46      5  200  1\n",
              "\n",
              "[200 rows x 5 columns]"
            ],
            "text/html": [
              "\n",
              "  <div id=\"df-3ad59137-e987-4798-9543-f16c5b70fb4c\">\n",
              "    <div class=\"colab-df-container\">\n",
              "      <div>\n",
              "<style scoped>\n",
              "    .dataframe tbody tr th:only-of-type {\n",
              "        vertical-align: middle;\n",
              "    }\n",
              "\n",
              "    .dataframe tbody tr th {\n",
              "        vertical-align: top;\n",
              "    }\n",
              "\n",
              "    .dataframe thead th {\n",
              "        text-align: right;\n",
              "    }\n",
              "</style>\n",
              "<table border=\"1\" class=\"dataframe\">\n",
              "  <thead>\n",
              "    <tr style=\"text-align: right;\">\n",
              "      <th></th>\n",
              "      <th>dB</th>\n",
              "      <th>val</th>\n",
              "      <th>acous</th>\n",
              "      <th>dur</th>\n",
              "      <th>y</th>\n",
              "    </tr>\n",
              "  </thead>\n",
              "  <tbody>\n",
              "    <tr>\n",
              "      <th>507</th>\n",
              "      <td>-5</td>\n",
              "      <td>40</td>\n",
              "      <td>4</td>\n",
              "      <td>284</td>\n",
              "      <td>1</td>\n",
              "    </tr>\n",
              "    <tr>\n",
              "      <th>818</th>\n",
              "      <td>-5</td>\n",
              "      <td>81</td>\n",
              "      <td>21</td>\n",
              "      <td>201</td>\n",
              "      <td>1</td>\n",
              "    </tr>\n",
              "    <tr>\n",
              "      <th>452</th>\n",
              "      <td>-6</td>\n",
              "      <td>88</td>\n",
              "      <td>2</td>\n",
              "      <td>190</td>\n",
              "      <td>0</td>\n",
              "    </tr>\n",
              "    <tr>\n",
              "      <th>368</th>\n",
              "      <td>-6</td>\n",
              "      <td>48</td>\n",
              "      <td>1</td>\n",
              "      <td>231</td>\n",
              "      <td>1</td>\n",
              "    </tr>\n",
              "    <tr>\n",
              "      <th>242</th>\n",
              "      <td>-6</td>\n",
              "      <td>33</td>\n",
              "      <td>4</td>\n",
              "      <td>171</td>\n",
              "      <td>1</td>\n",
              "    </tr>\n",
              "    <tr>\n",
              "      <th>...</th>\n",
              "      <td>...</td>\n",
              "      <td>...</td>\n",
              "      <td>...</td>\n",
              "      <td>...</td>\n",
              "      <td>...</td>\n",
              "    </tr>\n",
              "    <tr>\n",
              "      <th>430</th>\n",
              "      <td>-4</td>\n",
              "      <td>94</td>\n",
              "      <td>30</td>\n",
              "      <td>235</td>\n",
              "      <td>1</td>\n",
              "    </tr>\n",
              "    <tr>\n",
              "      <th>874</th>\n",
              "      <td>-8</td>\n",
              "      <td>33</td>\n",
              "      <td>15</td>\n",
              "      <td>173</td>\n",
              "      <td>1</td>\n",
              "    </tr>\n",
              "    <tr>\n",
              "      <th>550</th>\n",
              "      <td>-5</td>\n",
              "      <td>25</td>\n",
              "      <td>2</td>\n",
              "      <td>224</td>\n",
              "      <td>1</td>\n",
              "    </tr>\n",
              "    <tr>\n",
              "      <th>608</th>\n",
              "      <td>-5</td>\n",
              "      <td>42</td>\n",
              "      <td>8</td>\n",
              "      <td>209</td>\n",
              "      <td>1</td>\n",
              "    </tr>\n",
              "    <tr>\n",
              "      <th>207</th>\n",
              "      <td>-6</td>\n",
              "      <td>46</td>\n",
              "      <td>5</td>\n",
              "      <td>200</td>\n",
              "      <td>1</td>\n",
              "    </tr>\n",
              "  </tbody>\n",
              "</table>\n",
              "<p>200 rows × 5 columns</p>\n",
              "</div>\n",
              "      <button class=\"colab-df-convert\" onclick=\"convertToInteractive('df-3ad59137-e987-4798-9543-f16c5b70fb4c')\"\n",
              "              title=\"Convert this dataframe to an interactive table.\"\n",
              "              style=\"display:none;\">\n",
              "        \n",
              "  <svg xmlns=\"http://www.w3.org/2000/svg\" height=\"24px\"viewBox=\"0 0 24 24\"\n",
              "       width=\"24px\">\n",
              "    <path d=\"M0 0h24v24H0V0z\" fill=\"none\"/>\n",
              "    <path d=\"M18.56 5.44l.94 2.06.94-2.06 2.06-.94-2.06-.94-.94-2.06-.94 2.06-2.06.94zm-11 1L8.5 8.5l.94-2.06 2.06-.94-2.06-.94L8.5 2.5l-.94 2.06-2.06.94zm10 10l.94 2.06.94-2.06 2.06-.94-2.06-.94-.94-2.06-.94 2.06-2.06.94z\"/><path d=\"M17.41 7.96l-1.37-1.37c-.4-.4-.92-.59-1.43-.59-.52 0-1.04.2-1.43.59L10.3 9.45l-7.72 7.72c-.78.78-.78 2.05 0 2.83L4 21.41c.39.39.9.59 1.41.59.51 0 1.02-.2 1.41-.59l7.78-7.78 2.81-2.81c.8-.78.8-2.07 0-2.86zM5.41 20L4 18.59l7.72-7.72 1.47 1.35L5.41 20z\"/>\n",
              "  </svg>\n",
              "      </button>\n",
              "      \n",
              "  <style>\n",
              "    .colab-df-container {\n",
              "      display:flex;\n",
              "      flex-wrap:wrap;\n",
              "      gap: 12px;\n",
              "    }\n",
              "\n",
              "    .colab-df-convert {\n",
              "      background-color: #E8F0FE;\n",
              "      border: none;\n",
              "      border-radius: 50%;\n",
              "      cursor: pointer;\n",
              "      display: none;\n",
              "      fill: #1967D2;\n",
              "      height: 32px;\n",
              "      padding: 0 0 0 0;\n",
              "      width: 32px;\n",
              "    }\n",
              "\n",
              "    .colab-df-convert:hover {\n",
              "      background-color: #E2EBFA;\n",
              "      box-shadow: 0px 1px 2px rgba(60, 64, 67, 0.3), 0px 1px 3px 1px rgba(60, 64, 67, 0.15);\n",
              "      fill: #174EA6;\n",
              "    }\n",
              "\n",
              "    [theme=dark] .colab-df-convert {\n",
              "      background-color: #3B4455;\n",
              "      fill: #D2E3FC;\n",
              "    }\n",
              "\n",
              "    [theme=dark] .colab-df-convert:hover {\n",
              "      background-color: #434B5C;\n",
              "      box-shadow: 0px 1px 3px 1px rgba(0, 0, 0, 0.15);\n",
              "      filter: drop-shadow(0px 1px 2px rgba(0, 0, 0, 0.3));\n",
              "      fill: #FFFFFF;\n",
              "    }\n",
              "  </style>\n",
              "\n",
              "      <script>\n",
              "        const buttonEl =\n",
              "          document.querySelector('#df-3ad59137-e987-4798-9543-f16c5b70fb4c button.colab-df-convert');\n",
              "        buttonEl.style.display =\n",
              "          google.colab.kernel.accessAllowed ? 'block' : 'none';\n",
              "\n",
              "        async function convertToInteractive(key) {\n",
              "          const element = document.querySelector('#df-3ad59137-e987-4798-9543-f16c5b70fb4c');\n",
              "          const dataTable =\n",
              "            await google.colab.kernel.invokeFunction('convertToInteractive',\n",
              "                                                     [key], {});\n",
              "          if (!dataTable) return;\n",
              "\n",
              "          const docLinkHtml = 'Like what you see? Visit the ' +\n",
              "            '<a target=\"_blank\" href=https://colab.research.google.com/notebooks/data_table.ipynb>data table notebook</a>'\n",
              "            + ' to learn more about interactive tables.';\n",
              "          element.innerHTML = '';\n",
              "          dataTable['output_type'] = 'display_data';\n",
              "          await google.colab.output.renderOutput(dataTable, element);\n",
              "          const docLink = document.createElement('div');\n",
              "          docLink.innerHTML = docLinkHtml;\n",
              "          element.appendChild(docLink);\n",
              "        }\n",
              "      </script>\n",
              "    </div>\n",
              "  </div>\n",
              "  "
            ]
          },
          "metadata": {},
          "execution_count": 34
        }
      ]
    },
    {
      "cell_type": "code",
      "source": [
        "df_train"
      ],
      "metadata": {
        "colab": {
          "base_uri": "https://localhost:8080/",
          "height": 424
        },
        "id": "gfoYDYQcyvzY",
        "outputId": "3dd6eff3-da85-4a3a-a1ec-8edcde37fb91"
      },
      "execution_count": 35,
      "outputs": [
        {
          "output_type": "execute_result",
          "data": {
            "text/plain": [
              "     dB  val  acous  dur  y\n",
              "382  -5   28      0  293  1\n",
              "994  -6   71      1  171  1\n",
              "982 -10   23     29  354  0\n",
              "47   -3   94      3  213  1\n",
              "521  -7   28     25  253  1\n",
              "..   ..  ...    ...  ... ..\n",
              "767 -11   18     17  259  1\n",
              "72   -5   84     33  248  0\n",
              "908  -6   41     23  207  1\n",
              "235  -7   72     59  245  1\n",
              "37   -9   73     44  250  1\n",
              "\n",
              "[800 rows x 5 columns]"
            ],
            "text/html": [
              "\n",
              "  <div id=\"df-3f687495-ee3d-4b81-8d99-d95e1403ad34\">\n",
              "    <div class=\"colab-df-container\">\n",
              "      <div>\n",
              "<style scoped>\n",
              "    .dataframe tbody tr th:only-of-type {\n",
              "        vertical-align: middle;\n",
              "    }\n",
              "\n",
              "    .dataframe tbody tr th {\n",
              "        vertical-align: top;\n",
              "    }\n",
              "\n",
              "    .dataframe thead th {\n",
              "        text-align: right;\n",
              "    }\n",
              "</style>\n",
              "<table border=\"1\" class=\"dataframe\">\n",
              "  <thead>\n",
              "    <tr style=\"text-align: right;\">\n",
              "      <th></th>\n",
              "      <th>dB</th>\n",
              "      <th>val</th>\n",
              "      <th>acous</th>\n",
              "      <th>dur</th>\n",
              "      <th>y</th>\n",
              "    </tr>\n",
              "  </thead>\n",
              "  <tbody>\n",
              "    <tr>\n",
              "      <th>382</th>\n",
              "      <td>-5</td>\n",
              "      <td>28</td>\n",
              "      <td>0</td>\n",
              "      <td>293</td>\n",
              "      <td>1</td>\n",
              "    </tr>\n",
              "    <tr>\n",
              "      <th>994</th>\n",
              "      <td>-6</td>\n",
              "      <td>71</td>\n",
              "      <td>1</td>\n",
              "      <td>171</td>\n",
              "      <td>1</td>\n",
              "    </tr>\n",
              "    <tr>\n",
              "      <th>982</th>\n",
              "      <td>-10</td>\n",
              "      <td>23</td>\n",
              "      <td>29</td>\n",
              "      <td>354</td>\n",
              "      <td>0</td>\n",
              "    </tr>\n",
              "    <tr>\n",
              "      <th>47</th>\n",
              "      <td>-3</td>\n",
              "      <td>94</td>\n",
              "      <td>3</td>\n",
              "      <td>213</td>\n",
              "      <td>1</td>\n",
              "    </tr>\n",
              "    <tr>\n",
              "      <th>521</th>\n",
              "      <td>-7</td>\n",
              "      <td>28</td>\n",
              "      <td>25</td>\n",
              "      <td>253</td>\n",
              "      <td>1</td>\n",
              "    </tr>\n",
              "    <tr>\n",
              "      <th>...</th>\n",
              "      <td>...</td>\n",
              "      <td>...</td>\n",
              "      <td>...</td>\n",
              "      <td>...</td>\n",
              "      <td>...</td>\n",
              "    </tr>\n",
              "    <tr>\n",
              "      <th>767</th>\n",
              "      <td>-11</td>\n",
              "      <td>18</td>\n",
              "      <td>17</td>\n",
              "      <td>259</td>\n",
              "      <td>1</td>\n",
              "    </tr>\n",
              "    <tr>\n",
              "      <th>72</th>\n",
              "      <td>-5</td>\n",
              "      <td>84</td>\n",
              "      <td>33</td>\n",
              "      <td>248</td>\n",
              "      <td>0</td>\n",
              "    </tr>\n",
              "    <tr>\n",
              "      <th>908</th>\n",
              "      <td>-6</td>\n",
              "      <td>41</td>\n",
              "      <td>23</td>\n",
              "      <td>207</td>\n",
              "      <td>1</td>\n",
              "    </tr>\n",
              "    <tr>\n",
              "      <th>235</th>\n",
              "      <td>-7</td>\n",
              "      <td>72</td>\n",
              "      <td>59</td>\n",
              "      <td>245</td>\n",
              "      <td>1</td>\n",
              "    </tr>\n",
              "    <tr>\n",
              "      <th>37</th>\n",
              "      <td>-9</td>\n",
              "      <td>73</td>\n",
              "      <td>44</td>\n",
              "      <td>250</td>\n",
              "      <td>1</td>\n",
              "    </tr>\n",
              "  </tbody>\n",
              "</table>\n",
              "<p>800 rows × 5 columns</p>\n",
              "</div>\n",
              "      <button class=\"colab-df-convert\" onclick=\"convertToInteractive('df-3f687495-ee3d-4b81-8d99-d95e1403ad34')\"\n",
              "              title=\"Convert this dataframe to an interactive table.\"\n",
              "              style=\"display:none;\">\n",
              "        \n",
              "  <svg xmlns=\"http://www.w3.org/2000/svg\" height=\"24px\"viewBox=\"0 0 24 24\"\n",
              "       width=\"24px\">\n",
              "    <path d=\"M0 0h24v24H0V0z\" fill=\"none\"/>\n",
              "    <path d=\"M18.56 5.44l.94 2.06.94-2.06 2.06-.94-2.06-.94-.94-2.06-.94 2.06-2.06.94zm-11 1L8.5 8.5l.94-2.06 2.06-.94-2.06-.94L8.5 2.5l-.94 2.06-2.06.94zm10 10l.94 2.06.94-2.06 2.06-.94-2.06-.94-.94-2.06-.94 2.06-2.06.94z\"/><path d=\"M17.41 7.96l-1.37-1.37c-.4-.4-.92-.59-1.43-.59-.52 0-1.04.2-1.43.59L10.3 9.45l-7.72 7.72c-.78.78-.78 2.05 0 2.83L4 21.41c.39.39.9.59 1.41.59.51 0 1.02-.2 1.41-.59l7.78-7.78 2.81-2.81c.8-.78.8-2.07 0-2.86zM5.41 20L4 18.59l7.72-7.72 1.47 1.35L5.41 20z\"/>\n",
              "  </svg>\n",
              "      </button>\n",
              "      \n",
              "  <style>\n",
              "    .colab-df-container {\n",
              "      display:flex;\n",
              "      flex-wrap:wrap;\n",
              "      gap: 12px;\n",
              "    }\n",
              "\n",
              "    .colab-df-convert {\n",
              "      background-color: #E8F0FE;\n",
              "      border: none;\n",
              "      border-radius: 50%;\n",
              "      cursor: pointer;\n",
              "      display: none;\n",
              "      fill: #1967D2;\n",
              "      height: 32px;\n",
              "      padding: 0 0 0 0;\n",
              "      width: 32px;\n",
              "    }\n",
              "\n",
              "    .colab-df-convert:hover {\n",
              "      background-color: #E2EBFA;\n",
              "      box-shadow: 0px 1px 2px rgba(60, 64, 67, 0.3), 0px 1px 3px 1px rgba(60, 64, 67, 0.15);\n",
              "      fill: #174EA6;\n",
              "    }\n",
              "\n",
              "    [theme=dark] .colab-df-convert {\n",
              "      background-color: #3B4455;\n",
              "      fill: #D2E3FC;\n",
              "    }\n",
              "\n",
              "    [theme=dark] .colab-df-convert:hover {\n",
              "      background-color: #434B5C;\n",
              "      box-shadow: 0px 1px 3px 1px rgba(0, 0, 0, 0.15);\n",
              "      filter: drop-shadow(0px 1px 2px rgba(0, 0, 0, 0.3));\n",
              "      fill: #FFFFFF;\n",
              "    }\n",
              "  </style>\n",
              "\n",
              "      <script>\n",
              "        const buttonEl =\n",
              "          document.querySelector('#df-3f687495-ee3d-4b81-8d99-d95e1403ad34 button.colab-df-convert');\n",
              "        buttonEl.style.display =\n",
              "          google.colab.kernel.accessAllowed ? 'block' : 'none';\n",
              "\n",
              "        async function convertToInteractive(key) {\n",
              "          const element = document.querySelector('#df-3f687495-ee3d-4b81-8d99-d95e1403ad34');\n",
              "          const dataTable =\n",
              "            await google.colab.kernel.invokeFunction('convertToInteractive',\n",
              "                                                     [key], {});\n",
              "          if (!dataTable) return;\n",
              "\n",
              "          const docLinkHtml = 'Like what you see? Visit the ' +\n",
              "            '<a target=\"_blank\" href=https://colab.research.google.com/notebooks/data_table.ipynb>data table notebook</a>'\n",
              "            + ' to learn more about interactive tables.';\n",
              "          element.innerHTML = '';\n",
              "          dataTable['output_type'] = 'display_data';\n",
              "          await google.colab.output.renderOutput(dataTable, element);\n",
              "          const docLink = document.createElement('div');\n",
              "          docLink.innerHTML = docLinkHtml;\n",
              "          element.appendChild(docLink);\n",
              "        }\n",
              "      </script>\n",
              "    </div>\n",
              "  </div>\n",
              "  "
            ]
          },
          "metadata": {},
          "execution_count": 35
        }
      ]
    },
    {
      "cell_type": "code",
      "source": [
        "current_mod=smf.logit('y~dB+val+acous+dur', data=df_train).fit()\n",
        "print('ITERATION 1: BIC of the Current Model',current_mod.bic)"
      ],
      "metadata": {
        "colab": {
          "base_uri": "https://localhost:8080/"
        },
        "id": "tISTWnQZy8-m",
        "outputId": "af445cc2-31f3-46ec-b04d-3ecc2d13532d"
      },
      "execution_count": 36,
      "outputs": [
        {
          "output_type": "stream",
          "name": "stdout",
          "text": [
            "Optimization terminated successfully.\n",
            "         Current function value: 0.554832\n",
            "         Iterations 5\n",
            "ITERATION 1: BIC of the Current Model 921.1540366753543\n"
          ]
        }
      ]
    },
    {
      "cell_type": "code",
      "source": [
        "#remove dB\n",
        "current_mod=smf.logit('y~val+acous+dur', data=df_train).fit()\n",
        "print('ITERATION 1: BIC of the Current Model',current_mod.bic)"
      ],
      "metadata": {
        "colab": {
          "base_uri": "https://localhost:8080/"
        },
        "id": "UY9Y2WNGy-hv",
        "outputId": "8cdec014-f4bd-421e-c7f6-cb1d4f62e51a"
      },
      "execution_count": 37,
      "outputs": [
        {
          "output_type": "stream",
          "name": "stdout",
          "text": [
            "Optimization terminated successfully.\n",
            "         Current function value: 0.555370\n",
            "         Iterations 6\n",
            "ITERATION 1: BIC of the Current Model 915.3310482866984\n"
          ]
        }
      ]
    },
    {
      "cell_type": "code",
      "source": [
        "#remove val\n",
        "current_mod=smf.logit('y~dB+acous+dur', data=df_train).fit()\n",
        "print('ITERATION 1: BIC of the Current Model',current_mod.bic)"
      ],
      "metadata": {
        "colab": {
          "base_uri": "https://localhost:8080/"
        },
        "id": "wxXOvysvy_vL",
        "outputId": "09856710-58ab-466d-891a-099f41acf261"
      },
      "execution_count": 38,
      "outputs": [
        {
          "output_type": "stream",
          "name": "stdout",
          "text": [
            "Optimization terminated successfully.\n",
            "         Current function value: 0.557719\n",
            "         Iterations 5\n",
            "ITERATION 1: BIC of the Current Model 919.0889067529895\n"
          ]
        }
      ]
    },
    {
      "cell_type": "code",
      "source": [
        "#remove acous\n",
        "current_mod=smf.logit('y~dB+val+dur', data=df_train).fit()\n",
        "print('ITERATION 1: BIC of the Current Model',current_mod.bic)"
      ],
      "metadata": {
        "colab": {
          "base_uri": "https://localhost:8080/"
        },
        "id": "VXKYQHQJzBCR",
        "outputId": "6ac59291-6a56-4061-d67d-f4853a3db69e"
      },
      "execution_count": 39,
      "outputs": [
        {
          "output_type": "stream",
          "name": "stdout",
          "text": [
            "Optimization terminated successfully.\n",
            "         Current function value: 0.556685\n",
            "         Iterations 5\n",
            "ITERATION 1: BIC of the Current Model 917.4337707869918\n"
          ]
        }
      ]
    },
    {
      "cell_type": "code",
      "source": [
        "#remove dur\n",
        "current_mod=smf.logit('y~dB+val+acous', data=df_train).fit()\n",
        "print('ITERATION 1: BIC of the Current Model',current_mod.bic)"
      ],
      "metadata": {
        "colab": {
          "base_uri": "https://localhost:8080/"
        },
        "id": "QEHcJZeFzCfk",
        "outputId": "c185616b-c624-42ad-cf63-8b7270962a66"
      },
      "execution_count": 40,
      "outputs": [
        {
          "output_type": "stream",
          "name": "stdout",
          "text": [
            "Optimization terminated successfully.\n",
            "         Current function value: 0.559315\n",
            "         Iterations 5\n",
            "ITERATION 1: BIC of the Current Model 921.6420472360563\n"
          ]
        }
      ]
    },
    {
      "cell_type": "code",
      "source": [
        "#remove dB and val\n",
        "current_mod=smf.logit('y~acous+dur', data=df_train).fit()\n",
        "print('ITERATION 1: BIC of the Current Model',current_mod.bic)"
      ],
      "metadata": {
        "colab": {
          "base_uri": "https://localhost:8080/"
        },
        "id": "nFr5mHBezDw4",
        "outputId": "fcbfebae-e843-4d02-afe0-12af9f4faadf"
      },
      "execution_count": 41,
      "outputs": [
        {
          "output_type": "stream",
          "name": "stdout",
          "text": [
            "Optimization terminated successfully.\n",
            "         Current function value: 0.559311\n",
            "         Iterations 5\n",
            "ITERATION 1: BIC of the Current Model 914.9522214300766\n"
          ]
        }
      ]
    },
    {
      "cell_type": "code",
      "source": [
        "#remove dB and acous\n",
        "current_mod=smf.logit('y~val+dur', data=df_train).fit()\n",
        "print('ITERATION 1: BIC of the Current Model',current_mod.bic)"
      ],
      "metadata": {
        "colab": {
          "base_uri": "https://localhost:8080/"
        },
        "id": "jaBTACa-zFnB",
        "outputId": "160af838-2d6a-4996-ff89-f7824fb18614"
      },
      "execution_count": 42,
      "outputs": [
        {
          "output_type": "stream",
          "name": "stdout",
          "text": [
            "Optimization terminated successfully.\n",
            "         Current function value: 0.558228\n",
            "         Iterations 5\n",
            "ITERATION 1: BIC of the Current Model 913.2184877160195\n"
          ]
        }
      ]
    },
    {
      "cell_type": "code",
      "source": [
        "#remove dB and dur\n",
        "current_mod=smf.logit('y~acous+dur', data=df_train).fit()\n",
        "print('ITERATION 1: BIC of the Current Model',current_mod.bic)"
      ],
      "metadata": {
        "colab": {
          "base_uri": "https://localhost:8080/"
        },
        "id": "dQxZkwIxzG2S",
        "outputId": "fae47d62-5cd7-4427-e04d-0b66da6041a2"
      },
      "execution_count": 43,
      "outputs": [
        {
          "output_type": "stream",
          "name": "stdout",
          "text": [
            "Optimization terminated successfully.\n",
            "         Current function value: 0.559311\n",
            "         Iterations 5\n",
            "ITERATION 1: BIC of the Current Model 914.9522214300766\n"
          ]
        }
      ]
    },
    {
      "cell_type": "code",
      "source": [
        "#remove dB and acous and val\n",
        "current_mod=smf.logit('y~dur', data=df_train).fit()\n",
        "print('ITERATION 1: BIC of the Current Model',current_mod.bic)"
      ],
      "metadata": {
        "colab": {
          "base_uri": "https://localhost:8080/"
        },
        "id": "YiGd7JnfzIEP",
        "outputId": "28d7faa4-f2ab-4166-abfa-ade46a10fa76"
      },
      "execution_count": 44,
      "outputs": [
        {
          "output_type": "stream",
          "name": "stdout",
          "text": [
            "Optimization terminated successfully.\n",
            "         Current function value: 0.563223\n",
            "         Iterations 5\n",
            "ITERATION 1: BIC of the Current Model 914.5266829461556\n"
          ]
        }
      ]
    },
    {
      "cell_type": "code",
      "source": [
        "#remove dB and acous and dur\n",
        "current_mod=smf.logit('y~val', data=df_train).fit()\n",
        "print('ITERATION 1: BIC of the Current Model',current_mod.bic)"
      ],
      "metadata": {
        "colab": {
          "base_uri": "https://localhost:8080/"
        },
        "id": "r-KuUJINzJZa",
        "outputId": "42cf6c92-2a5d-433b-e58b-8774e94197d7"
      },
      "execution_count": 45,
      "outputs": [
        {
          "output_type": "stream",
          "name": "stdout",
          "text": [
            "Optimization terminated successfully.\n",
            "         Current function value: 0.562673\n",
            "         Iterations 5\n",
            "ITERATION 1: BIC of the Current Model 913.6458851161311\n"
          ]
        }
      ]
    },
    {
      "cell_type": "markdown",
      "source": [
        "removing dB and acous yielded the lowest BIC. No other model had a lower BIC, which means we can stop the algorithm"
      ],
      "metadata": {
        "id": "Keq6KV8xzM1r"
      }
    },
    {
      "cell_type": "code",
      "source": [
        "#remove dB and acous\n",
        "current_mod=smf.logit('y~val+dur', data=df_train).fit()\n",
        "print('ITERATION 1: BIC of the Current Model',current_mod.bic)"
      ],
      "metadata": {
        "colab": {
          "base_uri": "https://localhost:8080/"
        },
        "id": "Eg0X9R4uzKln",
        "outputId": "e6d77fc1-9d0d-4e24-bc77-1c13f71ba086"
      },
      "execution_count": 46,
      "outputs": [
        {
          "output_type": "stream",
          "name": "stdout",
          "text": [
            "Optimization terminated successfully.\n",
            "         Current function value: 0.558228\n",
            "         Iterations 5\n",
            "ITERATION 1: BIC of the Current Model 913.2184877160195\n"
          ]
        }
      ]
    },
    {
      "cell_type": "code",
      "source": [
        "final_mod=smf.logit('y~val+dur', data=df_train).fit()\n",
        "final_mod.summary()"
      ],
      "metadata": {
        "colab": {
          "base_uri": "https://localhost:8080/",
          "height": 321
        },
        "id": "nRfeDLHSzOtE",
        "outputId": "68ebf935-effd-4ccf-e433-88171aff17a4"
      },
      "execution_count": 47,
      "outputs": [
        {
          "output_type": "stream",
          "name": "stdout",
          "text": [
            "Optimization terminated successfully.\n",
            "         Current function value: 0.558228\n",
            "         Iterations 5\n"
          ]
        },
        {
          "output_type": "execute_result",
          "data": {
            "text/plain": [
              "<class 'statsmodels.iolib.summary.Summary'>\n",
              "\"\"\"\n",
              "                           Logit Regression Results                           \n",
              "==============================================================================\n",
              "Dep. Variable:                      y   No. Observations:                  800\n",
              "Model:                          Logit   Df Residuals:                      797\n",
              "Method:                           MLE   Df Model:                            2\n",
              "Date:                Wed, 04 May 2022   Pseudo R-squ.:                 0.01446\n",
              "Time:                        03:16:37   Log-Likelihood:                -446.58\n",
              "converged:                       True   LL-Null:                       -453.13\n",
              "Covariance Type:            nonrobust   LLR p-value:                  0.001428\n",
              "==============================================================================\n",
              "                 coef    std err          z      P>|z|      [0.025      0.975]\n",
              "------------------------------------------------------------------------------\n",
              "Intercept      2.9110      0.559      5.209      0.000       1.816       4.006\n",
              "val           -0.0109      0.004     -2.810      0.005      -0.018      -0.003\n",
              "dur           -0.0057      0.002     -2.669      0.008      -0.010      -0.002\n",
              "==============================================================================\n",
              "\"\"\""
            ],
            "text/html": [
              "<table class=\"simpletable\">\n",
              "<caption>Logit Regression Results</caption>\n",
              "<tr>\n",
              "  <th>Dep. Variable:</th>           <td>y</td>        <th>  No. Observations:  </th>  <td>   800</td> \n",
              "</tr>\n",
              "<tr>\n",
              "  <th>Model:</th>                 <td>Logit</td>      <th>  Df Residuals:      </th>  <td>   797</td> \n",
              "</tr>\n",
              "<tr>\n",
              "  <th>Method:</th>                 <td>MLE</td>       <th>  Df Model:          </th>  <td>     2</td> \n",
              "</tr>\n",
              "<tr>\n",
              "  <th>Date:</th>            <td>Wed, 04 May 2022</td> <th>  Pseudo R-squ.:     </th>  <td>0.01446</td>\n",
              "</tr>\n",
              "<tr>\n",
              "  <th>Time:</th>                <td>03:16:37</td>     <th>  Log-Likelihood:    </th> <td> -446.58</td>\n",
              "</tr>\n",
              "<tr>\n",
              "  <th>converged:</th>             <td>True</td>       <th>  LL-Null:           </th> <td> -453.13</td>\n",
              "</tr>\n",
              "<tr>\n",
              "  <th>Covariance Type:</th>     <td>nonrobust</td>    <th>  LLR p-value:       </th> <td>0.001428</td>\n",
              "</tr>\n",
              "</table>\n",
              "<table class=\"simpletable\">\n",
              "<tr>\n",
              "      <td></td>         <th>coef</th>     <th>std err</th>      <th>z</th>      <th>P>|z|</th>  <th>[0.025</th>    <th>0.975]</th>  \n",
              "</tr>\n",
              "<tr>\n",
              "  <th>Intercept</th> <td>    2.9110</td> <td>    0.559</td> <td>    5.209</td> <td> 0.000</td> <td>    1.816</td> <td>    4.006</td>\n",
              "</tr>\n",
              "<tr>\n",
              "  <th>val</th>       <td>   -0.0109</td> <td>    0.004</td> <td>   -2.810</td> <td> 0.005</td> <td>   -0.018</td> <td>   -0.003</td>\n",
              "</tr>\n",
              "<tr>\n",
              "  <th>dur</th>       <td>   -0.0057</td> <td>    0.002</td> <td>   -2.669</td> <td> 0.008</td> <td>   -0.010</td> <td>   -0.002</td>\n",
              "</tr>\n",
              "</table>"
            ]
          },
          "metadata": {},
          "execution_count": 47
        }
      ]
    },
    {
      "cell_type": "markdown",
      "source": [
        "$log(\\frac{\\hat{p}}{1 - \\hat{p}}) = 2.9110 − 0 0109(val)−0.0057(dur)$\n",
        "\n",
        "\n"
      ],
      "metadata": {
        "id": "7ngVItVGzTEc"
      }
    },
    {
      "cell_type": "markdown",
      "source": [
        "${H_o}$: the slopes for value and duration are zero \\ ${H_a}$: the slopes for either value or duration are non-zero"
      ],
      "metadata": {
        "id": "njnMVu5j2vLD"
      }
    },
    {
      "cell_type": "code",
      "source": [
        "#test for val\n",
        "point_estimate = -0.0109\n",
        "standard_error = 0.004\n",
        "null_value=0\n",
        "test_statistic = (point_estimate-null_value)/standard_error\n",
        "test_statistic "
      ],
      "metadata": {
        "colab": {
          "base_uri": "https://localhost:8080/"
        },
        "id": "zOnlvPG0zQCf",
        "outputId": "04109443-9e27-49b7-967b-101c6e1de105"
      },
      "execution_count": 48,
      "outputs": [
        {
          "output_type": "execute_result",
          "data": {
            "text/plain": [
              "-2.725"
            ]
          },
          "metadata": {},
          "execution_count": 48
        }
      ]
    },
    {
      "cell_type": "code",
      "source": [
        "pvalue = 2*(1-norm.cdf(np.abs(test_statistic)))\n",
        "pvalue"
      ],
      "metadata": {
        "colab": {
          "base_uri": "https://localhost:8080/"
        },
        "id": "8fy8J51iEFq6",
        "outputId": "decf9f5c-e5fb-4162-e832-175e7b9127a4"
      },
      "execution_count": 49,
      "outputs": [
        {
          "output_type": "execute_result",
          "data": {
            "text/plain": [
              "0.006430148706787486"
            ]
          },
          "metadata": {},
          "execution_count": 49
        }
      ]
    },
    {
      "cell_type": "code",
      "source": [
        "#test for dur\n",
        "point_estimate = -0.0057\n",
        "standard_error = 0.002\n",
        "null_value = 0\n",
        "test_statistic = (point_estimate-null_value)/standard_error\n",
        "test_statistic "
      ],
      "metadata": {
        "colab": {
          "base_uri": "https://localhost:8080/"
        },
        "id": "79JsucGSEG6U",
        "outputId": "5b1da4f0-7801-4921-cb58-2c35ce3d4be0"
      },
      "execution_count": 50,
      "outputs": [
        {
          "output_type": "execute_result",
          "data": {
            "text/plain": [
              "-2.85"
            ]
          },
          "metadata": {},
          "execution_count": 50
        }
      ]
    },
    {
      "cell_type": "code",
      "source": [
        "pvalue = 2*(1 - norm.cdf(np.abs(test_statistic)))\n",
        "pvalue"
      ],
      "metadata": {
        "colab": {
          "base_uri": "https://localhost:8080/"
        },
        "id": "2lk5hxRUEM7K",
        "outputId": "31df8b54-c141-41ba-cfe1-351ac7604066"
      },
      "execution_count": 51,
      "outputs": [
        {
          "output_type": "execute_result",
          "data": {
            "text/plain": [
              "0.0043719229098264645"
            ]
          },
          "metadata": {},
          "execution_count": 51
        }
      ]
    },
    {
      "cell_type": "markdown",
      "source": [
        "The two p-values of 0.006430148706787486 and 0.0043719229098264645 are both below an alpha value of 0.05 which means that we reject the null hypothesis that the slopes for duration and value are 0 in our model."
      ],
      "metadata": {
        "id": "z8eECsvPEQNT"
      }
    },
    {
      "cell_type": "code",
      "source": [
        "final_mod_test=smf.logit('y~val+dur', data=df_test).fit()\n",
        "final_mod_test.summary()"
      ],
      "metadata": {
        "colab": {
          "base_uri": "https://localhost:8080/",
          "height": 321
        },
        "id": "j6C_G0f-EOQ3",
        "outputId": "58bc1a0d-161e-4717-b6b5-32052b83376b"
      },
      "execution_count": 52,
      "outputs": [
        {
          "output_type": "stream",
          "name": "stdout",
          "text": [
            "Optimization terminated successfully.\n",
            "         Current function value: 0.556113\n",
            "         Iterations 5\n"
          ]
        },
        {
          "output_type": "execute_result",
          "data": {
            "text/plain": [
              "<class 'statsmodels.iolib.summary.Summary'>\n",
              "\"\"\"\n",
              "                           Logit Regression Results                           \n",
              "==============================================================================\n",
              "Dep. Variable:                      y   No. Observations:                  200\n",
              "Model:                          Logit   Df Residuals:                      197\n",
              "Method:                           MLE   Df Model:                            2\n",
              "Date:                Wed, 04 May 2022   Pseudo R-squ.:                0.001189\n",
              "Time:                        03:16:41   Log-Likelihood:                -111.22\n",
              "converged:                       True   LL-Null:                       -111.36\n",
              "Covariance Type:            nonrobust   LLR p-value:                    0.8760\n",
              "==============================================================================\n",
              "                 coef    std err          z      P>|z|      [0.025      0.975]\n",
              "------------------------------------------------------------------------------\n",
              "Intercept      0.7104      1.147      0.619      0.536      -1.538       2.958\n",
              "val           -0.0002      0.008     -0.020      0.984      -0.016       0.016\n",
              "dur            0.0019      0.004      0.459      0.646      -0.006       0.010\n",
              "==============================================================================\n",
              "\"\"\""
            ],
            "text/html": [
              "<table class=\"simpletable\">\n",
              "<caption>Logit Regression Results</caption>\n",
              "<tr>\n",
              "  <th>Dep. Variable:</th>           <td>y</td>        <th>  No. Observations:  </th>  <td>   200</td> \n",
              "</tr>\n",
              "<tr>\n",
              "  <th>Model:</th>                 <td>Logit</td>      <th>  Df Residuals:      </th>  <td>   197</td> \n",
              "</tr>\n",
              "<tr>\n",
              "  <th>Method:</th>                 <td>MLE</td>       <th>  Df Model:          </th>  <td>     2</td> \n",
              "</tr>\n",
              "<tr>\n",
              "  <th>Date:</th>            <td>Wed, 04 May 2022</td> <th>  Pseudo R-squ.:     </th> <td>0.001189</td>\n",
              "</tr>\n",
              "<tr>\n",
              "  <th>Time:</th>                <td>03:16:41</td>     <th>  Log-Likelihood:    </th> <td> -111.22</td>\n",
              "</tr>\n",
              "<tr>\n",
              "  <th>converged:</th>             <td>True</td>       <th>  LL-Null:           </th> <td> -111.36</td>\n",
              "</tr>\n",
              "<tr>\n",
              "  <th>Covariance Type:</th>     <td>nonrobust</td>    <th>  LLR p-value:       </th>  <td>0.8760</td> \n",
              "</tr>\n",
              "</table>\n",
              "<table class=\"simpletable\">\n",
              "<tr>\n",
              "      <td></td>         <th>coef</th>     <th>std err</th>      <th>z</th>      <th>P>|z|</th>  <th>[0.025</th>    <th>0.975]</th>  \n",
              "</tr>\n",
              "<tr>\n",
              "  <th>Intercept</th> <td>    0.7104</td> <td>    1.147</td> <td>    0.619</td> <td> 0.536</td> <td>   -1.538</td> <td>    2.958</td>\n",
              "</tr>\n",
              "<tr>\n",
              "  <th>val</th>       <td>   -0.0002</td> <td>    0.008</td> <td>   -0.020</td> <td> 0.984</td> <td>   -0.016</td> <td>    0.016</td>\n",
              "</tr>\n",
              "<tr>\n",
              "  <th>dur</th>       <td>    0.0019</td> <td>    0.004</td> <td>    0.459</td> <td> 0.646</td> <td>   -0.006</td> <td>    0.010</td>\n",
              "</tr>\n",
              "</table>"
            ]
          },
          "metadata": {},
          "execution_count": 52
        }
      ]
    },
    {
      "cell_type": "code",
      "source": [
        "fprs, tprs, thresholds = roc_curve(y_true=df_test['y'], y_score=final_mod_test.fittedvalues)"
      ],
      "metadata": {
        "id": "tKH3w9MgESJx"
      },
      "execution_count": 56,
      "outputs": []
    },
    {
      "cell_type": "code",
      "source": [
        "auc = roc_auc_score(y_true=df_test['y'], y_score=final_mod_test.fittedvalues)\n",
        "print(auc)"
      ],
      "metadata": {
        "colab": {
          "base_uri": "https://localhost:8080/"
        },
        "id": "sK3q6RNUGEUP",
        "outputId": "bb4784df-9338-46f5-f579-7f3a7c127f47"
      },
      "execution_count": 57,
      "outputs": [
        {
          "output_type": "stream",
          "name": "stdout",
          "text": [
            "0.5125016894174889\n"
          ]
        }
      ]
    },
    {
      "cell_type": "code",
      "source": [
        "def plot_roc(fpr, tpr, auc, lw=2): \n",
        "   plt.plot(fpr, tpr, color='darkorange', lw=lw, \n",
        "            label='ROC curve (area = '+str(round(auc,3))+')') \n",
        "   plt.plot([0, 1], [0, 1], color='navy', lw=lw, linestyle='--') \n",
        "   plt.xlabel('False Positive Rate') \n",
        "   plt.ylabel('True Positive Rate') \n",
        "   plt.title('ROC Curve') \n",
        "   plt.legend(loc=\"lower right\") \n",
        "   plt.show() \n",
        "plot_roc(fprs, tprs, auc)"
      ],
      "metadata": {
        "colab": {
          "base_uri": "https://localhost:8080/",
          "height": 295
        },
        "id": "evVwDsw-GJf1",
        "outputId": "8535ecde-6a96-4657-d21e-baf580c8b5c7"
      },
      "execution_count": 58,
      "outputs": [
        {
          "output_type": "display_data",
          "data": {
            "text/plain": [
              "<Figure size 432x288 with 1 Axes>"
            ],
            "image/png": "[encoded data removed]"
          },
          "metadata": {
            "needs_background": "light"
          }
        }
      ]
    },
    {
      "cell_type": "code",
      "source": [
        "pred_probabilities=final_mod.predict(exog=dict(df_test))  \n",
        "df_test['predictive_prob']=pred_probabilities \n",
        "df_test"
      ],
      "metadata": {
        "colab": {
          "base_uri": "https://localhost:8080/",
          "height": 424
        },
        "id": "boomvqDBGLD5",
        "outputId": "531d7403-5097-4ccf-bfc7-fafe731bdbd4"
      },
      "execution_count": 59,
      "outputs": [
        {
          "output_type": "execute_result",
          "data": {
            "text/plain": [
              "     dB  val  acous  dur  y  predictive_prob\n",
              "507  -5   40      4  284  1         0.700523\n",
              "818  -5   81     21  201  1         0.706764\n",
              "452  -6   88      2  190  0         0.704052\n",
              "368  -6   48      1  231  1         0.743918\n",
              "242  -6   33      4  171  1         0.828219\n",
              "..   ..  ...    ...  ... ..              ...\n",
              "430  -4   94     30  235  1         0.632682\n",
              "874  -8   33     15  173  1         0.826583\n",
              "550  -5   25      2  224  1         0.795177\n",
              "608  -5   42      8  209  1         0.778617\n",
              "207  -6   46      5  200  1         0.780009\n",
              "\n",
              "[200 rows x 6 columns]"
            ],
            "text/html": [
              "\n",
              "  <div id=\"df-59614423-051a-464d-92e4-4954ca695f37\">\n",
              "    <div class=\"colab-df-container\">\n",
              "      <div>\n",
              "<style scoped>\n",
              "    .dataframe tbody tr th:only-of-type {\n",
              "        vertical-align: middle;\n",
              "    }\n",
              "\n",
              "    .dataframe tbody tr th {\n",
              "        vertical-align: top;\n",
              "    }\n",
              "\n",
              "    .dataframe thead th {\n",
              "        text-align: right;\n",
              "    }\n",
              "</style>\n",
              "<table border=\"1\" class=\"dataframe\">\n",
              "  <thead>\n",
              "    <tr style=\"text-align: right;\">\n",
              "      <th></th>\n",
              "      <th>dB</th>\n",
              "      <th>val</th>\n",
              "      <th>acous</th>\n",
              "      <th>dur</th>\n",
              "      <th>y</th>\n",
              "      <th>predictive_prob</th>\n",
              "    </tr>\n",
              "  </thead>\n",
              "  <tbody>\n",
              "    <tr>\n",
              "      <th>507</th>\n",
              "      <td>-5</td>\n",
              "      <td>40</td>\n",
              "      <td>4</td>\n",
              "      <td>284</td>\n",
              "      <td>1</td>\n",
              "      <td>0.700523</td>\n",
              "    </tr>\n",
              "    <tr>\n",
              "      <th>818</th>\n",
              "      <td>-5</td>\n",
              "      <td>81</td>\n",
              "      <td>21</td>\n",
              "      <td>201</td>\n",
              "      <td>1</td>\n",
              "      <td>0.706764</td>\n",
              "    </tr>\n",
              "    <tr>\n",
              "      <th>452</th>\n",
              "      <td>-6</td>\n",
              "      <td>88</td>\n",
              "      <td>2</td>\n",
              "      <td>190</td>\n",
              "      <td>0</td>\n",
              "      <td>0.704052</td>\n",
              "    </tr>\n",
              "    <tr>\n",
              "      <th>368</th>\n",
              "      <td>-6</td>\n",
              "      <td>48</td>\n",
              "      <td>1</td>\n",
              "      <td>231</td>\n",
              "      <td>1</td>\n",
              "      <td>0.743918</td>\n",
              "    </tr>\n",
              "    <tr>\n",
              "      <th>242</th>\n",
              "      <td>-6</td>\n",
              "      <td>33</td>\n",
              "      <td>4</td>\n",
              "      <td>171</td>\n",
              "      <td>1</td>\n",
              "      <td>0.828219</td>\n",
              "    </tr>\n",
              "    <tr>\n",
              "      <th>...</th>\n",
              "      <td>...</td>\n",
              "      <td>...</td>\n",
              "      <td>...</td>\n",
              "      <td>...</td>\n",
              "      <td>...</td>\n",
              "      <td>...</td>\n",
              "    </tr>\n",
              "    <tr>\n",
              "      <th>430</th>\n",
              "      <td>-4</td>\n",
              "      <td>94</td>\n",
              "      <td>30</td>\n",
              "      <td>235</td>\n",
              "      <td>1</td>\n",
              "      <td>0.632682</td>\n",
              "    </tr>\n",
              "    <tr>\n",
              "      <th>874</th>\n",
              "      <td>-8</td>\n",
              "      <td>33</td>\n",
              "      <td>15</td>\n",
              "      <td>173</td>\n",
              "      <td>1</td>\n",
              "      <td>0.826583</td>\n",
              "    </tr>\n",
              "    <tr>\n",
              "      <th>550</th>\n",
              "      <td>-5</td>\n",
              "      <td>25</td>\n",
              "      <td>2</td>\n",
              "      <td>224</td>\n",
              "      <td>1</td>\n",
              "      <td>0.795177</td>\n",
              "    </tr>\n",
              "    <tr>\n",
              "      <th>608</th>\n",
              "      <td>-5</td>\n",
              "      <td>42</td>\n",
              "      <td>8</td>\n",
              "      <td>209</td>\n",
              "      <td>1</td>\n",
              "      <td>0.778617</td>\n",
              "    </tr>\n",
              "    <tr>\n",
              "      <th>207</th>\n",
              "      <td>-6</td>\n",
              "      <td>46</td>\n",
              "      <td>5</td>\n",
              "      <td>200</td>\n",
              "      <td>1</td>\n",
              "      <td>0.780009</td>\n",
              "    </tr>\n",
              "  </tbody>\n",
              "</table>\n",
              "<p>200 rows × 6 columns</p>\n",
              "</div>\n",
              "      <button class=\"colab-df-convert\" onclick=\"convertToInteractive('df-59614423-051a-464d-92e4-4954ca695f37')\"\n",
              "              title=\"Convert this dataframe to an interactive table.\"\n",
              "              style=\"display:none;\">\n",
              "        \n",
              "  <svg xmlns=\"http://www.w3.org/2000/svg\" height=\"24px\"viewBox=\"0 0 24 24\"\n",
              "       width=\"24px\">\n",
              "    <path d=\"M0 0h24v24H0V0z\" fill=\"none\"/>\n",
              "    <path d=\"M18.56 5.44l.94 2.06.94-2.06 2.06-.94-2.06-.94-.94-2.06-.94 2.06-2.06.94zm-11 1L8.5 8.5l.94-2.06 2.06-.94-2.06-.94L8.5 2.5l-.94 2.06-2.06.94zm10 10l.94 2.06.94-2.06 2.06-.94-2.06-.94-.94-2.06-.94 2.06-2.06.94z\"/><path d=\"M17.41 7.96l-1.37-1.37c-.4-.4-.92-.59-1.43-.59-.52 0-1.04.2-1.43.59L10.3 9.45l-7.72 7.72c-.78.78-.78 2.05 0 2.83L4 21.41c.39.39.9.59 1.41.59.51 0 1.02-.2 1.41-.59l7.78-7.78 2.81-2.81c.8-.78.8-2.07 0-2.86zM5.41 20L4 18.59l7.72-7.72 1.47 1.35L5.41 20z\"/>\n",
              "  </svg>\n",
              "      </button>\n",
              "      \n",
              "  <style>\n",
              "    .colab-df-container {\n",
              "      display:flex;\n",
              "      flex-wrap:wrap;\n",
              "      gap: 12px;\n",
              "    }\n",
              "\n",
              "    .colab-df-convert {\n",
              "      background-color: #E8F0FE;\n",
              "      border: none;\n",
              "      border-radius: 50%;\n",
              "      cursor: pointer;\n",
              "      display: none;\n",
              "      fill: #1967D2;\n",
              "      height: 32px;\n",
              "      padding: 0 0 0 0;\n",
              "      width: 32px;\n",
              "    }\n",
              "\n",
              "    .colab-df-convert:hover {\n",
              "      background-color: #E2EBFA;\n",
              "      box-shadow: 0px 1px 2px rgba(60, 64, 67, 0.3), 0px 1px 3px 1px rgba(60, 64, 67, 0.15);\n",
              "      fill: #174EA6;\n",
              "    }\n",
              "\n",
              "    [theme=dark] .colab-df-convert {\n",
              "      background-color: #3B4455;\n",
              "      fill: #D2E3FC;\n",
              "    }\n",
              "\n",
              "    [theme=dark] .colab-df-convert:hover {\n",
              "      background-color: #434B5C;\n",
              "      box-shadow: 0px 1px 3px 1px rgba(0, 0, 0, 0.15);\n",
              "      filter: drop-shadow(0px 1px 2px rgba(0, 0, 0, 0.3));\n",
              "      fill: #FFFFFF;\n",
              "    }\n",
              "  </style>\n",
              "\n",
              "      <script>\n",
              "        const buttonEl =\n",
              "          document.querySelector('#df-59614423-051a-464d-92e4-4954ca695f37 button.colab-df-convert');\n",
              "        buttonEl.style.display =\n",
              "          google.colab.kernel.accessAllowed ? 'block' : 'none';\n",
              "\n",
              "        async function convertToInteractive(key) {\n",
              "          const element = document.querySelector('#df-59614423-051a-464d-92e4-4954ca695f37');\n",
              "          const dataTable =\n",
              "            await google.colab.kernel.invokeFunction('convertToInteractive',\n",
              "                                                     [key], {});\n",
              "          if (!dataTable) return;\n",
              "\n",
              "          const docLinkHtml = 'Like what you see? Visit the ' +\n",
              "            '<a target=\"_blank\" href=https://colab.research.google.com/notebooks/data_table.ipynb>data table notebook</a>'\n",
              "            + ' to learn more about interactive tables.';\n",
              "          element.innerHTML = '';\n",
              "          dataTable['output_type'] = 'display_data';\n",
              "          await google.colab.output.renderOutput(dataTable, element);\n",
              "          const docLink = document.createElement('div');\n",
              "          docLink.innerHTML = docLinkHtml;\n",
              "          element.appendChild(docLink);\n",
              "        }\n",
              "      </script>\n",
              "    </div>\n",
              "  </div>\n",
              "  "
            ]
          },
          "metadata": {},
          "execution_count": 59
        }
      ]
    },
    {
      "cell_type": "code",
      "source": [
        "df_test['yhat']=1*(df_test['predictive_prob']>0.7) \n",
        "df_test.head() "
      ],
      "metadata": {
        "colab": {
          "base_uri": "https://localhost:8080/",
          "height": 206
        },
        "id": "YnAwjhLJGMiK",
        "outputId": "a0551598-8a69-440b-e673-21fb6de1c841"
      },
      "execution_count": 60,
      "outputs": [
        {
          "output_type": "execute_result",
          "data": {
            "text/plain": [
              "     dB  val  acous  dur  y  predictive_prob  yhat\n",
              "507  -5   40      4  284  1         0.700523     1\n",
              "818  -5   81     21  201  1         0.706764     1\n",
              "452  -6   88      2  190  0         0.704052     1\n",
              "368  -6   48      1  231  1         0.743918     1\n",
              "242  -6   33      4  171  1         0.828219     1"
            ],
            "text/html": [
              "\n",
              "  <div id=\"df-226aa9df-4a28-4355-ad27-b88092555fe2\">\n",
              "    <div class=\"colab-df-container\">\n",
              "      <div>\n",
              "<style scoped>\n",
              "    .dataframe tbody tr th:only-of-type {\n",
              "        vertical-align: middle;\n",
              "    }\n",
              "\n",
              "    .dataframe tbody tr th {\n",
              "        vertical-align: top;\n",
              "    }\n",
              "\n",
              "    .dataframe thead th {\n",
              "        text-align: right;\n",
              "    }\n",
              "</style>\n",
              "<table border=\"1\" class=\"dataframe\">\n",
              "  <thead>\n",
              "    <tr style=\"text-align: right;\">\n",
              "      <th></th>\n",
              "      <th>dB</th>\n",
              "      <th>val</th>\n",
              "      <th>acous</th>\n",
              "      <th>dur</th>\n",
              "      <th>y</th>\n",
              "      <th>predictive_prob</th>\n",
              "      <th>yhat</th>\n",
              "    </tr>\n",
              "  </thead>\n",
              "  <tbody>\n",
              "    <tr>\n",
              "      <th>507</th>\n",
              "      <td>-5</td>\n",
              "      <td>40</td>\n",
              "      <td>4</td>\n",
              "      <td>284</td>\n",
              "      <td>1</td>\n",
              "      <td>0.700523</td>\n",
              "      <td>1</td>\n",
              "    </tr>\n",
              "    <tr>\n",
              "      <th>818</th>\n",
              "      <td>-5</td>\n",
              "      <td>81</td>\n",
              "      <td>21</td>\n",
              "      <td>201</td>\n",
              "      <td>1</td>\n",
              "      <td>0.706764</td>\n",
              "      <td>1</td>\n",
              "    </tr>\n",
              "    <tr>\n",
              "      <th>452</th>\n",
              "      <td>-6</td>\n",
              "      <td>88</td>\n",
              "      <td>2</td>\n",
              "      <td>190</td>\n",
              "      <td>0</td>\n",
              "      <td>0.704052</td>\n",
              "      <td>1</td>\n",
              "    </tr>\n",
              "    <tr>\n",
              "      <th>368</th>\n",
              "      <td>-6</td>\n",
              "      <td>48</td>\n",
              "      <td>1</td>\n",
              "      <td>231</td>\n",
              "      <td>1</td>\n",
              "      <td>0.743918</td>\n",
              "      <td>1</td>\n",
              "    </tr>\n",
              "    <tr>\n",
              "      <th>242</th>\n",
              "      <td>-6</td>\n",
              "      <td>33</td>\n",
              "      <td>4</td>\n",
              "      <td>171</td>\n",
              "      <td>1</td>\n",
              "      <td>0.828219</td>\n",
              "      <td>1</td>\n",
              "    </tr>\n",
              "  </tbody>\n",
              "</table>\n",
              "</div>\n",
              "      <button class=\"colab-df-convert\" onclick=\"convertToInteractive('df-226aa9df-4a28-4355-ad27-b88092555fe2')\"\n",
              "              title=\"Convert this dataframe to an interactive table.\"\n",
              "              style=\"display:none;\">\n",
              "        \n",
              "  <svg xmlns=\"http://www.w3.org/2000/svg\" height=\"24px\"viewBox=\"0 0 24 24\"\n",
              "       width=\"24px\">\n",
              "    <path d=\"M0 0h24v24H0V0z\" fill=\"none\"/>\n",
              "    <path d=\"M18.56 5.44l.94 2.06.94-2.06 2.06-.94-2.06-.94-.94-2.06-.94 2.06-2.06.94zm-11 1L8.5 8.5l.94-2.06 2.06-.94-2.06-.94L8.5 2.5l-.94 2.06-2.06.94zm10 10l.94 2.06.94-2.06 2.06-.94-2.06-.94-.94-2.06-.94 2.06-2.06.94z\"/><path d=\"M17.41 7.96l-1.37-1.37c-.4-.4-.92-.59-1.43-.59-.52 0-1.04.2-1.43.59L10.3 9.45l-7.72 7.72c-.78.78-.78 2.05 0 2.83L4 21.41c.39.39.9.59 1.41.59.51 0 1.02-.2 1.41-.59l7.78-7.78 2.81-2.81c.8-.78.8-2.07 0-2.86zM5.41 20L4 18.59l7.72-7.72 1.47 1.35L5.41 20z\"/>\n",
              "  </svg>\n",
              "      </button>\n",
              "      \n",
              "  <style>\n",
              "    .colab-df-container {\n",
              "      display:flex;\n",
              "      flex-wrap:wrap;\n",
              "      gap: 12px;\n",
              "    }\n",
              "\n",
              "    .colab-df-convert {\n",
              "      background-color: #E8F0FE;\n",
              "      border: none;\n",
              "      border-radius: 50%;\n",
              "      cursor: pointer;\n",
              "      display: none;\n",
              "      fill: #1967D2;\n",
              "      height: 32px;\n",
              "      padding: 0 0 0 0;\n",
              "      width: 32px;\n",
              "    }\n",
              "\n",
              "    .colab-df-convert:hover {\n",
              "      background-color: #E2EBFA;\n",
              "      box-shadow: 0px 1px 2px rgba(60, 64, 67, 0.3), 0px 1px 3px 1px rgba(60, 64, 67, 0.15);\n",
              "      fill: #174EA6;\n",
              "    }\n",
              "\n",
              "    [theme=dark] .colab-df-convert {\n",
              "      background-color: #3B4455;\n",
              "      fill: #D2E3FC;\n",
              "    }\n",
              "\n",
              "    [theme=dark] .colab-df-convert:hover {\n",
              "      background-color: #434B5C;\n",
              "      box-shadow: 0px 1px 3px 1px rgba(0, 0, 0, 0.15);\n",
              "      filter: drop-shadow(0px 1px 2px rgba(0, 0, 0, 0.3));\n",
              "      fill: #FFFFFF;\n",
              "    }\n",
              "  </style>\n",
              "\n",
              "      <script>\n",
              "        const buttonEl =\n",
              "          document.querySelector('#df-226aa9df-4a28-4355-ad27-b88092555fe2 button.colab-df-convert');\n",
              "        buttonEl.style.display =\n",
              "          google.colab.kernel.accessAllowed ? 'block' : 'none';\n",
              "\n",
              "        async function convertToInteractive(key) {\n",
              "          const element = document.querySelector('#df-226aa9df-4a28-4355-ad27-b88092555fe2');\n",
              "          const dataTable =\n",
              "            await google.colab.kernel.invokeFunction('convertToInteractive',\n",
              "                                                     [key], {});\n",
              "          if (!dataTable) return;\n",
              "\n",
              "          const docLinkHtml = 'Like what you see? Visit the ' +\n",
              "            '<a target=\"_blank\" href=https://colab.research.google.com/notebooks/data_table.ipynb>data table notebook</a>'\n",
              "            + ' to learn more about interactive tables.';\n",
              "          element.innerHTML = '';\n",
              "          dataTable['output_type'] = 'display_data';\n",
              "          await google.colab.output.renderOutput(dataTable, element);\n",
              "          const docLink = document.createElement('div');\n",
              "          docLink.innerHTML = docLinkHtml;\n",
              "          element.appendChild(docLink);\n",
              "        }\n",
              "      </script>\n",
              "    </div>\n",
              "  </div>\n",
              "  "
            ]
          },
          "metadata": {},
          "execution_count": 60
        }
      ]
    },
    {
      "cell_type": "code",
      "source": [
        "tn, fp, fn, tp = confusion_matrix(y_true=df_test['y'],  \n",
        "                                 y_pred=df_test['yhat']).ravel() \n",
        "(tn, fp, fn, tp)"
      ],
      "metadata": {
        "colab": {
          "base_uri": "https://localhost:8080/"
        },
        "id": "ajPaTTWsGOYD",
        "outputId": "26df5bfa-30a4-4fc2-dacf-941c5f1d84db"
      },
      "execution_count": 61,
      "outputs": [
        {
          "output_type": "execute_result",
          "data": {
            "text/plain": [
              "(8, 41, 22, 129)"
            ]
          },
          "metadata": {},
          "execution_count": 61
        }
      ]
    },
    {
      "cell_type": "code",
      "source": [
        "cm = confusion_matrix(y_true=df_test['y'], y_pred=df_test['yhat'])\n",
        "x_axis_labels = [\"Solo\", \"Not Solo\"]\n",
        "y_axis_labels = [\"Solo\", \"Not Solo\"]\n",
        "f, ax = plt.subplots(figsize =(7,7))\n",
        "sns.heatmap(cm, annot = True, linewidths=0.2, linecolor=\"black\", fmt = \".0f\", ax=ax, cmap=\"Purples\", xticklabels=x_axis_labels, yticklabels=y_axis_labels)\n",
        "plt.xlabel(\"PREDICTED LABEL\")\n",
        "plt.ylabel(\"TRUE LABEL\")\n",
        "plt.title('Confusion Matrix')\n",
        "#plt.savefig(\"lrcm.png\", format='png', dpi=500, bbox_inches='tight')\n",
        "plt.show()"
      ],
      "metadata": {
        "colab": {
          "base_uri": "https://localhost:8080/",
          "height": 458
        },
        "id": "qpJGy2FyGPz3",
        "outputId": "4a42d092-2fde-41c7-e6e4-dcb8da778270"
      },
      "execution_count": 62,
      "outputs": [
        {
          "output_type": "display_data",
          "data": {
            "text/plain": [
              "<Figure size 504x504 with 2 Axes>"
            ],
            "image/png": "[encoded data removed]"
          },
          "metadata": {
            "needs_background": "light"
          }
        }
      ]
    },
    {
      "cell_type": "markdown",
      "source": [
        "The false positive rate for the testing data is 41/200 and the true positive rate is 129/200.\n",
        "\n",
        "The confusion matrix helped us learn that there are more false negatives than false positives, meaning that it is more likely to incorrectly categorize a solo artist as a non-solo one based on dB, value, acousticness, and duration than to incorrectly classify a group artist as a solo one. This is significant to our initial research question which dealt with the log-odds of the success level of artist type (solo vs. duo/trio/group) and dB, value, acousticness, and duration.\n",
        "\n",
        "If I was a music blogger who exclusively liked to write about non-solo musicians such as bands and groups, these results would be significant to me. From that point of view, false negatives would be the worst thing to have. It would mean that I would potentially write about a solo artist while thinking they are a non-solo one and thereby wasting time. Not writing about a group because I thought they were a solo artist would be much less of a big deal."
      ],
      "metadata": {
        "id": "StSS-YceHBfP"
      }
    },
    {
      "cell_type": "markdown",
      "source": [
        "# **Conclusion**\n",
        "\n"
      ],
      "metadata": {
        "id": "0tnxauGbHFVu"
      }
    },
    {
      "cell_type": "markdown",
      "source": [
        "# **Summarization:**\n",
        "\n",
        "**Descriptive Anallytics**\n",
        "\n",
        "pop and club music seemed to take the cake for most popular within the last decade, with more obscure genres like lilith falling short.\n",
        "\n",
        "**Inference:**\n",
        "I would conclude that I do in fact have sufficient evidence to suggest that at least one of my population mean popularity levels for spotify songs is different from the rest based on the type of artist who made it (solo, duo, trio, band/group). That said, there certainly seems to be an association between how many artists were involved in a song and whether or not that song was popular on spotify within the last decade. As we determined the null hypothesis to be true, this is generalizable to the rest of the population of spotify songs.\n",
        "\n",
        "**Linear Regression:**\n",
        "Our p-value is quite small. At any reasonable alpha value, I have sufficient evidence to suggest that at least one population slope is non-zero for predicting popularity based on energy, bpm, value, and duration.\n",
        "\n",
        "**Logistic Regression:**\n",
        "\n",
        "The false positive rate for the testing data is 41/200 and the true positive rate is 129/200.\n",
        "\n",
        "The confusion matrix helped us learn that there are more false negatives than false positives, meaning that it is more likely to incorrectly categorize a solo artist as a non-solo one based on dB, value, acousticness, and duration than to incorrectly classify a group artist as a solo one. This is significant to our initial research question which dealt with the log-odds of the success level of artist type (solo vs. duo/trio/group) and dB, value, acousticness, and duration.\n",
        "\n",
        "If I was a music blogger who exclusively liked to write about non-solo musicians such as bands and groups, these results would be significant to me. From that point of view, false negatives would be the worst thing to have. It would mean that I would potentially write about a solo artist while thinking they are a non-solo one and thereby wasting time. Not writing about a group because I thought they were a solo artist would be much less of a big deal.\n",
        "\n",
        "\n",
        "\n",
        "\n"
      ],
      "metadata": {
        "id": "MjBPQpbYQBbm"
      }
    },
    {
      "cell_type": "markdown",
      "source": [
        "**Future Work:**\n",
        "\n",
        "Future research questions might entail investigating the most popular artists (popularity ranking overall: amount of songs with high popularity level), and determining how the acoustical-makeup and/or genre of those songs influenced their popularity. This will answer questions like: To which artist(s) does the last decade belong?"
      ],
      "metadata": {
        "id": "srzVW9dwQKls"
      }
    },
    {
      "cell_type": "code",
      "source": [
        ""
      ],
      "metadata": {
        "id": "QELlAAEoBKyJ"
      },
      "execution_count": null,
      "outputs": []
    }
  ]
}